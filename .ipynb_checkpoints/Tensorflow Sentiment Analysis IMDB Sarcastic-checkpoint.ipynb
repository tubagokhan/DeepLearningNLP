{
 "cells": [
  {
   "cell_type": "markdown",
   "metadata": {
    "id": "DHhTfLI0AkGw"
   },
   "source": [
    "# Sentiment Analysis - Tokenizing news headlines for data preparation!\n",
    "The notebook covers the data preparation step by tokenizing the headlines and creating padded sequences of news headlines.\n",
    "\n",
    "Data preparation include the following steps:\n",
    "1. Download and read the data\n",
    "2. Segregate the headlines and their labels.\n",
    "3. Tokenize the headlines\n",
    "4. Create sequences and add padding."
   ]
  },
  {
   "cell_type": "code",
   "execution_count": 1,
   "metadata": {},
   "outputs": [
    {
     "name": "stdout",
     "output_type": "stream",
     "text": [
      "2.8.0\n"
     ]
    }
   ],
   "source": [
    "##import the required libraries and APIs\n",
    "\n",
    "import numpy as np\n",
    "import tensorflow as tf\n",
    "from tensorflow.keras.preprocessing.text import Tokenizer\n",
    "from tensorflow.keras.preprocessing.sequence import pad_sequences\n",
    "\n",
    "print(tf.__version__)"
   ]
  },
  {
   "cell_type": "markdown",
   "metadata": {
    "id": "8n1m0nTJ2YZk"
   },
   "source": [
    "## 1. Download and read the news headlines data\n",
    "\n",
    "This is a [kaggle dataset](https://www.kaggle.com/rmisra/news-headlines-dataset-for-sarcasm-detection) "
   ]
  },
  {
   "cell_type": "code",
   "execution_count": 2,
   "metadata": {
    "colab": {
     "base_uri": "https://localhost:8080/",
     "height": 202
    },
    "id": "nDDtuZMxFL45",
    "outputId": "eef7a7d6-46e6-42d0-e423-0ec7bc027848"
   },
   "outputs": [
    {
     "data": {
      "text/html": [
       "<div>\n",
       "<style scoped>\n",
       "    .dataframe tbody tr th:only-of-type {\n",
       "        vertical-align: middle;\n",
       "    }\n",
       "\n",
       "    .dataframe tbody tr th {\n",
       "        vertical-align: top;\n",
       "    }\n",
       "\n",
       "    .dataframe thead th {\n",
       "        text-align: right;\n",
       "    }\n",
       "</style>\n",
       "<table border=\"1\" class=\"dataframe\">\n",
       "  <thead>\n",
       "    <tr style=\"text-align: right;\">\n",
       "      <th></th>\n",
       "      <th>is_sarcastic</th>\n",
       "      <th>headline</th>\n",
       "      <th>article_link</th>\n",
       "    </tr>\n",
       "  </thead>\n",
       "  <tbody>\n",
       "    <tr>\n",
       "      <th>0</th>\n",
       "      <td>1</td>\n",
       "      <td>thirtysomething scientists unveil doomsday clo...</td>\n",
       "      <td>https://www.theonion.com/thirtysomething-scien...</td>\n",
       "    </tr>\n",
       "    <tr>\n",
       "      <th>1</th>\n",
       "      <td>0</td>\n",
       "      <td>dem rep. totally nails why congress is falling...</td>\n",
       "      <td>https://www.huffingtonpost.com/entry/donna-edw...</td>\n",
       "    </tr>\n",
       "    <tr>\n",
       "      <th>2</th>\n",
       "      <td>0</td>\n",
       "      <td>eat your veggies: 9 deliciously different recipes</td>\n",
       "      <td>https://www.huffingtonpost.com/entry/eat-your-...</td>\n",
       "    </tr>\n",
       "    <tr>\n",
       "      <th>3</th>\n",
       "      <td>1</td>\n",
       "      <td>inclement weather prevents liar from getting t...</td>\n",
       "      <td>https://local.theonion.com/inclement-weather-p...</td>\n",
       "    </tr>\n",
       "    <tr>\n",
       "      <th>4</th>\n",
       "      <td>1</td>\n",
       "      <td>mother comes pretty close to using word 'strea...</td>\n",
       "      <td>https://www.theonion.com/mother-comes-pretty-c...</td>\n",
       "    </tr>\n",
       "  </tbody>\n",
       "</table>\n",
       "</div>"
      ],
      "text/plain": [
       "   is_sarcastic                                           headline  \\\n",
       "0             1  thirtysomething scientists unveil doomsday clo...   \n",
       "1             0  dem rep. totally nails why congress is falling...   \n",
       "2             0  eat your veggies: 9 deliciously different recipes   \n",
       "3             1  inclement weather prevents liar from getting t...   \n",
       "4             1  mother comes pretty close to using word 'strea...   \n",
       "\n",
       "                                        article_link  \n",
       "0  https://www.theonion.com/thirtysomething-scien...  \n",
       "1  https://www.huffingtonpost.com/entry/donna-edw...  \n",
       "2  https://www.huffingtonpost.com/entry/eat-your-...  \n",
       "3  https://local.theonion.com/inclement-weather-p...  \n",
       "4  https://www.theonion.com/mother-comes-pretty-c...  "
      ]
     },
     "execution_count": 2,
     "metadata": {},
     "output_type": "execute_result"
    }
   ],
   "source": [
    "##read the data using the pandas library\n",
    "import pandas as pd\n",
    "\n",
    "data = pd.read_json(\"./x1.json\")\n",
    "data.head()"
   ]
  },
  {
   "cell_type": "code",
   "execution_count": 3,
   "metadata": {},
   "outputs": [
    {
     "name": "stdout",
     "output_type": "stream",
     "text": [
      "<class 'pandas.core.frame.DataFrame'>\n",
      "RangeIndex: 28619 entries, 0 to 28618\n",
      "Data columns (total 3 columns):\n",
      " #   Column        Non-Null Count  Dtype \n",
      "---  ------        --------------  ----- \n",
      " 0   is_sarcastic  28619 non-null  int64 \n",
      " 1   headline      28619 non-null  object\n",
      " 2   article_link  28619 non-null  object\n",
      "dtypes: int64(1), object(2)\n",
      "memory usage: 670.9+ KB\n"
     ]
    }
   ],
   "source": [
    "data.info()"
   ]
  },
  {
   "cell_type": "code",
   "execution_count": 4,
   "metadata": {
    "id": "U94MLAY4Op-R"
   },
   "outputs": [],
   "source": [
    "##create lists to store the headlines and labels\n",
    "headlines = list(data['headline'])\n",
    "labels = list(data['is_sarcastic'])"
   ]
  },
  {
   "cell_type": "markdown",
   "metadata": {},
   "source": [
    "## Set the parameters"
   ]
  },
  {
   "cell_type": "code",
   "execution_count": 5,
   "metadata": {},
   "outputs": [],
   "source": [
    "##define tokenizing and padding parameters\n",
    "vocab_size = 10000\n",
    "max_length = 120\n",
    "embedding_dim = 16\n",
    "trunc_type='post'\n",
    "padding_type='post'\n",
    "oov_tok = \"<OOV>\"\n",
    "training_size = 20000"
   ]
  },
  {
   "cell_type": "markdown",
   "metadata": {},
   "source": [
    "## Splitting the training and testing set"
   ]
  },
  {
   "cell_type": "code",
   "execution_count": 6,
   "metadata": {},
   "outputs": [],
   "source": [
    "##sentences\n",
    "training_sentences = headlines[0:training_size]\n",
    "testing_sentences = headlines[training_size:]\n",
    "\n",
    "##labels\n",
    "training_labels = labels[0:training_size]\n",
    "testing_labels = labels[training_size:]"
   ]
  },
  {
   "cell_type": "markdown",
   "metadata": {},
   "source": [
    "## Preprocess sentences"
   ]
  },
  {
   "cell_type": "code",
   "execution_count": 7,
   "metadata": {},
   "outputs": [],
   "source": [
    "tokenizer = Tokenizer(num_words=vocab_size, oov_token=oov_tok)\n",
    "tokenizer.fit_on_texts(training_sentences)\n",
    "\n",
    "word_index = tokenizer.word_index\n",
    "\n",
    "training_sequences = tokenizer.texts_to_sequences(training_sentences)\n",
    "training_padded = pad_sequences(training_sequences, maxlen=max_length, padding=padding_type, truncating=trunc_type)\n",
    "\n",
    "testing_sequences = tokenizer.texts_to_sequences(testing_sentences)\n",
    "testing_padded = pad_sequences(testing_sequences, maxlen=max_length, padding=padding_type, truncating=trunc_type)"
   ]
  },
  {
   "cell_type": "code",
   "execution_count": 8,
   "metadata": {},
   "outputs": [],
   "source": [
    "# convert lists into numpy arrays to make it work with TensorFlow 2.x\n",
    "training_padded = np.array(training_padded)\n",
    "training_labels = np.array(training_labels)\n",
    "testing_padded = np.array(testing_padded)\n",
    "testing_labels = np.array(testing_labels)"
   ]
  },
  {
   "cell_type": "markdown",
   "metadata": {},
   "source": [
    "## Define the neural network model with the following layers:\n",
    "1. Embedding layer\n",
    "2. Global Average pooling layer(1D)\n",
    "3. Dense layer with 24 nodes\n",
    "4. Output Dense layer with `sigmoid` activation "
   ]
  },
  {
   "cell_type": "code",
   "execution_count": 9,
   "metadata": {},
   "outputs": [],
   "source": [
    "model = tf.keras.Sequential([\n",
    "    tf.keras.layers.Embedding(vocab_size, embedding_dim, input_length=max_length),\n",
    "    tf.keras.layers.GlobalAveragePooling1D(), # or Flatten\n",
    "    tf.keras.layers.Dense(24, activation='relu'),\n",
    "    tf.keras.layers.Dense(1, activation='sigmoid')\n",
    "])\n",
    "\n",
    "##compile the model\n",
    "model.compile(loss='binary_crossentropy',optimizer='adam',metrics=['accuracy'])"
   ]
  },
  {
   "cell_type": "code",
   "execution_count": 10,
   "metadata": {},
   "outputs": [
    {
     "name": "stdout",
     "output_type": "stream",
     "text": [
      "Model: \"sequential\"\n",
      "_________________________________________________________________\n",
      " Layer (type)                Output Shape              Param #   \n",
      "=================================================================\n",
      " embedding (Embedding)       (None, 120, 16)           160000    \n",
      "                                                                 \n",
      " global_average_pooling1d (G  (None, 16)               0         \n",
      " lobalAveragePooling1D)                                          \n",
      "                                                                 \n",
      " dense (Dense)               (None, 24)                408       \n",
      "                                                                 \n",
      " dense_1 (Dense)             (None, 1)                 25        \n",
      "                                                                 \n",
      "=================================================================\n",
      "Total params: 160,433\n",
      "Trainable params: 160,433\n",
      "Non-trainable params: 0\n",
      "_________________________________________________________________\n"
     ]
    }
   ],
   "source": [
    "model.summary()"
   ]
  },
  {
   "cell_type": "markdown",
   "metadata": {},
   "source": [
    "## Train the model\n",
    "\n",
    "Save it into history"
   ]
  },
  {
   "cell_type": "code",
   "execution_count": 11,
   "metadata": {},
   "outputs": [
    {
     "name": "stdout",
     "output_type": "stream",
     "text": [
      "Epoch 1/30\n",
      "625/625 - 1s - loss: 0.6729 - accuracy: 0.5976 - val_loss: 0.5963 - val_accuracy: 0.8002 - 1s/epoch - 2ms/step\n",
      "Epoch 2/30\n",
      "625/625 - 1s - loss: 0.4587 - accuracy: 0.8209 - val_loss: 0.3920 - val_accuracy: 0.8336 - 829ms/epoch - 1ms/step\n",
      "Epoch 3/30\n",
      "625/625 - 1s - loss: 0.3350 - accuracy: 0.8655 - val_loss: 0.3502 - val_accuracy: 0.8484 - 955ms/epoch - 2ms/step\n",
      "Epoch 4/30\n",
      "625/625 - 1s - loss: 0.2833 - accuracy: 0.8885 - val_loss: 0.3390 - val_accuracy: 0.8520 - 1s/epoch - 2ms/step\n",
      "Epoch 5/30\n",
      "625/625 - 1s - loss: 0.2469 - accuracy: 0.9042 - val_loss: 0.3327 - val_accuracy: 0.8515 - 863ms/epoch - 1ms/step\n",
      "Epoch 6/30\n",
      "625/625 - 1s - loss: 0.2197 - accuracy: 0.9159 - val_loss: 0.3330 - val_accuracy: 0.8514 - 833ms/epoch - 1ms/step\n",
      "Epoch 7/30\n",
      "625/625 - 1s - loss: 0.1980 - accuracy: 0.9263 - val_loss: 0.3395 - val_accuracy: 0.8510 - 835ms/epoch - 1ms/step\n",
      "Epoch 8/30\n",
      "625/625 - 1s - loss: 0.1796 - accuracy: 0.9329 - val_loss: 0.3489 - val_accuracy: 0.8494 - 895ms/epoch - 1ms/step\n",
      "Epoch 9/30\n",
      "625/625 - 1s - loss: 0.1635 - accuracy: 0.9412 - val_loss: 0.3559 - val_accuracy: 0.8536 - 789ms/epoch - 1ms/step\n",
      "Epoch 10/30\n",
      "625/625 - 1s - loss: 0.1480 - accuracy: 0.9477 - val_loss: 0.3723 - val_accuracy: 0.8470 - 823ms/epoch - 1ms/step\n",
      "Epoch 11/30\n",
      "625/625 - 1s - loss: 0.1382 - accuracy: 0.9502 - val_loss: 0.3854 - val_accuracy: 0.8477 - 873ms/epoch - 1ms/step\n",
      "Epoch 12/30\n",
      "625/625 - 1s - loss: 0.1269 - accuracy: 0.9548 - val_loss: 0.4070 - val_accuracy: 0.8421 - 1s/epoch - 2ms/step\n",
      "Epoch 13/30\n",
      "625/625 - 1s - loss: 0.1184 - accuracy: 0.9590 - val_loss: 0.4239 - val_accuracy: 0.8399 - 845ms/epoch - 1ms/step\n",
      "Epoch 14/30\n",
      "625/625 - 1s - loss: 0.1070 - accuracy: 0.9642 - val_loss: 0.4677 - val_accuracy: 0.8337 - 816ms/epoch - 1ms/step\n",
      "Epoch 15/30\n",
      "625/625 - 1s - loss: 0.0990 - accuracy: 0.9666 - val_loss: 0.4715 - val_accuracy: 0.8354 - 833ms/epoch - 1ms/step\n",
      "Epoch 16/30\n",
      "625/625 - 1s - loss: 0.0917 - accuracy: 0.9696 - val_loss: 0.4900 - val_accuracy: 0.8322 - 832ms/epoch - 1ms/step\n",
      "Epoch 17/30\n",
      "625/625 - 1s - loss: 0.0845 - accuracy: 0.9729 - val_loss: 0.5139 - val_accuracy: 0.8305 - 846ms/epoch - 1ms/step\n",
      "Epoch 18/30\n",
      "625/625 - 1s - loss: 0.0780 - accuracy: 0.9756 - val_loss: 0.5718 - val_accuracy: 0.8269 - 900ms/epoch - 1ms/step\n",
      "Epoch 19/30\n",
      "625/625 - 1s - loss: 0.0735 - accuracy: 0.9762 - val_loss: 0.5703 - val_accuracy: 0.8255 - 854ms/epoch - 1ms/step\n",
      "Epoch 20/30\n",
      "625/625 - 1s - loss: 0.0679 - accuracy: 0.9779 - val_loss: 0.6041 - val_accuracy: 0.8236 - 906ms/epoch - 1ms/step\n",
      "Epoch 21/30\n",
      "625/625 - 1s - loss: 0.0625 - accuracy: 0.9808 - val_loss: 0.6313 - val_accuracy: 0.8238 - 816ms/epoch - 1ms/step\n",
      "Epoch 22/30\n",
      "625/625 - 1s - loss: 0.0591 - accuracy: 0.9809 - val_loss: 0.6663 - val_accuracy: 0.8187 - 816ms/epoch - 1ms/step\n",
      "Epoch 23/30\n",
      "625/625 - 1s - loss: 0.0545 - accuracy: 0.9839 - val_loss: 0.6941 - val_accuracy: 0.8194 - 814ms/epoch - 1ms/step\n",
      "Epoch 24/30\n",
      "625/625 - 1s - loss: 0.0498 - accuracy: 0.9851 - val_loss: 0.7229 - val_accuracy: 0.8178 - 816ms/epoch - 1ms/step\n",
      "Epoch 25/30\n",
      "625/625 - 1s - loss: 0.0484 - accuracy: 0.9858 - val_loss: 0.7619 - val_accuracy: 0.8180 - 798ms/epoch - 1ms/step\n",
      "Epoch 26/30\n",
      "625/625 - 1s - loss: 0.0430 - accuracy: 0.9885 - val_loss: 0.7888 - val_accuracy: 0.8163 - 815ms/epoch - 1ms/step\n",
      "Epoch 27/30\n",
      "625/625 - 1s - loss: 0.0392 - accuracy: 0.9892 - val_loss: 0.8191 - val_accuracy: 0.8142 - 881ms/epoch - 1ms/step\n",
      "Epoch 28/30\n",
      "625/625 - 1s - loss: 0.0383 - accuracy: 0.9891 - val_loss: 0.8957 - val_accuracy: 0.8105 - 813ms/epoch - 1ms/step\n",
      "Epoch 29/30\n",
      "625/625 - 1s - loss: 0.0345 - accuracy: 0.9908 - val_loss: 0.8820 - val_accuracy: 0.8125 - 801ms/epoch - 1ms/step\n",
      "Epoch 30/30\n",
      "625/625 - 1s - loss: 0.0307 - accuracy: 0.9926 - val_loss: 0.9318 - val_accuracy: 0.8051 - 830ms/epoch - 1ms/step\n"
     ]
    }
   ],
   "source": [
    "num_epochs = 30\n",
    "history = model.fit(training_padded, \n",
    "                    training_labels, \n",
    "                    epochs=num_epochs, \n",
    "                    validation_data=(testing_padded, testing_labels), \n",
    "                    verbose=2)"
   ]
  },
  {
   "cell_type": "code",
   "execution_count": 12,
   "metadata": {},
   "outputs": [],
   "source": [
    "## Visualise the train & validation accuracy and loss"
   ]
  },
  {
   "cell_type": "code",
   "execution_count": 13,
   "metadata": {},
   "outputs": [
    {
     "data": {
      "image/png": "[encoded data removed]",
      "text/plain": [
       "<Figure size 432x288 with 1 Axes>"
      ]
     },
     "metadata": {
      "needs_background": "light"
     },
     "output_type": "display_data"
    },
    {
     "data": {
      "image/png": "[encoded data removed]",
      "text/plain": [
       "<Figure size 432x288 with 1 Axes>"
      ]
     },
     "metadata": {
      "needs_background": "light"
     },
     "output_type": "display_data"
    }
   ],
   "source": [
    "import matplotlib.pyplot as plt\n",
    "\n",
    "##plot the scores from history\n",
    "def plot_graphs(history, string):\n",
    "  plt.plot(history.history[string])\n",
    "  plt.plot(history.history['val_'+string])\n",
    "  plt.legend([string, 'val_'+string])\n",
    "  plt.xlabel(\"Epochs\")\n",
    "  plt.ylabel(string)\n",
    "  plt.show()\n",
    "  \n",
    "plot_graphs(history, \"accuracy\")\n",
    "plot_graphs(history, \"loss\")"
   ]
  },
  {
   "cell_type": "markdown",
   "metadata": {},
   "source": [
    "## Classifying a new sentence"
   ]
  },
  {
   "cell_type": "code",
   "execution_count": 14,
   "metadata": {},
   "outputs": [
    {
     "name": "stdout",
     "output_type": "stream",
     "text": [
      "[[1.6337633e-04]\n",
      " [5.6844270e-05]]\n"
     ]
    }
   ],
   "source": [
    "sentence = [\"the baby boy fears spiders in the garden might be real\", \"game of thrones season finale showing this sunday night\"]\n",
    "\n",
    "##prepare the sequences of the sentences in question\n",
    "sequences = tokenizer.texts_to_sequences(sentence)\n",
    "padded_seqs = pad_sequences(sequences, maxlen=max_length, padding=padding_type, truncating=trunc_type)\n",
    "\n",
    "print(model.predict(padded_seqs))"
   ]
  },
  {
   "cell_type": "code",
   "execution_count": null,
   "metadata": {},
   "outputs": [],
   "source": []
  }
 ],
 "metadata": {
  "colab": {
   "authorship_tag": "ABX9TyPETKNiYZsFvcC215GAp9SV",
   "include_colab_link": true,
   "name": "01_05_challenge.ipynb",
   "provenance": []
  },
  "kernelspec": {
   "display_name": "Python 3",
   "language": "python",
   "name": "python3"
  },
  "language_info": {
   "codemirror_mode": {
    "name": "ipython",
    "version": 3
   },
   "file_extension": ".py",
   "mimetype": "text/x-python",
   "name": "python",
   "nbconvert_exporter": "python",
   "pygments_lexer": "ipython3",
   "version": "3.8.5"
  }
 },
 "nbformat": 4,
 "nbformat_minor": 1
}
