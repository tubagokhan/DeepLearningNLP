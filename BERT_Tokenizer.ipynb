{
  "nbformat": 4,
  "nbformat_minor": 0,
  "metadata": {
    "colab": {
      "provenance": [],
      "private_outputs": true,
      "machine_shape": "hm",
      "gpuType": "A100",
      "include_colab_link": true
    },
    "kernelspec": {
      "name": "python3",
      "display_name": "Python 3"
    },
    "language_info": {
      "name": "python"
    },
    "accelerator": "GPU"
  },
  "cells": [
    {
      "cell_type": "markdown",
      "metadata": {
        "id": "view-in-github",
        "colab_type": "text"
      },
      "source": [
        "<a href=\"https://colab.research.google.com/github/tubagokhan/DeepLearningNLPFoundations/blob/main/BERT_Tokenizer.ipynb\" target=\"_parent\"><img src=\"https://colab.research.google.com/assets/colab-badge.svg\" alt=\"Open In Colab\"/></a>"
      ]
    },
    {
      "cell_type": "markdown",
      "metadata": {
        "id": "imrEPOXXxNI_"
      },
      "source": [
        "# TF2.0 Tokenizers"
      ]
    },
    {
      "cell_type": "code",
      "metadata": {
        "id": "vjRaAuXgZ9yp"
      },
      "source": [
        "%%capture\n",
        "!pip install -q -U tensorflow-text\n",
        "!pip install -q tf-models-official==2.4.0"
      ],
      "execution_count": null,
      "outputs": []
    },
    {
      "cell_type": "code",
      "metadata": {
        "id": "-wS1OLI5aBIj"
      },
      "source": [
        "import tensorflow as tf\n",
        "import tensorflow_hub \n",
        "import tensorflow_text\n",
        "from official.nlp import bert\n",
        "import official.nlp.bert.tokenization\n",
        "import os"
      ],
      "execution_count": null,
      "outputs": []
    },
    {
      "cell_type": "code",
      "metadata": {
        "id": "0F8aatOisIZV"
      },
      "source": [
        "gs_folder_bert = \"gs://cloud-tpu-checkpoints/bert/v3/uncased_L-12_H-768_A-12\"\n",
        "tf.io.gfile.listdir(gs_folder_bert)"
      ],
      "execution_count": null,
      "outputs": []
    },
    {
      "cell_type": "code",
      "metadata": {
        "id": "E1_Ha4SBsTvx"
      },
      "source": [
        "tokenizer = bert.tokenization.FullTokenizer(\n",
        "    vocab_file=os.path.join(gs_folder_bert, \"vocab.txt\"),\n",
        "     do_lower_case=True)\n",
        "\n",
        "print(\"Vocab size:\", len(tokenizer.vocab))"
      ],
      "execution_count": null,
      "outputs": []
    },
    {
      "cell_type": "code",
      "metadata": {
        "id": "PCYk3huVaIRi"
      },
      "source": [
        "bert_model_name = 'bert_en_uncased_L-12_H-768_A-12'\n",
        "tfhub_handle_preprocess = 'https://tfhub.dev/tensorflow/bert_en_uncased_preprocess/3'\n",
        "bert_preprocess_model = tensorflow_hub.KerasLayer(tfhub_handle_preprocess)"
      ],
      "execution_count": null,
      "outputs": []
    },
    {
      "cell_type": "code",
      "metadata": {
        "id": "ZyuA_C-qvFbe"
      },
      "source": [
        "sentence = 'I like NLP'\n",
        "tokens = tokenizer.tokenize(sentence)\n",
        "print(tokens)\n",
        "ids = tokenizer.convert_tokens_to_ids(tokens)\n",
        "print(ids)"
      ],
      "execution_count": null,
      "outputs": []
    },
    {
      "cell_type": "code",
      "metadata": {
        "id": "eu6Ilp-AajuT"
      },
      "source": [
        "sentences = ['I like NLP.',\n",
        "             'what about you?']\n",
        "text_preprocessed = bert_preprocess_model(sentences)\n",
        "text_preprocessed"
      ],
      "execution_count": null,
      "outputs": []
    },
    {
      "cell_type": "markdown",
      "metadata": {
        "id": "tJ7IrdrKKsuT"
      },
      "source": [
        "Normally BERT has a max sequence length of 512. Here we use a sequence length of 128."
      ]
    },
    {
      "cell_type": "code",
      "metadata": {
        "id": "c7b1ClWqbLY1"
      },
      "source": [
        "text_preprocessed[\"input_word_ids\"].shape"
      ],
      "execution_count": null,
      "outputs": []
    },
    {
      "cell_type": "code",
      "metadata": {
        "id": "SqQodRjDblLI"
      },
      "source": [
        "text_preprocessed[\"input_word_ids\"]"
      ],
      "execution_count": null,
      "outputs": []
    },
    {
      "cell_type": "code",
      "metadata": {
        "id": "KGsRM21kbvdl"
      },
      "source": [
        "text_preprocessed[\"input_mask\"]"
      ],
      "execution_count": null,
      "outputs": []
    }
  ]
}