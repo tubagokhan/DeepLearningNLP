{
 "cells": [
  {
   "cell_type": "markdown",
   "metadata": {
    "id": "NCYsbCuZ5ZcD"
   },
   "source": [
    "**PyTorch tensor**\n",
    "\n",
    "A tensor is a data structure or data container we use in PyTorch for carrying arrays of numbers.\n",
    "\n",
    "**a. Creating a tensor**"
   ]
  },
  {
   "cell_type": "code",
   "execution_count": 9,
   "metadata": {
    "executionInfo": {
     "elapsed": 4,
     "status": "ok",
     "timestamp": 1645313260626,
     "user": {
      "displayName": "Zhongyu Pan",
      "photoUrl": "https://lh3.googleusercontent.com/a-/AOh14GgmO8eVgFGOq4F8rXKQmTQzAq_EsO4w3y7XEU5F7w=s64",
      "userId": "00060245009473894752"
     },
     "user_tz": 480
    },
    "id": "4QDcgyo1p3E1"
   },
   "outputs": [
    {
     "name": "stdout",
     "output_type": "stream",
     "text": [
      "Requirement already satisfied: torch in c:\\users\\tuba\\anaconda3\\lib\\site-packages (1.12.0)\n",
      "Requirement already satisfied: typing_extensions in c:\\users\\tuba\\anaconda3\\lib\\site-packages (from torch) (3.7.4.3)\n",
      "Note: you may need to restart the kernel to use updated packages.\n"
     ]
    },
    {
     "name": "stderr",
     "output_type": "stream",
     "text": [
      "WARNING: Ignoring invalid distribution -qdm (c:\\users\\tuba\\anaconda3\\lib\\site-packages)\n",
      "WARNING: Ignoring invalid distribution -qdm (c:\\users\\tuba\\anaconda3\\lib\\site-packages)\n",
      "WARNING: Ignoring invalid distribution -qdm (c:\\users\\tuba\\anaconda3\\lib\\site-packages)\n",
      "WARNING: Ignoring invalid distribution -qdm (c:\\users\\tuba\\anaconda3\\lib\\site-packages)\n",
      "WARNING: Ignoring invalid distribution -qdm (c:\\users\\tuba\\anaconda3\\lib\\site-packages)\n",
      "WARNING: Ignoring invalid distribution -qdm (c:\\users\\tuba\\anaconda3\\lib\\site-packages)\n",
      "WARNING: You are using pip version 21.3.1; however, version 23.1.2 is available.\n",
      "You should consider upgrading via the 'C:\\Users\\TUBA\\anaconda3\\python.exe -m pip install --upgrade pip' command.\n"
     ]
    }
   ],
   "source": [
    "pip install torch"
   ]
  },
  {
   "cell_type": "code",
   "execution_count": 10,
   "metadata": {
    "id": "CuV5OrPJ8aTG"
   },
   "outputs": [],
   "source": [
    "import torch\n",
    "import numpy as np"
   ]
  },
  {
   "cell_type": "code",
   "execution_count": 11,
   "metadata": {
    "executionInfo": {
     "elapsed": 151,
     "status": "ok",
     "timestamp": 1645313322802,
     "user": {
      "displayName": "Zhongyu Pan",
      "photoUrl": "https://lh3.googleusercontent.com/a-/AOh14GgmO8eVgFGOq4F8rXKQmTQzAq_EsO4w3y7XEU5F7w=s64",
      "userId": "00060245009473894752"
     },
     "user_tz": 480
    },
    "id": "W2a2Pv03VC6T"
   },
   "outputs": [
    {
     "name": "stdout",
     "output_type": "stream",
     "text": [
      "tensor([[1, 2],\n",
      "        [7, 4],\n",
      "        [5, 6]])\n",
      "The data structure type of tensor0:  <class 'torch.Tensor'>\n",
      "The data type of tensor0:  torch.int64\n",
      "The shape of tensor0:  torch.Size([3, 2])\n"
     ]
    }
   ],
   "source": [
    "# Construct a tensor from an array\n",
    "array = [[1, 2], [7, 4], [5, 6]]\n",
    "tensor0 = torch.tensor(array)\n",
    "print(tensor0)\n",
    "print(\"The data structure type of tensor0: \", type(tensor0))\n",
    "print(\"The data type of tensor0: \", tensor0.dtype)\n",
    "print(\"The shape of tensor0: \", tensor0.shape)"
   ]
  },
  {
   "cell_type": "code",
   "execution_count": 12,
   "metadata": {
    "executionInfo": {
     "elapsed": 5,
     "status": "ok",
     "timestamp": 1645313331155,
     "user": {
      "displayName": "Zhongyu Pan",
      "photoUrl": "https://lh3.googleusercontent.com/a-/AOh14GgmO8eVgFGOq4F8rXKQmTQzAq_EsO4w3y7XEU5F7w=s64",
      "userId": "00060245009473894752"
     },
     "user_tz": 480
    },
    "id": "RJbcImRI8ccN"
   },
   "outputs": [
    {
     "name": "stdout",
     "output_type": "stream",
     "text": [
      "tensor([[1, 2],\n",
      "        [7, 4],\n",
      "        [5, 6]], dtype=torch.int32)\n"
     ]
    }
   ],
   "source": [
    "# Construct a tensor from a numpy array\n",
    "np_array = np.array([[1, 2], [7, 4], [5, 6]])\n",
    "tensor1 = torch.tensor(np_array)\n",
    "print(tensor1)"
   ]
  },
  {
   "cell_type": "markdown",
   "metadata": {
    "id": "0aLWNPD36Xhk"
   },
   "source": [
    "**b. Common Methods: Slicing and Concatenation**\n",
    "\n",
    "*Slicing*"
   ]
  },
  {
   "cell_type": "code",
   "execution_count": 13,
   "metadata": {
    "id": "Ih8oB57hsDaT"
   },
   "outputs": [],
   "source": [
    "tensorA = torch.tensor([[1, 1, 1], [2, 2, 2]])\n",
    "tensorB = torch.tensor([[3, 3, 3], [4, 4, 4]])"
   ]
  },
  {
   "cell_type": "code",
   "execution_count": 14,
   "metadata": {
    "executionInfo": {
     "elapsed": 4,
     "status": "ok",
     "timestamp": 1645313340540,
     "user": {
      "displayName": "Zhongyu Pan",
      "photoUrl": "https://lh3.googleusercontent.com/a-/AOh14GgmO8eVgFGOq4F8rXKQmTQzAq_EsO4w3y7XEU5F7w=s64",
      "userId": "00060245009473894752"
     },
     "user_tz": 480
    },
    "id": "YsXfH05t9eY8"
   },
   "outputs": [
    {
     "name": "stdout",
     "output_type": "stream",
     "text": [
      "Slicing the first two rows of tensorA (index one inclusive index two exclusive): \n",
      "tensor([[1, 1, 1],\n",
      "        [2, 2, 2]])\n",
      "Slicing the first two columns of tensorA (take all rows, then slice columns): \n",
      "tensor([[1, 1],\n",
      "        [2, 2]])\n"
     ]
    }
   ],
   "source": [
    "# Slicing is all the same as numpy arrays\n",
    "print('Slicing the first two rows of tensorA (index one inclusive index two exclusive): ')\n",
    "print(tensorA[:2])\n",
    "print('Slicing the first two columns of tensorA (take all rows, then slice columns): ')\n",
    "print(tensorA[:, :2])"
   ]
  },
  {
   "cell_type": "markdown",
   "metadata": {
    "id": "Hn4NdJvuciFW"
   },
   "source": [
    "*Concatenation*"
   ]
  },
  {
   "cell_type": "code",
   "execution_count": 15,
   "metadata": {
    "executionInfo": {
     "elapsed": 3,
     "status": "ok",
     "timestamp": 1645313351796,
     "user": {
      "displayName": "Zhongyu Pan",
      "photoUrl": "https://lh3.googleusercontent.com/a-/AOh14GgmO8eVgFGOq4F8rXKQmTQzAq_EsO4w3y7XEU5F7w=s64",
      "userId": "00060245009473894752"
     },
     "user_tz": 480
    },
    "id": "WLUhrXYoFn53"
   },
   "outputs": [
    {
     "name": "stdout",
     "output_type": "stream",
     "text": [
      "Vertically concatenate tensorA and tensorB: (default: dim=0)\n",
      "tensor([[1, 1, 1],\n",
      "        [2, 2, 2],\n",
      "        [3, 3, 3],\n",
      "        [4, 4, 4]])\n"
     ]
    }
   ],
   "source": [
    "print('Vertically concatenate tensorA and tensorB: (default: dim=0)')\n",
    "concat_v = torch.cat([tensorA, tensorB])\n",
    "print(concat_v)"
   ]
  },
  {
   "cell_type": "code",
   "execution_count": 16,
   "metadata": {
    "executionInfo": {
     "elapsed": 2,
     "status": "ok",
     "timestamp": 1645313359536,
     "user": {
      "displayName": "Zhongyu Pan",
      "photoUrl": "https://lh3.googleusercontent.com/a-/AOh14GgmO8eVgFGOq4F8rXKQmTQzAq_EsO4w3y7XEU5F7w=s64",
      "userId": "00060245009473894752"
     },
     "user_tz": 480
    },
    "id": "FzU279m9GbEj"
   },
   "outputs": [
    {
     "name": "stdout",
     "output_type": "stream",
     "text": [
      "Horizontally concatenate tensorA and tensorB: (dim=1)\n",
      "tensor([[1, 1, 1, 3, 3, 3],\n",
      "        [2, 2, 2, 4, 4, 4]])\n"
     ]
    }
   ],
   "source": [
    "print('Horizontally concatenate tensorA and tensorB: (dim=1)')\n",
    "concat_h = torch.cat([tensorA, tensorB], dim=1)\n",
    "print(concat_h)"
   ]
  },
  {
   "cell_type": "code",
   "execution_count": null,
   "metadata": {},
   "outputs": [],
   "source": []
  }
 ],
 "metadata": {
  "colab": {
   "authorship_tag": "ABX9TyM17x3P3dnI098cW0oTYZyo",
   "collapsed_sections": [],
   "name": "02-02b.ipynb",
   "provenance": []
  },
  "kernelspec": {
   "display_name": "Python 3",
   "language": "python",
   "name": "python3"
  },
  "language_info": {
   "codemirror_mode": {
    "name": "ipython",
    "version": 3
   },
   "file_extension": ".py",
   "mimetype": "text/x-python",
   "name": "python",
   "nbconvert_exporter": "python",
   "pygments_lexer": "ipython3",
   "version": "3.8.5"
  }
 },
 "nbformat": 4,
 "nbformat_minor": 1
}
