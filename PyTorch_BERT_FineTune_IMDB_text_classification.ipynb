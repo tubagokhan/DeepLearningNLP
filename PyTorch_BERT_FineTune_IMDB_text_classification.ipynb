{
  "nbformat": 4,
  "nbformat_minor": 0,
  "metadata": {
    "colab": {
      "provenance": [],
      "machine_shape": "hm",
      "gpuType": "A100",
      "include_colab_link": true
    },
    "kernelspec": {
      "name": "python3",
      "display_name": "Python 3"
    },
    "language_info": {
      "name": "python"
    },
    "accelerator": "GPU",
    "widgets": {
      "application/vnd.jupyter.widget-state+json": {
        "5b17f3d81fbe456aa3422b9ead5a6ea0": {
          "model_module": "@jupyter-widgets/controls",
          "model_name": "HBoxModel",
          "model_module_version": "1.5.0",
          "state": {
            "_dom_classes": [],
            "_model_module": "@jupyter-widgets/controls",
            "_model_module_version": "1.5.0",
            "_model_name": "HBoxModel",
            "_view_count": null,
            "_view_module": "@jupyter-widgets/controls",
            "_view_module_version": "1.5.0",
            "_view_name": "HBoxView",
            "box_style": "",
            "children": [
              "IPY_MODEL_a5b05cfd2d034e26840534826463c63d",
              "IPY_MODEL_746950823d12473f8206ae29201ca884",
              "IPY_MODEL_2137dc1d4e0d42c79ddcbd8eee3e7e9c"
            ],
            "layout": "IPY_MODEL_9aadd2fd3f2d45708898736b2f11ba1b"
          }
        },
        "a5b05cfd2d034e26840534826463c63d": {
          "model_module": "@jupyter-widgets/controls",
          "model_name": "HTMLModel",
          "model_module_version": "1.5.0",
          "state": {
            "_dom_classes": [],
            "_model_module": "@jupyter-widgets/controls",
            "_model_module_version": "1.5.0",
            "_model_name": "HTMLModel",
            "_view_count": null,
            "_view_module": "@jupyter-widgets/controls",
            "_view_module_version": "1.5.0",
            "_view_name": "HTMLView",
            "description": "",
            "description_tooltip": null,
            "layout": "IPY_MODEL_14d01b36adc14bb78ae55517413098e5",
            "placeholder": "​",
            "style": "IPY_MODEL_88c2dfcbedb74536a16df20f23e4d82f",
            "value": "100%"
          }
        },
        "746950823d12473f8206ae29201ca884": {
          "model_module": "@jupyter-widgets/controls",
          "model_name": "FloatProgressModel",
          "model_module_version": "1.5.0",
          "state": {
            "_dom_classes": [],
            "_model_module": "@jupyter-widgets/controls",
            "_model_module_version": "1.5.0",
            "_model_name": "FloatProgressModel",
            "_view_count": null,
            "_view_module": "@jupyter-widgets/controls",
            "_view_module_version": "1.5.0",
            "_view_name": "ProgressView",
            "bar_style": "success",
            "description": "",
            "description_tooltip": null,
            "layout": "IPY_MODEL_d9807be9017c467197810b2c357a9b61",
            "max": 3,
            "min": 0,
            "orientation": "horizontal",
            "style": "IPY_MODEL_fabafbcfcba9458087858dc52296990d",
            "value": 3
          }
        },
        "2137dc1d4e0d42c79ddcbd8eee3e7e9c": {
          "model_module": "@jupyter-widgets/controls",
          "model_name": "HTMLModel",
          "model_module_version": "1.5.0",
          "state": {
            "_dom_classes": [],
            "_model_module": "@jupyter-widgets/controls",
            "_model_module_version": "1.5.0",
            "_model_name": "HTMLModel",
            "_view_count": null,
            "_view_module": "@jupyter-widgets/controls",
            "_view_module_version": "1.5.0",
            "_view_name": "HTMLView",
            "description": "",
            "description_tooltip": null,
            "layout": "IPY_MODEL_d76654dacb744fc7abef8ccbbd9d298e",
            "placeholder": "​",
            "style": "IPY_MODEL_9a2512266c7046539c067afa88c0f432",
            "value": " 3/3 [00:00&lt;00:00, 143.28it/s]"
          }
        },
        "9aadd2fd3f2d45708898736b2f11ba1b": {
          "model_module": "@jupyter-widgets/base",
          "model_name": "LayoutModel",
          "model_module_version": "1.2.0",
          "state": {
            "_model_module": "@jupyter-widgets/base",
            "_model_module_version": "1.2.0",
            "_model_name": "LayoutModel",
            "_view_count": null,
            "_view_module": "@jupyter-widgets/base",
            "_view_module_version": "1.2.0",
            "_view_name": "LayoutView",
            "align_content": null,
            "align_items": null,
            "align_self": null,
            "border": null,
            "bottom": null,
            "display": null,
            "flex": null,
            "flex_flow": null,
            "grid_area": null,
            "grid_auto_columns": null,
            "grid_auto_flow": null,
            "grid_auto_rows": null,
            "grid_column": null,
            "grid_gap": null,
            "grid_row": null,
            "grid_template_areas": null,
            "grid_template_columns": null,
            "grid_template_rows": null,
            "height": null,
            "justify_content": null,
            "justify_items": null,
            "left": null,
            "margin": null,
            "max_height": null,
            "max_width": null,
            "min_height": null,
            "min_width": null,
            "object_fit": null,
            "object_position": null,
            "order": null,
            "overflow": null,
            "overflow_x": null,
            "overflow_y": null,
            "padding": null,
            "right": null,
            "top": null,
            "visibility": null,
            "width": null
          }
        },
        "14d01b36adc14bb78ae55517413098e5": {
          "model_module": "@jupyter-widgets/base",
          "model_name": "LayoutModel",
          "model_module_version": "1.2.0",
          "state": {
            "_model_module": "@jupyter-widgets/base",
            "_model_module_version": "1.2.0",
            "_model_name": "LayoutModel",
            "_view_count": null,
            "_view_module": "@jupyter-widgets/base",
            "_view_module_version": "1.2.0",
            "_view_name": "LayoutView",
            "align_content": null,
            "align_items": null,
            "align_self": null,
            "border": null,
            "bottom": null,
            "display": null,
            "flex": null,
            "flex_flow": null,
            "grid_area": null,
            "grid_auto_columns": null,
            "grid_auto_flow": null,
            "grid_auto_rows": null,
            "grid_column": null,
            "grid_gap": null,
            "grid_row": null,
            "grid_template_areas": null,
            "grid_template_columns": null,
            "grid_template_rows": null,
            "height": null,
            "justify_content": null,
            "justify_items": null,
            "left": null,
            "margin": null,
            "max_height": null,
            "max_width": null,
            "min_height": null,
            "min_width": null,
            "object_fit": null,
            "object_position": null,
            "order": null,
            "overflow": null,
            "overflow_x": null,
            "overflow_y": null,
            "padding": null,
            "right": null,
            "top": null,
            "visibility": null,
            "width": null
          }
        },
        "88c2dfcbedb74536a16df20f23e4d82f": {
          "model_module": "@jupyter-widgets/controls",
          "model_name": "DescriptionStyleModel",
          "model_module_version": "1.5.0",
          "state": {
            "_model_module": "@jupyter-widgets/controls",
            "_model_module_version": "1.5.0",
            "_model_name": "DescriptionStyleModel",
            "_view_count": null,
            "_view_module": "@jupyter-widgets/base",
            "_view_module_version": "1.2.0",
            "_view_name": "StyleView",
            "description_width": ""
          }
        },
        "d9807be9017c467197810b2c357a9b61": {
          "model_module": "@jupyter-widgets/base",
          "model_name": "LayoutModel",
          "model_module_version": "1.2.0",
          "state": {
            "_model_module": "@jupyter-widgets/base",
            "_model_module_version": "1.2.0",
            "_model_name": "LayoutModel",
            "_view_count": null,
            "_view_module": "@jupyter-widgets/base",
            "_view_module_version": "1.2.0",
            "_view_name": "LayoutView",
            "align_content": null,
            "align_items": null,
            "align_self": null,
            "border": null,
            "bottom": null,
            "display": null,
            "flex": null,
            "flex_flow": null,
            "grid_area": null,
            "grid_auto_columns": null,
            "grid_auto_flow": null,
            "grid_auto_rows": null,
            "grid_column": null,
            "grid_gap": null,
            "grid_row": null,
            "grid_template_areas": null,
            "grid_template_columns": null,
            "grid_template_rows": null,
            "height": null,
            "justify_content": null,
            "justify_items": null,
            "left": null,
            "margin": null,
            "max_height": null,
            "max_width": null,
            "min_height": null,
            "min_width": null,
            "object_fit": null,
            "object_position": null,
            "order": null,
            "overflow": null,
            "overflow_x": null,
            "overflow_y": null,
            "padding": null,
            "right": null,
            "top": null,
            "visibility": null,
            "width": null
          }
        },
        "fabafbcfcba9458087858dc52296990d": {
          "model_module": "@jupyter-widgets/controls",
          "model_name": "ProgressStyleModel",
          "model_module_version": "1.5.0",
          "state": {
            "_model_module": "@jupyter-widgets/controls",
            "_model_module_version": "1.5.0",
            "_model_name": "ProgressStyleModel",
            "_view_count": null,
            "_view_module": "@jupyter-widgets/base",
            "_view_module_version": "1.2.0",
            "_view_name": "StyleView",
            "bar_color": null,
            "description_width": ""
          }
        },
        "d76654dacb744fc7abef8ccbbd9d298e": {
          "model_module": "@jupyter-widgets/base",
          "model_name": "LayoutModel",
          "model_module_version": "1.2.0",
          "state": {
            "_model_module": "@jupyter-widgets/base",
            "_model_module_version": "1.2.0",
            "_model_name": "LayoutModel",
            "_view_count": null,
            "_view_module": "@jupyter-widgets/base",
            "_view_module_version": "1.2.0",
            "_view_name": "LayoutView",
            "align_content": null,
            "align_items": null,
            "align_self": null,
            "border": null,
            "bottom": null,
            "display": null,
            "flex": null,
            "flex_flow": null,
            "grid_area": null,
            "grid_auto_columns": null,
            "grid_auto_flow": null,
            "grid_auto_rows": null,
            "grid_column": null,
            "grid_gap": null,
            "grid_row": null,
            "grid_template_areas": null,
            "grid_template_columns": null,
            "grid_template_rows": null,
            "height": null,
            "justify_content": null,
            "justify_items": null,
            "left": null,
            "margin": null,
            "max_height": null,
            "max_width": null,
            "min_height": null,
            "min_width": null,
            "object_fit": null,
            "object_position": null,
            "order": null,
            "overflow": null,
            "overflow_x": null,
            "overflow_y": null,
            "padding": null,
            "right": null,
            "top": null,
            "visibility": null,
            "width": null
          }
        },
        "9a2512266c7046539c067afa88c0f432": {
          "model_module": "@jupyter-widgets/controls",
          "model_name": "DescriptionStyleModel",
          "model_module_version": "1.5.0",
          "state": {
            "_model_module": "@jupyter-widgets/controls",
            "_model_module_version": "1.5.0",
            "_model_name": "DescriptionStyleModel",
            "_view_count": null,
            "_view_module": "@jupyter-widgets/base",
            "_view_module_version": "1.2.0",
            "_view_name": "StyleView",
            "description_width": ""
          }
        },
        "d221c8c55a6748b3904d01e05707ca83": {
          "model_module": "@jupyter-widgets/controls",
          "model_name": "HBoxModel",
          "model_module_version": "1.5.0",
          "state": {
            "_dom_classes": [],
            "_model_module": "@jupyter-widgets/controls",
            "_model_module_version": "1.5.0",
            "_model_name": "HBoxModel",
            "_view_count": null,
            "_view_module": "@jupyter-widgets/controls",
            "_view_module_version": "1.5.0",
            "_view_name": "HBoxView",
            "box_style": "",
            "children": [
              "IPY_MODEL_195ca5e3eb4f42a6b70b3ebe5d5c77cf",
              "IPY_MODEL_839dcde87f8f4a07acad616df22a4f7c",
              "IPY_MODEL_d0a46b4360b1439f9b41346812480669"
            ],
            "layout": "IPY_MODEL_2aa4f24d89f045a69f28634508e983b9"
          }
        },
        "195ca5e3eb4f42a6b70b3ebe5d5c77cf": {
          "model_module": "@jupyter-widgets/controls",
          "model_name": "HTMLModel",
          "model_module_version": "1.5.0",
          "state": {
            "_dom_classes": [],
            "_model_module": "@jupyter-widgets/controls",
            "_model_module_version": "1.5.0",
            "_model_name": "HTMLModel",
            "_view_count": null,
            "_view_module": "@jupyter-widgets/controls",
            "_view_module_version": "1.5.0",
            "_view_name": "HTMLView",
            "description": "",
            "description_tooltip": null,
            "layout": "IPY_MODEL_828ee10d7967457380132c5ac6c5c8fe",
            "placeholder": "​",
            "style": "IPY_MODEL_5bfa1e752f8843d0b92b72e8e25c7baa",
            "value": "Map: 100%"
          }
        },
        "839dcde87f8f4a07acad616df22a4f7c": {
          "model_module": "@jupyter-widgets/controls",
          "model_name": "FloatProgressModel",
          "model_module_version": "1.5.0",
          "state": {
            "_dom_classes": [],
            "_model_module": "@jupyter-widgets/controls",
            "_model_module_version": "1.5.0",
            "_model_name": "FloatProgressModel",
            "_view_count": null,
            "_view_module": "@jupyter-widgets/controls",
            "_view_module_version": "1.5.0",
            "_view_name": "ProgressView",
            "bar_style": "",
            "description": "",
            "description_tooltip": null,
            "layout": "IPY_MODEL_5e9283c0397c41258b4dd4bca5e8b327",
            "max": 1600,
            "min": 0,
            "orientation": "horizontal",
            "style": "IPY_MODEL_e880a0cd0ef640dfae25e67607503aad",
            "value": 1600
          }
        },
        "d0a46b4360b1439f9b41346812480669": {
          "model_module": "@jupyter-widgets/controls",
          "model_name": "HTMLModel",
          "model_module_version": "1.5.0",
          "state": {
            "_dom_classes": [],
            "_model_module": "@jupyter-widgets/controls",
            "_model_module_version": "1.5.0",
            "_model_name": "HTMLModel",
            "_view_count": null,
            "_view_module": "@jupyter-widgets/controls",
            "_view_module_version": "1.5.0",
            "_view_name": "HTMLView",
            "description": "",
            "description_tooltip": null,
            "layout": "IPY_MODEL_f11ff58f5005483db93f393790ff8de9",
            "placeholder": "​",
            "style": "IPY_MODEL_8eb3b63f5d894172a028575df95d6799",
            "value": " 1600/1600 [00:00&lt;00:00, 2914.14 examples/s]"
          }
        },
        "2aa4f24d89f045a69f28634508e983b9": {
          "model_module": "@jupyter-widgets/base",
          "model_name": "LayoutModel",
          "model_module_version": "1.2.0",
          "state": {
            "_model_module": "@jupyter-widgets/base",
            "_model_module_version": "1.2.0",
            "_model_name": "LayoutModel",
            "_view_count": null,
            "_view_module": "@jupyter-widgets/base",
            "_view_module_version": "1.2.0",
            "_view_name": "LayoutView",
            "align_content": null,
            "align_items": null,
            "align_self": null,
            "border": null,
            "bottom": null,
            "display": null,
            "flex": null,
            "flex_flow": null,
            "grid_area": null,
            "grid_auto_columns": null,
            "grid_auto_flow": null,
            "grid_auto_rows": null,
            "grid_column": null,
            "grid_gap": null,
            "grid_row": null,
            "grid_template_areas": null,
            "grid_template_columns": null,
            "grid_template_rows": null,
            "height": null,
            "justify_content": null,
            "justify_items": null,
            "left": null,
            "margin": null,
            "max_height": null,
            "max_width": null,
            "min_height": null,
            "min_width": null,
            "object_fit": null,
            "object_position": null,
            "order": null,
            "overflow": null,
            "overflow_x": null,
            "overflow_y": null,
            "padding": null,
            "right": null,
            "top": null,
            "visibility": "hidden",
            "width": null
          }
        },
        "828ee10d7967457380132c5ac6c5c8fe": {
          "model_module": "@jupyter-widgets/base",
          "model_name": "LayoutModel",
          "model_module_version": "1.2.0",
          "state": {
            "_model_module": "@jupyter-widgets/base",
            "_model_module_version": "1.2.0",
            "_model_name": "LayoutModel",
            "_view_count": null,
            "_view_module": "@jupyter-widgets/base",
            "_view_module_version": "1.2.0",
            "_view_name": "LayoutView",
            "align_content": null,
            "align_items": null,
            "align_self": null,
            "border": null,
            "bottom": null,
            "display": null,
            "flex": null,
            "flex_flow": null,
            "grid_area": null,
            "grid_auto_columns": null,
            "grid_auto_flow": null,
            "grid_auto_rows": null,
            "grid_column": null,
            "grid_gap": null,
            "grid_row": null,
            "grid_template_areas": null,
            "grid_template_columns": null,
            "grid_template_rows": null,
            "height": null,
            "justify_content": null,
            "justify_items": null,
            "left": null,
            "margin": null,
            "max_height": null,
            "max_width": null,
            "min_height": null,
            "min_width": null,
            "object_fit": null,
            "object_position": null,
            "order": null,
            "overflow": null,
            "overflow_x": null,
            "overflow_y": null,
            "padding": null,
            "right": null,
            "top": null,
            "visibility": null,
            "width": null
          }
        },
        "5bfa1e752f8843d0b92b72e8e25c7baa": {
          "model_module": "@jupyter-widgets/controls",
          "model_name": "DescriptionStyleModel",
          "model_module_version": "1.5.0",
          "state": {
            "_model_module": "@jupyter-widgets/controls",
            "_model_module_version": "1.5.0",
            "_model_name": "DescriptionStyleModel",
            "_view_count": null,
            "_view_module": "@jupyter-widgets/base",
            "_view_module_version": "1.2.0",
            "_view_name": "StyleView",
            "description_width": ""
          }
        },
        "5e9283c0397c41258b4dd4bca5e8b327": {
          "model_module": "@jupyter-widgets/base",
          "model_name": "LayoutModel",
          "model_module_version": "1.2.0",
          "state": {
            "_model_module": "@jupyter-widgets/base",
            "_model_module_version": "1.2.0",
            "_model_name": "LayoutModel",
            "_view_count": null,
            "_view_module": "@jupyter-widgets/base",
            "_view_module_version": "1.2.0",
            "_view_name": "LayoutView",
            "align_content": null,
            "align_items": null,
            "align_self": null,
            "border": null,
            "bottom": null,
            "display": null,
            "flex": null,
            "flex_flow": null,
            "grid_area": null,
            "grid_auto_columns": null,
            "grid_auto_flow": null,
            "grid_auto_rows": null,
            "grid_column": null,
            "grid_gap": null,
            "grid_row": null,
            "grid_template_areas": null,
            "grid_template_columns": null,
            "grid_template_rows": null,
            "height": null,
            "justify_content": null,
            "justify_items": null,
            "left": null,
            "margin": null,
            "max_height": null,
            "max_width": null,
            "min_height": null,
            "min_width": null,
            "object_fit": null,
            "object_position": null,
            "order": null,
            "overflow": null,
            "overflow_x": null,
            "overflow_y": null,
            "padding": null,
            "right": null,
            "top": null,
            "visibility": null,
            "width": null
          }
        },
        "e880a0cd0ef640dfae25e67607503aad": {
          "model_module": "@jupyter-widgets/controls",
          "model_name": "ProgressStyleModel",
          "model_module_version": "1.5.0",
          "state": {
            "_model_module": "@jupyter-widgets/controls",
            "_model_module_version": "1.5.0",
            "_model_name": "ProgressStyleModel",
            "_view_count": null,
            "_view_module": "@jupyter-widgets/base",
            "_view_module_version": "1.2.0",
            "_view_name": "StyleView",
            "bar_color": null,
            "description_width": ""
          }
        },
        "f11ff58f5005483db93f393790ff8de9": {
          "model_module": "@jupyter-widgets/base",
          "model_name": "LayoutModel",
          "model_module_version": "1.2.0",
          "state": {
            "_model_module": "@jupyter-widgets/base",
            "_model_module_version": "1.2.0",
            "_model_name": "LayoutModel",
            "_view_count": null,
            "_view_module": "@jupyter-widgets/base",
            "_view_module_version": "1.2.0",
            "_view_name": "LayoutView",
            "align_content": null,
            "align_items": null,
            "align_self": null,
            "border": null,
            "bottom": null,
            "display": null,
            "flex": null,
            "flex_flow": null,
            "grid_area": null,
            "grid_auto_columns": null,
            "grid_auto_flow": null,
            "grid_auto_rows": null,
            "grid_column": null,
            "grid_gap": null,
            "grid_row": null,
            "grid_template_areas": null,
            "grid_template_columns": null,
            "grid_template_rows": null,
            "height": null,
            "justify_content": null,
            "justify_items": null,
            "left": null,
            "margin": null,
            "max_height": null,
            "max_width": null,
            "min_height": null,
            "min_width": null,
            "object_fit": null,
            "object_position": null,
            "order": null,
            "overflow": null,
            "overflow_x": null,
            "overflow_y": null,
            "padding": null,
            "right": null,
            "top": null,
            "visibility": null,
            "width": null
          }
        },
        "8eb3b63f5d894172a028575df95d6799": {
          "model_module": "@jupyter-widgets/controls",
          "model_name": "DescriptionStyleModel",
          "model_module_version": "1.5.0",
          "state": {
            "_model_module": "@jupyter-widgets/controls",
            "_model_module_version": "1.5.0",
            "_model_name": "DescriptionStyleModel",
            "_view_count": null,
            "_view_module": "@jupyter-widgets/base",
            "_view_module_version": "1.2.0",
            "_view_name": "StyleView",
            "description_width": ""
          }
        },
        "9aa03e18beb14301be8086e6e7970676": {
          "model_module": "@jupyter-widgets/controls",
          "model_name": "HBoxModel",
          "model_module_version": "1.5.0",
          "state": {
            "_dom_classes": [],
            "_model_module": "@jupyter-widgets/controls",
            "_model_module_version": "1.5.0",
            "_model_name": "HBoxModel",
            "_view_count": null,
            "_view_module": "@jupyter-widgets/controls",
            "_view_module_version": "1.5.0",
            "_view_name": "HBoxView",
            "box_style": "",
            "children": [
              "IPY_MODEL_a151817f9a1f4f8bb8295c67d3e0c4a2",
              "IPY_MODEL_28390defec0e4a8db7287d9178371c9d",
              "IPY_MODEL_61b1b79fbd034d11b66429c5b94b5703"
            ],
            "layout": "IPY_MODEL_7a5d554e465b45dea56f2df1e467ce4f"
          }
        },
        "a151817f9a1f4f8bb8295c67d3e0c4a2": {
          "model_module": "@jupyter-widgets/controls",
          "model_name": "HTMLModel",
          "model_module_version": "1.5.0",
          "state": {
            "_dom_classes": [],
            "_model_module": "@jupyter-widgets/controls",
            "_model_module_version": "1.5.0",
            "_model_name": "HTMLModel",
            "_view_count": null,
            "_view_module": "@jupyter-widgets/controls",
            "_view_module_version": "1.5.0",
            "_view_name": "HTMLView",
            "description": "",
            "description_tooltip": null,
            "layout": "IPY_MODEL_08df21d7638c4c05a641401aa164cb20",
            "placeholder": "​",
            "style": "IPY_MODEL_6a776de051dc44f592a691e45f164643",
            "value": "Map: 100%"
          }
        },
        "28390defec0e4a8db7287d9178371c9d": {
          "model_module": "@jupyter-widgets/controls",
          "model_name": "FloatProgressModel",
          "model_module_version": "1.5.0",
          "state": {
            "_dom_classes": [],
            "_model_module": "@jupyter-widgets/controls",
            "_model_module_version": "1.5.0",
            "_model_name": "FloatProgressModel",
            "_view_count": null,
            "_view_module": "@jupyter-widgets/controls",
            "_view_module_version": "1.5.0",
            "_view_name": "ProgressView",
            "bar_style": "",
            "description": "",
            "description_tooltip": null,
            "layout": "IPY_MODEL_a5f2d7505367456189081ef5fa134d11",
            "max": 400,
            "min": 0,
            "orientation": "horizontal",
            "style": "IPY_MODEL_7340594517e7446ab6d125a5b635f53e",
            "value": 400
          }
        },
        "61b1b79fbd034d11b66429c5b94b5703": {
          "model_module": "@jupyter-widgets/controls",
          "model_name": "HTMLModel",
          "model_module_version": "1.5.0",
          "state": {
            "_dom_classes": [],
            "_model_module": "@jupyter-widgets/controls",
            "_model_module_version": "1.5.0",
            "_model_name": "HTMLModel",
            "_view_count": null,
            "_view_module": "@jupyter-widgets/controls",
            "_view_module_version": "1.5.0",
            "_view_name": "HTMLView",
            "description": "",
            "description_tooltip": null,
            "layout": "IPY_MODEL_abb98504665e479e98f8a578d9d17248",
            "placeholder": "​",
            "style": "IPY_MODEL_359ef396318a4024ae56a775b53c407d",
            "value": " 400/400 [00:00&lt;00:00, 2198.51 examples/s]"
          }
        },
        "7a5d554e465b45dea56f2df1e467ce4f": {
          "model_module": "@jupyter-widgets/base",
          "model_name": "LayoutModel",
          "model_module_version": "1.2.0",
          "state": {
            "_model_module": "@jupyter-widgets/base",
            "_model_module_version": "1.2.0",
            "_model_name": "LayoutModel",
            "_view_count": null,
            "_view_module": "@jupyter-widgets/base",
            "_view_module_version": "1.2.0",
            "_view_name": "LayoutView",
            "align_content": null,
            "align_items": null,
            "align_self": null,
            "border": null,
            "bottom": null,
            "display": null,
            "flex": null,
            "flex_flow": null,
            "grid_area": null,
            "grid_auto_columns": null,
            "grid_auto_flow": null,
            "grid_auto_rows": null,
            "grid_column": null,
            "grid_gap": null,
            "grid_row": null,
            "grid_template_areas": null,
            "grid_template_columns": null,
            "grid_template_rows": null,
            "height": null,
            "justify_content": null,
            "justify_items": null,
            "left": null,
            "margin": null,
            "max_height": null,
            "max_width": null,
            "min_height": null,
            "min_width": null,
            "object_fit": null,
            "object_position": null,
            "order": null,
            "overflow": null,
            "overflow_x": null,
            "overflow_y": null,
            "padding": null,
            "right": null,
            "top": null,
            "visibility": "hidden",
            "width": null
          }
        },
        "08df21d7638c4c05a641401aa164cb20": {
          "model_module": "@jupyter-widgets/base",
          "model_name": "LayoutModel",
          "model_module_version": "1.2.0",
          "state": {
            "_model_module": "@jupyter-widgets/base",
            "_model_module_version": "1.2.0",
            "_model_name": "LayoutModel",
            "_view_count": null,
            "_view_module": "@jupyter-widgets/base",
            "_view_module_version": "1.2.0",
            "_view_name": "LayoutView",
            "align_content": null,
            "align_items": null,
            "align_self": null,
            "border": null,
            "bottom": null,
            "display": null,
            "flex": null,
            "flex_flow": null,
            "grid_area": null,
            "grid_auto_columns": null,
            "grid_auto_flow": null,
            "grid_auto_rows": null,
            "grid_column": null,
            "grid_gap": null,
            "grid_row": null,
            "grid_template_areas": null,
            "grid_template_columns": null,
            "grid_template_rows": null,
            "height": null,
            "justify_content": null,
            "justify_items": null,
            "left": null,
            "margin": null,
            "max_height": null,
            "max_width": null,
            "min_height": null,
            "min_width": null,
            "object_fit": null,
            "object_position": null,
            "order": null,
            "overflow": null,
            "overflow_x": null,
            "overflow_y": null,
            "padding": null,
            "right": null,
            "top": null,
            "visibility": null,
            "width": null
          }
        },
        "6a776de051dc44f592a691e45f164643": {
          "model_module": "@jupyter-widgets/controls",
          "model_name": "DescriptionStyleModel",
          "model_module_version": "1.5.0",
          "state": {
            "_model_module": "@jupyter-widgets/controls",
            "_model_module_version": "1.5.0",
            "_model_name": "DescriptionStyleModel",
            "_view_count": null,
            "_view_module": "@jupyter-widgets/base",
            "_view_module_version": "1.2.0",
            "_view_name": "StyleView",
            "description_width": ""
          }
        },
        "a5f2d7505367456189081ef5fa134d11": {
          "model_module": "@jupyter-widgets/base",
          "model_name": "LayoutModel",
          "model_module_version": "1.2.0",
          "state": {
            "_model_module": "@jupyter-widgets/base",
            "_model_module_version": "1.2.0",
            "_model_name": "LayoutModel",
            "_view_count": null,
            "_view_module": "@jupyter-widgets/base",
            "_view_module_version": "1.2.0",
            "_view_name": "LayoutView",
            "align_content": null,
            "align_items": null,
            "align_self": null,
            "border": null,
            "bottom": null,
            "display": null,
            "flex": null,
            "flex_flow": null,
            "grid_area": null,
            "grid_auto_columns": null,
            "grid_auto_flow": null,
            "grid_auto_rows": null,
            "grid_column": null,
            "grid_gap": null,
            "grid_row": null,
            "grid_template_areas": null,
            "grid_template_columns": null,
            "grid_template_rows": null,
            "height": null,
            "justify_content": null,
            "justify_items": null,
            "left": null,
            "margin": null,
            "max_height": null,
            "max_width": null,
            "min_height": null,
            "min_width": null,
            "object_fit": null,
            "object_position": null,
            "order": null,
            "overflow": null,
            "overflow_x": null,
            "overflow_y": null,
            "padding": null,
            "right": null,
            "top": null,
            "visibility": null,
            "width": null
          }
        },
        "7340594517e7446ab6d125a5b635f53e": {
          "model_module": "@jupyter-widgets/controls",
          "model_name": "ProgressStyleModel",
          "model_module_version": "1.5.0",
          "state": {
            "_model_module": "@jupyter-widgets/controls",
            "_model_module_version": "1.5.0",
            "_model_name": "ProgressStyleModel",
            "_view_count": null,
            "_view_module": "@jupyter-widgets/base",
            "_view_module_version": "1.2.0",
            "_view_name": "StyleView",
            "bar_color": null,
            "description_width": ""
          }
        },
        "abb98504665e479e98f8a578d9d17248": {
          "model_module": "@jupyter-widgets/base",
          "model_name": "LayoutModel",
          "model_module_version": "1.2.0",
          "state": {
            "_model_module": "@jupyter-widgets/base",
            "_model_module_version": "1.2.0",
            "_model_name": "LayoutModel",
            "_view_count": null,
            "_view_module": "@jupyter-widgets/base",
            "_view_module_version": "1.2.0",
            "_view_name": "LayoutView",
            "align_content": null,
            "align_items": null,
            "align_self": null,
            "border": null,
            "bottom": null,
            "display": null,
            "flex": null,
            "flex_flow": null,
            "grid_area": null,
            "grid_auto_columns": null,
            "grid_auto_flow": null,
            "grid_auto_rows": null,
            "grid_column": null,
            "grid_gap": null,
            "grid_row": null,
            "grid_template_areas": null,
            "grid_template_columns": null,
            "grid_template_rows": null,
            "height": null,
            "justify_content": null,
            "justify_items": null,
            "left": null,
            "margin": null,
            "max_height": null,
            "max_width": null,
            "min_height": null,
            "min_width": null,
            "object_fit": null,
            "object_position": null,
            "order": null,
            "overflow": null,
            "overflow_x": null,
            "overflow_y": null,
            "padding": null,
            "right": null,
            "top": null,
            "visibility": null,
            "width": null
          }
        },
        "359ef396318a4024ae56a775b53c407d": {
          "model_module": "@jupyter-widgets/controls",
          "model_name": "DescriptionStyleModel",
          "model_module_version": "1.5.0",
          "state": {
            "_model_module": "@jupyter-widgets/controls",
            "_model_module_version": "1.5.0",
            "_model_name": "DescriptionStyleModel",
            "_view_count": null,
            "_view_module": "@jupyter-widgets/base",
            "_view_module_version": "1.2.0",
            "_view_name": "StyleView",
            "description_width": ""
          }
        },
        "a6a18aaf551445b3900d0dfb74bd884c": {
          "model_module": "@jupyter-widgets/controls",
          "model_name": "HBoxModel",
          "model_module_version": "1.5.0",
          "state": {
            "_dom_classes": [],
            "_model_module": "@jupyter-widgets/controls",
            "_model_module_version": "1.5.0",
            "_model_name": "HBoxModel",
            "_view_count": null,
            "_view_module": "@jupyter-widgets/controls",
            "_view_module_version": "1.5.0",
            "_view_name": "HBoxView",
            "box_style": "",
            "children": [
              "IPY_MODEL_5a219c16dc454af7a3241a9cdd83d1b0",
              "IPY_MODEL_4b83904917364bc78ad26fcdd5e9af23",
              "IPY_MODEL_8ae1660f41d24fb2a2df472a3c864cbc"
            ],
            "layout": "IPY_MODEL_644faf133a584cc8a51752dcd4e03421"
          }
        },
        "5a219c16dc454af7a3241a9cdd83d1b0": {
          "model_module": "@jupyter-widgets/controls",
          "model_name": "HTMLModel",
          "model_module_version": "1.5.0",
          "state": {
            "_dom_classes": [],
            "_model_module": "@jupyter-widgets/controls",
            "_model_module_version": "1.5.0",
            "_model_name": "HTMLModel",
            "_view_count": null,
            "_view_module": "@jupyter-widgets/controls",
            "_view_module_version": "1.5.0",
            "_view_name": "HTMLView",
            "description": "",
            "description_tooltip": null,
            "layout": "IPY_MODEL_086fa3cfb6c94eb0a44d8baba6ac6001",
            "placeholder": "​",
            "style": "IPY_MODEL_92055604c39b4f4ab4fa01f8560f7966",
            "value": "Map:   0%"
          }
        },
        "4b83904917364bc78ad26fcdd5e9af23": {
          "model_module": "@jupyter-widgets/controls",
          "model_name": "FloatProgressModel",
          "model_module_version": "1.5.0",
          "state": {
            "_dom_classes": [],
            "_model_module": "@jupyter-widgets/controls",
            "_model_module_version": "1.5.0",
            "_model_name": "FloatProgressModel",
            "_view_count": null,
            "_view_module": "@jupyter-widgets/controls",
            "_view_module_version": "1.5.0",
            "_view_name": "ProgressView",
            "bar_style": "",
            "description": "",
            "description_tooltip": null,
            "layout": "IPY_MODEL_75c374ce969f486a998fd05b908522ae",
            "max": 50,
            "min": 0,
            "orientation": "horizontal",
            "style": "IPY_MODEL_ddd283590ece47efaadc41930064863e",
            "value": 50
          }
        },
        "8ae1660f41d24fb2a2df472a3c864cbc": {
          "model_module": "@jupyter-widgets/controls",
          "model_name": "HTMLModel",
          "model_module_version": "1.5.0",
          "state": {
            "_dom_classes": [],
            "_model_module": "@jupyter-widgets/controls",
            "_model_module_version": "1.5.0",
            "_model_name": "HTMLModel",
            "_view_count": null,
            "_view_module": "@jupyter-widgets/controls",
            "_view_module_version": "1.5.0",
            "_view_name": "HTMLView",
            "description": "",
            "description_tooltip": null,
            "layout": "IPY_MODEL_1d21dda56aa74b8aa2a51c919ac2d3b8",
            "placeholder": "​",
            "style": "IPY_MODEL_997dd106c1654565b4fdfdf198b8facc",
            "value": " 0/50 [00:00&lt;?, ? examples/s]"
          }
        },
        "644faf133a584cc8a51752dcd4e03421": {
          "model_module": "@jupyter-widgets/base",
          "model_name": "LayoutModel",
          "model_module_version": "1.2.0",
          "state": {
            "_model_module": "@jupyter-widgets/base",
            "_model_module_version": "1.2.0",
            "_model_name": "LayoutModel",
            "_view_count": null,
            "_view_module": "@jupyter-widgets/base",
            "_view_module_version": "1.2.0",
            "_view_name": "LayoutView",
            "align_content": null,
            "align_items": null,
            "align_self": null,
            "border": null,
            "bottom": null,
            "display": null,
            "flex": null,
            "flex_flow": null,
            "grid_area": null,
            "grid_auto_columns": null,
            "grid_auto_flow": null,
            "grid_auto_rows": null,
            "grid_column": null,
            "grid_gap": null,
            "grid_row": null,
            "grid_template_areas": null,
            "grid_template_columns": null,
            "grid_template_rows": null,
            "height": null,
            "justify_content": null,
            "justify_items": null,
            "left": null,
            "margin": null,
            "max_height": null,
            "max_width": null,
            "min_height": null,
            "min_width": null,
            "object_fit": null,
            "object_position": null,
            "order": null,
            "overflow": null,
            "overflow_x": null,
            "overflow_y": null,
            "padding": null,
            "right": null,
            "top": null,
            "visibility": "hidden",
            "width": null
          }
        },
        "086fa3cfb6c94eb0a44d8baba6ac6001": {
          "model_module": "@jupyter-widgets/base",
          "model_name": "LayoutModel",
          "model_module_version": "1.2.0",
          "state": {
            "_model_module": "@jupyter-widgets/base",
            "_model_module_version": "1.2.0",
            "_model_name": "LayoutModel",
            "_view_count": null,
            "_view_module": "@jupyter-widgets/base",
            "_view_module_version": "1.2.0",
            "_view_name": "LayoutView",
            "align_content": null,
            "align_items": null,
            "align_self": null,
            "border": null,
            "bottom": null,
            "display": null,
            "flex": null,
            "flex_flow": null,
            "grid_area": null,
            "grid_auto_columns": null,
            "grid_auto_flow": null,
            "grid_auto_rows": null,
            "grid_column": null,
            "grid_gap": null,
            "grid_row": null,
            "grid_template_areas": null,
            "grid_template_columns": null,
            "grid_template_rows": null,
            "height": null,
            "justify_content": null,
            "justify_items": null,
            "left": null,
            "margin": null,
            "max_height": null,
            "max_width": null,
            "min_height": null,
            "min_width": null,
            "object_fit": null,
            "object_position": null,
            "order": null,
            "overflow": null,
            "overflow_x": null,
            "overflow_y": null,
            "padding": null,
            "right": null,
            "top": null,
            "visibility": null,
            "width": null
          }
        },
        "92055604c39b4f4ab4fa01f8560f7966": {
          "model_module": "@jupyter-widgets/controls",
          "model_name": "DescriptionStyleModel",
          "model_module_version": "1.5.0",
          "state": {
            "_model_module": "@jupyter-widgets/controls",
            "_model_module_version": "1.5.0",
            "_model_name": "DescriptionStyleModel",
            "_view_count": null,
            "_view_module": "@jupyter-widgets/base",
            "_view_module_version": "1.2.0",
            "_view_name": "StyleView",
            "description_width": ""
          }
        },
        "75c374ce969f486a998fd05b908522ae": {
          "model_module": "@jupyter-widgets/base",
          "model_name": "LayoutModel",
          "model_module_version": "1.2.0",
          "state": {
            "_model_module": "@jupyter-widgets/base",
            "_model_module_version": "1.2.0",
            "_model_name": "LayoutModel",
            "_view_count": null,
            "_view_module": "@jupyter-widgets/base",
            "_view_module_version": "1.2.0",
            "_view_name": "LayoutView",
            "align_content": null,
            "align_items": null,
            "align_self": null,
            "border": null,
            "bottom": null,
            "display": null,
            "flex": null,
            "flex_flow": null,
            "grid_area": null,
            "grid_auto_columns": null,
            "grid_auto_flow": null,
            "grid_auto_rows": null,
            "grid_column": null,
            "grid_gap": null,
            "grid_row": null,
            "grid_template_areas": null,
            "grid_template_columns": null,
            "grid_template_rows": null,
            "height": null,
            "justify_content": null,
            "justify_items": null,
            "left": null,
            "margin": null,
            "max_height": null,
            "max_width": null,
            "min_height": null,
            "min_width": null,
            "object_fit": null,
            "object_position": null,
            "order": null,
            "overflow": null,
            "overflow_x": null,
            "overflow_y": null,
            "padding": null,
            "right": null,
            "top": null,
            "visibility": null,
            "width": null
          }
        },
        "ddd283590ece47efaadc41930064863e": {
          "model_module": "@jupyter-widgets/controls",
          "model_name": "ProgressStyleModel",
          "model_module_version": "1.5.0",
          "state": {
            "_model_module": "@jupyter-widgets/controls",
            "_model_module_version": "1.5.0",
            "_model_name": "ProgressStyleModel",
            "_view_count": null,
            "_view_module": "@jupyter-widgets/base",
            "_view_module_version": "1.2.0",
            "_view_name": "StyleView",
            "bar_color": null,
            "description_width": ""
          }
        },
        "1d21dda56aa74b8aa2a51c919ac2d3b8": {
          "model_module": "@jupyter-widgets/base",
          "model_name": "LayoutModel",
          "model_module_version": "1.2.0",
          "state": {
            "_model_module": "@jupyter-widgets/base",
            "_model_module_version": "1.2.0",
            "_model_name": "LayoutModel",
            "_view_count": null,
            "_view_module": "@jupyter-widgets/base",
            "_view_module_version": "1.2.0",
            "_view_name": "LayoutView",
            "align_content": null,
            "align_items": null,
            "align_self": null,
            "border": null,
            "bottom": null,
            "display": null,
            "flex": null,
            "flex_flow": null,
            "grid_area": null,
            "grid_auto_columns": null,
            "grid_auto_flow": null,
            "grid_auto_rows": null,
            "grid_column": null,
            "grid_gap": null,
            "grid_row": null,
            "grid_template_areas": null,
            "grid_template_columns": null,
            "grid_template_rows": null,
            "height": null,
            "justify_content": null,
            "justify_items": null,
            "left": null,
            "margin": null,
            "max_height": null,
            "max_width": null,
            "min_height": null,
            "min_width": null,
            "object_fit": null,
            "object_position": null,
            "order": null,
            "overflow": null,
            "overflow_x": null,
            "overflow_y": null,
            "padding": null,
            "right": null,
            "top": null,
            "visibility": null,
            "width": null
          }
        },
        "997dd106c1654565b4fdfdf198b8facc": {
          "model_module": "@jupyter-widgets/controls",
          "model_name": "DescriptionStyleModel",
          "model_module_version": "1.5.0",
          "state": {
            "_model_module": "@jupyter-widgets/controls",
            "_model_module_version": "1.5.0",
            "_model_name": "DescriptionStyleModel",
            "_view_count": null,
            "_view_module": "@jupyter-widgets/base",
            "_view_module_version": "1.2.0",
            "_view_name": "StyleView",
            "description_width": ""
          }
        },
        "5a0567ca0d09452aa3f6410ff40b8b9e": {
          "model_module": "@jupyter-widgets/controls",
          "model_name": "HBoxModel",
          "model_module_version": "1.5.0",
          "state": {
            "_dom_classes": [],
            "_model_module": "@jupyter-widgets/controls",
            "_model_module_version": "1.5.0",
            "_model_name": "HBoxModel",
            "_view_count": null,
            "_view_module": "@jupyter-widgets/controls",
            "_view_module_version": "1.5.0",
            "_view_name": "HBoxView",
            "box_style": "",
            "children": [
              "IPY_MODEL_f8da8d164ae34dc582cd47482195656f",
              "IPY_MODEL_2d8caf6d06204afab893ddc82d71c373",
              "IPY_MODEL_ad98be9557a24ebc9417e42747fcf125"
            ],
            "layout": "IPY_MODEL_7671f4ea21164d41bbaa2cd51c1d2ed3"
          }
        },
        "f8da8d164ae34dc582cd47482195656f": {
          "model_module": "@jupyter-widgets/controls",
          "model_name": "HTMLModel",
          "model_module_version": "1.5.0",
          "state": {
            "_dom_classes": [],
            "_model_module": "@jupyter-widgets/controls",
            "_model_module_version": "1.5.0",
            "_model_name": "HTMLModel",
            "_view_count": null,
            "_view_module": "@jupyter-widgets/controls",
            "_view_module_version": "1.5.0",
            "_view_name": "HTMLView",
            "description": "",
            "description_tooltip": null,
            "layout": "IPY_MODEL_984698c6142145e48d59b495d2df64a3",
            "placeholder": "​",
            "style": "IPY_MODEL_c02a3435898a4e6fb18e8a0ebf875f75",
            "value": "Map:   0%"
          }
        },
        "2d8caf6d06204afab893ddc82d71c373": {
          "model_module": "@jupyter-widgets/controls",
          "model_name": "FloatProgressModel",
          "model_module_version": "1.5.0",
          "state": {
            "_dom_classes": [],
            "_model_module": "@jupyter-widgets/controls",
            "_model_module_version": "1.5.0",
            "_model_name": "FloatProgressModel",
            "_view_count": null,
            "_view_module": "@jupyter-widgets/controls",
            "_view_module_version": "1.5.0",
            "_view_name": "ProgressView",
            "bar_style": "",
            "description": "",
            "description_tooltip": null,
            "layout": "IPY_MODEL_6e207a6a5da64addabb35415ab4860d9",
            "max": 10,
            "min": 0,
            "orientation": "horizontal",
            "style": "IPY_MODEL_db9f48b291f741d4b12e0fd593792a34",
            "value": 10
          }
        },
        "ad98be9557a24ebc9417e42747fcf125": {
          "model_module": "@jupyter-widgets/controls",
          "model_name": "HTMLModel",
          "model_module_version": "1.5.0",
          "state": {
            "_dom_classes": [],
            "_model_module": "@jupyter-widgets/controls",
            "_model_module_version": "1.5.0",
            "_model_name": "HTMLModel",
            "_view_count": null,
            "_view_module": "@jupyter-widgets/controls",
            "_view_module_version": "1.5.0",
            "_view_name": "HTMLView",
            "description": "",
            "description_tooltip": null,
            "layout": "IPY_MODEL_dc38b8b4e7eb4dd883954834f3c7d380",
            "placeholder": "​",
            "style": "IPY_MODEL_6e816f41a6f64293a5703cb836803cb4",
            "value": " 0/10 [00:00&lt;?, ? examples/s]"
          }
        },
        "7671f4ea21164d41bbaa2cd51c1d2ed3": {
          "model_module": "@jupyter-widgets/base",
          "model_name": "LayoutModel",
          "model_module_version": "1.2.0",
          "state": {
            "_model_module": "@jupyter-widgets/base",
            "_model_module_version": "1.2.0",
            "_model_name": "LayoutModel",
            "_view_count": null,
            "_view_module": "@jupyter-widgets/base",
            "_view_module_version": "1.2.0",
            "_view_name": "LayoutView",
            "align_content": null,
            "align_items": null,
            "align_self": null,
            "border": null,
            "bottom": null,
            "display": null,
            "flex": null,
            "flex_flow": null,
            "grid_area": null,
            "grid_auto_columns": null,
            "grid_auto_flow": null,
            "grid_auto_rows": null,
            "grid_column": null,
            "grid_gap": null,
            "grid_row": null,
            "grid_template_areas": null,
            "grid_template_columns": null,
            "grid_template_rows": null,
            "height": null,
            "justify_content": null,
            "justify_items": null,
            "left": null,
            "margin": null,
            "max_height": null,
            "max_width": null,
            "min_height": null,
            "min_width": null,
            "object_fit": null,
            "object_position": null,
            "order": null,
            "overflow": null,
            "overflow_x": null,
            "overflow_y": null,
            "padding": null,
            "right": null,
            "top": null,
            "visibility": "hidden",
            "width": null
          }
        },
        "984698c6142145e48d59b495d2df64a3": {
          "model_module": "@jupyter-widgets/base",
          "model_name": "LayoutModel",
          "model_module_version": "1.2.0",
          "state": {
            "_model_module": "@jupyter-widgets/base",
            "_model_module_version": "1.2.0",
            "_model_name": "LayoutModel",
            "_view_count": null,
            "_view_module": "@jupyter-widgets/base",
            "_view_module_version": "1.2.0",
            "_view_name": "LayoutView",
            "align_content": null,
            "align_items": null,
            "align_self": null,
            "border": null,
            "bottom": null,
            "display": null,
            "flex": null,
            "flex_flow": null,
            "grid_area": null,
            "grid_auto_columns": null,
            "grid_auto_flow": null,
            "grid_auto_rows": null,
            "grid_column": null,
            "grid_gap": null,
            "grid_row": null,
            "grid_template_areas": null,
            "grid_template_columns": null,
            "grid_template_rows": null,
            "height": null,
            "justify_content": null,
            "justify_items": null,
            "left": null,
            "margin": null,
            "max_height": null,
            "max_width": null,
            "min_height": null,
            "min_width": null,
            "object_fit": null,
            "object_position": null,
            "order": null,
            "overflow": null,
            "overflow_x": null,
            "overflow_y": null,
            "padding": null,
            "right": null,
            "top": null,
            "visibility": null,
            "width": null
          }
        },
        "c02a3435898a4e6fb18e8a0ebf875f75": {
          "model_module": "@jupyter-widgets/controls",
          "model_name": "DescriptionStyleModel",
          "model_module_version": "1.5.0",
          "state": {
            "_model_module": "@jupyter-widgets/controls",
            "_model_module_version": "1.5.0",
            "_model_name": "DescriptionStyleModel",
            "_view_count": null,
            "_view_module": "@jupyter-widgets/base",
            "_view_module_version": "1.2.0",
            "_view_name": "StyleView",
            "description_width": ""
          }
        },
        "6e207a6a5da64addabb35415ab4860d9": {
          "model_module": "@jupyter-widgets/base",
          "model_name": "LayoutModel",
          "model_module_version": "1.2.0",
          "state": {
            "_model_module": "@jupyter-widgets/base",
            "_model_module_version": "1.2.0",
            "_model_name": "LayoutModel",
            "_view_count": null,
            "_view_module": "@jupyter-widgets/base",
            "_view_module_version": "1.2.0",
            "_view_name": "LayoutView",
            "align_content": null,
            "align_items": null,
            "align_self": null,
            "border": null,
            "bottom": null,
            "display": null,
            "flex": null,
            "flex_flow": null,
            "grid_area": null,
            "grid_auto_columns": null,
            "grid_auto_flow": null,
            "grid_auto_rows": null,
            "grid_column": null,
            "grid_gap": null,
            "grid_row": null,
            "grid_template_areas": null,
            "grid_template_columns": null,
            "grid_template_rows": null,
            "height": null,
            "justify_content": null,
            "justify_items": null,
            "left": null,
            "margin": null,
            "max_height": null,
            "max_width": null,
            "min_height": null,
            "min_width": null,
            "object_fit": null,
            "object_position": null,
            "order": null,
            "overflow": null,
            "overflow_x": null,
            "overflow_y": null,
            "padding": null,
            "right": null,
            "top": null,
            "visibility": null,
            "width": null
          }
        },
        "db9f48b291f741d4b12e0fd593792a34": {
          "model_module": "@jupyter-widgets/controls",
          "model_name": "ProgressStyleModel",
          "model_module_version": "1.5.0",
          "state": {
            "_model_module": "@jupyter-widgets/controls",
            "_model_module_version": "1.5.0",
            "_model_name": "ProgressStyleModel",
            "_view_count": null,
            "_view_module": "@jupyter-widgets/base",
            "_view_module_version": "1.2.0",
            "_view_name": "StyleView",
            "bar_color": null,
            "description_width": ""
          }
        },
        "dc38b8b4e7eb4dd883954834f3c7d380": {
          "model_module": "@jupyter-widgets/base",
          "model_name": "LayoutModel",
          "model_module_version": "1.2.0",
          "state": {
            "_model_module": "@jupyter-widgets/base",
            "_model_module_version": "1.2.0",
            "_model_name": "LayoutModel",
            "_view_count": null,
            "_view_module": "@jupyter-widgets/base",
            "_view_module_version": "1.2.0",
            "_view_name": "LayoutView",
            "align_content": null,
            "align_items": null,
            "align_self": null,
            "border": null,
            "bottom": null,
            "display": null,
            "flex": null,
            "flex_flow": null,
            "grid_area": null,
            "grid_auto_columns": null,
            "grid_auto_flow": null,
            "grid_auto_rows": null,
            "grid_column": null,
            "grid_gap": null,
            "grid_row": null,
            "grid_template_areas": null,
            "grid_template_columns": null,
            "grid_template_rows": null,
            "height": null,
            "justify_content": null,
            "justify_items": null,
            "left": null,
            "margin": null,
            "max_height": null,
            "max_width": null,
            "min_height": null,
            "min_width": null,
            "object_fit": null,
            "object_position": null,
            "order": null,
            "overflow": null,
            "overflow_x": null,
            "overflow_y": null,
            "padding": null,
            "right": null,
            "top": null,
            "visibility": null,
            "width": null
          }
        },
        "6e816f41a6f64293a5703cb836803cb4": {
          "model_module": "@jupyter-widgets/controls",
          "model_name": "DescriptionStyleModel",
          "model_module_version": "1.5.0",
          "state": {
            "_model_module": "@jupyter-widgets/controls",
            "_model_module_version": "1.5.0",
            "_model_name": "DescriptionStyleModel",
            "_view_count": null,
            "_view_module": "@jupyter-widgets/base",
            "_view_module_version": "1.2.0",
            "_view_name": "StyleView",
            "description_width": ""
          }
        }
      }
    }
  },
  "cells": [
    {
      "cell_type": "markdown",
      "metadata": {
        "id": "view-in-github",
        "colab_type": "text"
      },
      "source": [
        "<a href=\"https://colab.research.google.com/github/tubagokhan/DeepLearningNLPFoundations/blob/main/PyTorch_BERT_FineTune_IMDB_text_classification.ipynb\" target=\"_parent\"><img src=\"https://colab.research.google.com/assets/colab-badge.svg\" alt=\"Open In Colab\"/></a>"
      ]
    },
    {
      "cell_type": "markdown",
      "source": [
        "# Text classification - IMDB Dataset"
      ],
      "metadata": {
        "id": "m8ptc7LP6ZxD"
      }
    },
    {
      "cell_type": "code",
      "source": [
        "!pip install transformers[sentencepiece] datasets\n",
        "!pip install --upgrade accelerate"
      ],
      "metadata": {
        "id": "urStT70g6mGf",
        "colab": {
          "base_uri": "https://localhost:8080/"
        },
        "outputId": "d74f16c4-060d-454c-e9d9-a4b90fb2b02b"
      },
      "execution_count": 53,
      "outputs": [
        {
          "output_type": "stream",
          "name": "stdout",
          "text": [
            "Looking in indexes: https://pypi.org/simple, https://us-python.pkg.dev/colab-wheels/public/simple/\n",
            "Requirement already satisfied: transformers[sentencepiece] in /usr/local/lib/python3.10/dist-packages (4.29.2)\n",
            "Requirement already satisfied: datasets in /usr/local/lib/python3.10/dist-packages (2.12.0)\n",
            "Requirement already satisfied: filelock in /usr/local/lib/python3.10/dist-packages (from transformers[sentencepiece]) (3.12.0)\n",
            "Requirement already satisfied: huggingface-hub<1.0,>=0.14.1 in /usr/local/lib/python3.10/dist-packages (from transformers[sentencepiece]) (0.14.1)\n",
            "Requirement already satisfied: numpy>=1.17 in /usr/local/lib/python3.10/dist-packages (from transformers[sentencepiece]) (1.22.4)\n",
            "Requirement already satisfied: packaging>=20.0 in /usr/local/lib/python3.10/dist-packages (from transformers[sentencepiece]) (23.1)\n",
            "Requirement already satisfied: pyyaml>=5.1 in /usr/local/lib/python3.10/dist-packages (from transformers[sentencepiece]) (6.0)\n",
            "Requirement already satisfied: regex!=2019.12.17 in /usr/local/lib/python3.10/dist-packages (from transformers[sentencepiece]) (2022.10.31)\n",
            "Requirement already satisfied: requests in /usr/local/lib/python3.10/dist-packages (from transformers[sentencepiece]) (2.27.1)\n",
            "Requirement already satisfied: tokenizers!=0.11.3,<0.14,>=0.11.1 in /usr/local/lib/python3.10/dist-packages (from transformers[sentencepiece]) (0.13.3)\n",
            "Requirement already satisfied: tqdm>=4.27 in /usr/local/lib/python3.10/dist-packages (from transformers[sentencepiece]) (4.65.0)\n",
            "Requirement already satisfied: sentencepiece!=0.1.92,>=0.1.91 in /usr/local/lib/python3.10/dist-packages (from transformers[sentencepiece]) (0.1.99)\n",
            "Requirement already satisfied: protobuf<=3.20.2 in /usr/local/lib/python3.10/dist-packages (from transformers[sentencepiece]) (3.20.2)\n",
            "Requirement already satisfied: pyarrow>=8.0.0 in /usr/local/lib/python3.10/dist-packages (from datasets) (9.0.0)\n",
            "Requirement already satisfied: dill<0.3.7,>=0.3.0 in /usr/local/lib/python3.10/dist-packages (from datasets) (0.3.6)\n",
            "Requirement already satisfied: pandas in /usr/local/lib/python3.10/dist-packages (from datasets) (1.5.3)\n",
            "Requirement already satisfied: xxhash in /usr/local/lib/python3.10/dist-packages (from datasets) (3.2.0)\n",
            "Requirement already satisfied: multiprocess in /usr/local/lib/python3.10/dist-packages (from datasets) (0.70.14)\n",
            "Requirement already satisfied: fsspec[http]>=2021.11.1 in /usr/local/lib/python3.10/dist-packages (from datasets) (2023.4.0)\n",
            "Requirement already satisfied: aiohttp in /usr/local/lib/python3.10/dist-packages (from datasets) (3.8.4)\n",
            "Requirement already satisfied: responses<0.19 in /usr/local/lib/python3.10/dist-packages (from datasets) (0.18.0)\n",
            "Requirement already satisfied: attrs>=17.3.0 in /usr/local/lib/python3.10/dist-packages (from aiohttp->datasets) (23.1.0)\n",
            "Requirement already satisfied: charset-normalizer<4.0,>=2.0 in /usr/local/lib/python3.10/dist-packages (from aiohttp->datasets) (2.0.12)\n",
            "Requirement already satisfied: multidict<7.0,>=4.5 in /usr/local/lib/python3.10/dist-packages (from aiohttp->datasets) (6.0.4)\n",
            "Requirement already satisfied: async-timeout<5.0,>=4.0.0a3 in /usr/local/lib/python3.10/dist-packages (from aiohttp->datasets) (4.0.2)\n",
            "Requirement already satisfied: yarl<2.0,>=1.0 in /usr/local/lib/python3.10/dist-packages (from aiohttp->datasets) (1.9.2)\n",
            "Requirement already satisfied: frozenlist>=1.1.1 in /usr/local/lib/python3.10/dist-packages (from aiohttp->datasets) (1.3.3)\n",
            "Requirement already satisfied: aiosignal>=1.1.2 in /usr/local/lib/python3.10/dist-packages (from aiohttp->datasets) (1.3.1)\n",
            "Requirement already satisfied: typing-extensions>=3.7.4.3 in /usr/local/lib/python3.10/dist-packages (from huggingface-hub<1.0,>=0.14.1->transformers[sentencepiece]) (4.5.0)\n",
            "Requirement already satisfied: urllib3<1.27,>=1.21.1 in /usr/local/lib/python3.10/dist-packages (from requests->transformers[sentencepiece]) (1.26.15)\n",
            "Requirement already satisfied: certifi>=2017.4.17 in /usr/local/lib/python3.10/dist-packages (from requests->transformers[sentencepiece]) (2022.12.7)\n",
            "Requirement already satisfied: idna<4,>=2.5 in /usr/local/lib/python3.10/dist-packages (from requests->transformers[sentencepiece]) (3.4)\n",
            "Requirement already satisfied: python-dateutil>=2.8.1 in /usr/local/lib/python3.10/dist-packages (from pandas->datasets) (2.8.2)\n",
            "Requirement already satisfied: pytz>=2020.1 in /usr/local/lib/python3.10/dist-packages (from pandas->datasets) (2022.7.1)\n",
            "Requirement already satisfied: six>=1.5 in /usr/local/lib/python3.10/dist-packages (from python-dateutil>=2.8.1->pandas->datasets) (1.16.0)\n",
            "Looking in indexes: https://pypi.org/simple, https://us-python.pkg.dev/colab-wheels/public/simple/\n",
            "Requirement already satisfied: accelerate in /usr/local/lib/python3.10/dist-packages (0.19.0)\n",
            "Requirement already satisfied: numpy>=1.17 in /usr/local/lib/python3.10/dist-packages (from accelerate) (1.22.4)\n",
            "Requirement already satisfied: packaging>=20.0 in /usr/local/lib/python3.10/dist-packages (from accelerate) (23.1)\n",
            "Requirement already satisfied: psutil in /usr/local/lib/python3.10/dist-packages (from accelerate) (5.9.5)\n",
            "Requirement already satisfied: pyyaml in /usr/local/lib/python3.10/dist-packages (from accelerate) (6.0)\n",
            "Requirement already satisfied: torch>=1.6.0 in /usr/local/lib/python3.10/dist-packages (from accelerate) (2.0.1+cu118)\n",
            "Requirement already satisfied: filelock in /usr/local/lib/python3.10/dist-packages (from torch>=1.6.0->accelerate) (3.12.0)\n",
            "Requirement already satisfied: typing-extensions in /usr/local/lib/python3.10/dist-packages (from torch>=1.6.0->accelerate) (4.5.0)\n",
            "Requirement already satisfied: sympy in /usr/local/lib/python3.10/dist-packages (from torch>=1.6.0->accelerate) (1.11.1)\n",
            "Requirement already satisfied: networkx in /usr/local/lib/python3.10/dist-packages (from torch>=1.6.0->accelerate) (3.1)\n",
            "Requirement already satisfied: jinja2 in /usr/local/lib/python3.10/dist-packages (from torch>=1.6.0->accelerate) (3.1.2)\n",
            "Requirement already satisfied: triton==2.0.0 in /usr/local/lib/python3.10/dist-packages (from torch>=1.6.0->accelerate) (2.0.0)\n",
            "Requirement already satisfied: cmake in /usr/local/lib/python3.10/dist-packages (from triton==2.0.0->torch>=1.6.0->accelerate) (3.25.2)\n",
            "Requirement already satisfied: lit in /usr/local/lib/python3.10/dist-packages (from triton==2.0.0->torch>=1.6.0->accelerate) (16.0.5)\n",
            "Requirement already satisfied: MarkupSafe>=2.0 in /usr/local/lib/python3.10/dist-packages (from jinja2->torch>=1.6.0->accelerate) (2.1.2)\n",
            "Requirement already satisfied: mpmath>=0.19 in /usr/local/lib/python3.10/dist-packages (from sympy->torch>=1.6.0->accelerate) (1.3.0)\n"
          ]
        }
      ]
    },
    {
      "cell_type": "markdown",
      "source": [
        "## Datasets library"
      ],
      "metadata": {
        "id": "1FfQ14kh6gRZ"
      }
    },
    {
      "cell_type": "code",
      "execution_count": 54,
      "metadata": {
        "id": "J2ko7M5G54Y9",
        "colab": {
          "base_uri": "https://localhost:8080/"
        },
        "outputId": "c271e14d-03fe-4326-a0c3-c6a08766d04c"
      },
      "outputs": [
        {
          "output_type": "execute_result",
          "data": {
            "text/plain": [
              "['acronym_identification',\n",
              " 'ade_corpus_v2',\n",
              " 'adversarial_qa',\n",
              " 'aeslc',\n",
              " 'afrikaans_ner_corpus',\n",
              " 'ag_news',\n",
              " 'ai2_arc',\n",
              " 'air_dialogue',\n",
              " 'ajgt_twitter_ar',\n",
              " 'allegro_reviews',\n",
              " 'allocine',\n",
              " 'alt',\n",
              " 'amazon_polarity',\n",
              " 'amazon_reviews_multi',\n",
              " 'amazon_us_reviews',\n",
              " 'ambig_qa',\n",
              " 'americas_nli',\n",
              " 'ami',\n",
              " 'amttl',\n",
              " 'anli',\n",
              " 'app_reviews',\n",
              " 'aqua_rat',\n",
              " 'aquamuse',\n",
              " 'ar_cov19',\n",
              " 'ar_res_reviews',\n",
              " 'ar_sarcasm',\n",
              " 'arabic_billion_words',\n",
              " 'arabic_pos_dialect',\n",
              " 'arabic_speech_corpus',\n",
              " 'arcd',\n",
              " 'arsentd_lev',\n",
              " 'art',\n",
              " 'arxiv_dataset',\n",
              " 'ascent_kb',\n",
              " 'aslg_pc12',\n",
              " 'asnq',\n",
              " 'asset',\n",
              " 'assin',\n",
              " 'assin2',\n",
              " 'atomic',\n",
              " 'autshumato',\n",
              " 'facebook/babi_qa',\n",
              " 'banking77',\n",
              " 'bbaw_egyptian',\n",
              " 'bbc_hindi_nli',\n",
              " 'bc2gm_corpus',\n",
              " 'beans',\n",
              " 'best2009',\n",
              " 'bianet',\n",
              " 'bible_para',\n",
              " 'big_patent',\n",
              " 'billsum',\n",
              " 'bing_coronavirus_query_set',\n",
              " 'biomrc',\n",
              " 'biosses',\n",
              " 'blbooks',\n",
              " 'blbooksgenre',\n",
              " 'blended_skill_talk',\n",
              " 'blimp',\n",
              " 'blog_authorship_corpus',\n",
              " 'bn_hate_speech',\n",
              " 'bnl_newspapers',\n",
              " 'bookcorpus',\n",
              " 'bookcorpusopen',\n",
              " 'boolq',\n",
              " 'bprec',\n",
              " 'break_data',\n",
              " 'brwac',\n",
              " 'bsd_ja_en',\n",
              " 'bswac',\n",
              " 'c3',\n",
              " 'c4',\n",
              " 'cail2018',\n",
              " 'caner',\n",
              " 'capes',\n",
              " 'casino',\n",
              " 'catalonia_independence',\n",
              " 'cats_vs_dogs',\n",
              " 'cawac',\n",
              " 'cbt',\n",
              " 'cc100',\n",
              " 'cc_news',\n",
              " 'ccaligned_multilingual',\n",
              " 'cdsc',\n",
              " 'cdt',\n",
              " 'cedr',\n",
              " 'cfq',\n",
              " 'chr_en',\n",
              " 'cifar10',\n",
              " 'cifar100',\n",
              " 'circa',\n",
              " 'civil_comments',\n",
              " 'clickbait_news_bg',\n",
              " 'climate_fever',\n",
              " 'clinc_oos',\n",
              " 'clue',\n",
              " 'cmrc2018',\n",
              " 'cmu_hinglish_dog',\n",
              " 'cnn_dailymail',\n",
              " 'coached_conv_pref',\n",
              " 'coarse_discourse',\n",
              " 'codah',\n",
              " 'code_search_net',\n",
              " 'code_x_glue_cc_clone_detection_big_clone_bench',\n",
              " 'code_x_glue_cc_clone_detection_poj104',\n",
              " 'code_x_glue_cc_cloze_testing_all',\n",
              " 'code_x_glue_cc_cloze_testing_maxmin',\n",
              " 'code_x_glue_cc_code_completion_line',\n",
              " 'code_x_glue_cc_code_completion_token',\n",
              " 'code_x_glue_cc_code_refinement',\n",
              " 'code_x_glue_cc_code_to_code_trans',\n",
              " 'code_x_glue_cc_defect_detection',\n",
              " 'code_x_glue_ct_code_to_text',\n",
              " 'code_x_glue_tc_nl_code_search_adv',\n",
              " 'code_x_glue_tc_text_to_code',\n",
              " 'code_x_glue_tt_text_to_text',\n",
              " 'com_qa',\n",
              " 'common_gen',\n",
              " 'common_language',\n",
              " 'common_voice',\n",
              " 'commonsense_qa',\n",
              " 'competition_math',\n",
              " 'compguesswhat',\n",
              " 'conceptnet5',\n",
              " 'conll2000',\n",
              " 'conll2002',\n",
              " 'conll2003',\n",
              " 'conllpp',\n",
              " 'consumer-finance-complaints',\n",
              " 'conv_ai',\n",
              " 'conv_ai_2',\n",
              " 'conv_ai_3',\n",
              " 'conv_questions',\n",
              " 'coqa',\n",
              " 'allenai/cord19',\n",
              " 'cornell_movie_dialog',\n",
              " 'cos_e',\n",
              " 'cosmos_qa',\n",
              " 'counter',\n",
              " 'covid_qa_castorini',\n",
              " 'covid_qa_deepset',\n",
              " 'covid_qa_ucsd',\n",
              " 'covid_tweets_japanese',\n",
              " 'covost2',\n",
              " 'cppe-5',\n",
              " 'craigslist_bargains',\n",
              " 'crawl_domain',\n",
              " 'crd3',\n",
              " 'crime_and_punish',\n",
              " 'crows_pairs',\n",
              " 'cryptonite',\n",
              " 'cs_restaurants',\n",
              " 'cuad',\n",
              " 'curiosity_dialogs',\n",
              " 'daily_dialog',\n",
              " 'dane',\n",
              " 'danish_political_comments',\n",
              " 'dart',\n",
              " 'datacommons_factcheck',\n",
              " 'dbpedia_14',\n",
              " 'dbrd',\n",
              " 'deal_or_no_dialog',\n",
              " 'definite_pronoun_resolution',\n",
              " 'dengue_filipino',\n",
              " 'dialog_re',\n",
              " 'diplomacy_detection',\n",
              " 'disaster_response_messages',\n",
              " 'discofuse',\n",
              " 'discovery',\n",
              " 'disfl_qa',\n",
              " 'doc2dial',\n",
              " 'docred',\n",
              " 'doqa',\n",
              " 'dream',\n",
              " 'drop',\n",
              " 'duorc',\n",
              " 'dutch_social',\n",
              " 'dyk',\n",
              " 'e2e_nlg',\n",
              " 'e2e_nlg_cleaned',\n",
              " 'ecb',\n",
              " 'ecthr_cases',\n",
              " 'eduge',\n",
              " 'ehealth_kd',\n",
              " 'eitb_parcc',\n",
              " 'electricity_load_diagrams',\n",
              " 'eli5',\n",
              " 'eli5_category',\n",
              " 'emea',\n",
              " 'emo',\n",
              " 'dair-ai/emotion',\n",
              " 'emotone_ar',\n",
              " 'empathetic_dialogues',\n",
              " 'enriched_web_nlg',\n",
              " 'eraser_multi_rc',\n",
              " 'esnli',\n",
              " 'eth_py150_open',\n",
              " 'ethos',\n",
              " 'eu_regulatory_ir',\n",
              " 'eurlex',\n",
              " 'euronews',\n",
              " 'europa_eac_tm',\n",
              " 'europa_ecdc_tm',\n",
              " 'europarl_bilingual',\n",
              " 'event2Mind',\n",
              " 'evidence_infer_treatment',\n",
              " 'exams',\n",
              " 'factckbr',\n",
              " 'fake_news_english',\n",
              " 'fake_news_filipino',\n",
              " 'farsi_news',\n",
              " 'fashion_mnist',\n",
              " 'fever',\n",
              " 'few_rel',\n",
              " 'financial_phrasebank',\n",
              " 'finer',\n",
              " 'flores',\n",
              " 'flue',\n",
              " 'food101',\n",
              " 'fquad',\n",
              " 'freebase_qa',\n",
              " 'gap',\n",
              " 'gem',\n",
              " 'generated_reviews_enth',\n",
              " 'generics_kb',\n",
              " 'german_legal_entity_recognition',\n",
              " 'germaner',\n",
              " 'germeval_14',\n",
              " 'giga_fren',\n",
              " 'gigaword',\n",
              " 'glucose',\n",
              " 'glue',\n",
              " 'gnad10',\n",
              " 'go_emotions',\n",
              " 'gooaq',\n",
              " 'google_wellformed_query',\n",
              " 'grail_qa',\n",
              " 'great_code',\n",
              " 'greek_legal_code',\n",
              " 'guardian_authorship',\n",
              " 'gutenberg_time',\n",
              " 'hans',\n",
              " 'hansards',\n",
              " 'hard',\n",
              " 'harem',\n",
              " 'has_part',\n",
              " 'hate_offensive',\n",
              " 'hate_speech18',\n",
              " 'hate_speech_filipino',\n",
              " 'hate_speech_offensive',\n",
              " 'hate_speech_pl',\n",
              " 'hate_speech_portuguese',\n",
              " 'hatexplain',\n",
              " 'hausa_voa_ner',\n",
              " 'hausa_voa_topics',\n",
              " 'hda_nli_hindi',\n",
              " 'head_qa',\n",
              " 'health_fact',\n",
              " 'hebrew_projectbenyehuda',\n",
              " 'hebrew_sentiment',\n",
              " 'hebrew_this_world',\n",
              " 'hellaswag',\n",
              " 'cais/mmlu',\n",
              " 'hind_encorp',\n",
              " 'hindi_discourse',\n",
              " 'hippocorpus',\n",
              " 'hkcancor',\n",
              " 'hlgd',\n",
              " 'hope_edi',\n",
              " 'hotpot_qa',\n",
              " 'hover',\n",
              " 'hrenwac_para',\n",
              " 'hrwac',\n",
              " 'humicroedit',\n",
              " 'hybrid_qa',\n",
              " 'hyperpartisan_news_detection',\n",
              " 'iapp_wiki_qa_squad',\n",
              " 'id_clickbait',\n",
              " 'id_liputan6',\n",
              " 'id_nergrit_corpus',\n",
              " 'id_newspapers_2018',\n",
              " 'id_panl_bppt',\n",
              " 'id_puisi',\n",
              " 'igbo_english_machine_translation',\n",
              " 'igbo_monolingual',\n",
              " 'igbo_ner',\n",
              " 'ilist',\n",
              " 'imdb',\n",
              " 'imdb_urdu_reviews',\n",
              " 'imppres',\n",
              " 'indic_glue',\n",
              " 'indonli',\n",
              " 'indonlp/indonlu',\n",
              " 'inquisitive_qg',\n",
              " 'interpress_news_category_tr',\n",
              " 'interpress_news_category_tr_lite',\n",
              " 'irc_disentangle',\n",
              " 'isixhosa_ner_corpus',\n",
              " 'isizulu_ner_corpus',\n",
              " 'iwslt2017',\n",
              " 'jeopardy',\n",
              " 'jfleg',\n",
              " 'jigsaw_toxicity_pred',\n",
              " 'jigsaw_unintended_bias',\n",
              " 'jnlpba',\n",
              " 'journalists_questions',\n",
              " 'kan_hope',\n",
              " 'kannada_news',\n",
              " 'kd_conv',\n",
              " 'kde4',\n",
              " 'kelm',\n",
              " 'kilt_tasks',\n",
              " 'kilt_wikipedia',\n",
              " 'kinnews_kirnews',\n",
              " 'klue',\n",
              " 'kor_3i4k',\n",
              " 'kor_hate',\n",
              " 'kor_ner',\n",
              " 'kor_nli',\n",
              " 'kor_nlu',\n",
              " 'kor_qpair',\n",
              " 'kor_sae',\n",
              " 'kor_sarcasm',\n",
              " 'labr',\n",
              " 'lama',\n",
              " 'lambada',\n",
              " 'large_spanish_corpus',\n",
              " 'laroseda',\n",
              " 'lc_quad',\n",
              " 'lener_br',\n",
              " 'lex_glue',\n",
              " 'liar',\n",
              " 'librispeech_asr',\n",
              " 'librispeech_lm',\n",
              " 'limit',\n",
              " 'lince',\n",
              " 'linnaeus',\n",
              " 'liveqa',\n",
              " 'lj_speech',\n",
              " 'lm1b',\n",
              " 'lst20',\n",
              " 'm_lama',\n",
              " 'mac_morpho',\n",
              " 'makhzan',\n",
              " 'masakhaner',\n",
              " 'math_dataset',\n",
              " 'math_qa',\n",
              " 'matinf',\n",
              " 'mbpp',\n",
              " 'mc4',\n",
              " 'mc_taco',\n",
              " 'md_gender_bias',\n",
              " 'mdd',\n",
              " 'med_hop',\n",
              " 'medal',\n",
              " 'medical_dialog',\n",
              " 'medical_questions_pairs',\n",
              " 'menyo20k_mt',\n",
              " 'meta_woz',\n",
              " 'metooma',\n",
              " 'metrec',\n",
              " 'miam',\n",
              " 'mkb',\n",
              " 'mkqa',\n",
              " 'mlqa',\n",
              " 'mlsum',\n",
              " 'mnist',\n",
              " 'mocha',\n",
              " 'moroco',\n",
              " 'movie_rationales',\n",
              " 'mrqa',\n",
              " 'ms_marco',\n",
              " 'ms_terms',\n",
              " 'msr_genomics_kbcomp',\n",
              " 'msr_sqa',\n",
              " 'msr_text_compression',\n",
              " 'msr_zhen_translation_parity',\n",
              " 'msra_ner',\n",
              " 'mt_eng_vietnamese',\n",
              " 'muchocine',\n",
              " 'multi_booked',\n",
              " 'multi_eurlex',\n",
              " 'multi_news',\n",
              " 'multi_nli',\n",
              " 'multi_nli_mismatch',\n",
              " 'multi_para_crawl',\n",
              " 'multi_re_qa',\n",
              " 'multi_woz_v22',\n",
              " 'multi_x_science_sum',\n",
              " 'multidoc2dial',\n",
              " 'multilingual_librispeech',\n",
              " 'mutual_friends',\n",
              " 'mwsc',\n",
              " 'myanmar_news',\n",
              " 'narrativeqa',\n",
              " 'narrativeqa_manual',\n",
              " 'natural_questions',\n",
              " 'ncbi_disease',\n",
              " 'nchlt',\n",
              " 'ncslgr',\n",
              " 'nell',\n",
              " 'neural_code_search',\n",
              " 'news_commentary',\n",
              " 'newsgroup',\n",
              " 'newsph',\n",
              " 'newsph_nli',\n",
              " 'newspop',\n",
              " 'newsqa',\n",
              " 'newsroom',\n",
              " 'nkjp-ner',\n",
              " 'nli_tr',\n",
              " 'nlu_evaluation_data',\n",
              " 'norec',\n",
              " 'norne',\n",
              " 'norwegian_ner',\n",
              " 'nq_open',\n",
              " 'nsmc',\n",
              " 'numer_sense',\n",
              " 'numeric_fused_head',\n",
              " 'oclar',\n",
              " 'offcombr',\n",
              " 'offenseval2020_tr',\n",
              " 'offenseval_dravidian',\n",
              " 'ofis_publik',\n",
              " 'ohsumed',\n",
              " 'ollie',\n",
              " 'omp',\n",
              " 'onestop_english',\n",
              " 'onestop_qa',\n",
              " 'open_subtitles',\n",
              " 'openai_humaneval',\n",
              " 'openbookqa',\n",
              " 'openslr',\n",
              " 'openwebtext',\n",
              " 'opinosis',\n",
              " 'opus100',\n",
              " 'opus_books',\n",
              " 'opus_dgt',\n",
              " 'opus_dogc',\n",
              " 'opus_elhuyar',\n",
              " 'opus_euconst',\n",
              " 'opus_finlex',\n",
              " 'opus_fiskmo',\n",
              " 'opus_gnome',\n",
              " 'opus_infopankki',\n",
              " 'opus_memat',\n",
              " 'opus_montenegrinsubs',\n",
              " 'opus_openoffice',\n",
              " 'opus_paracrawl',\n",
              " 'opus_rf',\n",
              " 'opus_tedtalks',\n",
              " 'opus_ubuntu',\n",
              " 'opus_wikipedia',\n",
              " 'opus_xhosanavy',\n",
              " 'orange_sum',\n",
              " 'oscar',\n",
              " 'para_crawl',\n",
              " 'para_pat',\n",
              " 'parsinlu_reading_comprehension',\n",
              " 'pass',\n",
              " 'paws-x',\n",
              " 'paws',\n",
              " 'pec',\n",
              " 'allenai/peer_read',\n",
              " 'peoples_daily_ner',\n",
              " 'per_sent',\n",
              " 'persian_ner',\n",
              " 'pg19',\n",
              " 'php',\n",
              " 'etalab-ia/piaf',\n",
              " 'pib',\n",
              " 'piqa',\n",
              " 'pn_summary',\n",
              " 'poem_sentiment',\n",
              " 'polemo2',\n",
              " 'poleval2019_cyberbullying',\n",
              " 'poleval2019_mt',\n",
              " 'polsum',\n",
              " 'polyglot_ner',\n",
              " 'prachathai67k',\n",
              " 'pragmeval',\n",
              " 'proto_qa',\n",
              " 'psc',\n",
              " 'ptb_text_only',\n",
              " 'pubmed',\n",
              " 'pubmed_qa',\n",
              " 'py_ast',\n",
              " 'qa4mre',\n",
              " 'qa_srl',\n",
              " 'qa_zre',\n",
              " 'qangaroo',\n",
              " 'qanta',\n",
              " 'qasc',\n",
              " 'allenai/qasper',\n",
              " 'qed',\n",
              " 'qed_amara',\n",
              " 'quac',\n",
              " 'quail',\n",
              " 'quarel',\n",
              " 'quartz',\n",
              " 'quora',\n",
              " 'quoref',\n",
              " 'race',\n",
              " 're_dial',\n",
              " 'reasoning_bg',\n",
              " 'recipe_nlg',\n",
              " 'reclor',\n",
              " 'red_caps',\n",
              " 'reddit',\n",
              " 'reddit_tifu',\n",
              " 'refresd',\n",
              " 'reuters21578',\n",
              " 'riddle_sense',\n",
              " 'ro_sent',\n",
              " 'ro_sts',\n",
              " 'ro_sts_parallel',\n",
              " 'roman_urdu',\n",
              " 'ronec',\n",
              " 'ropes',\n",
              " 'rotten_tomatoes',\n",
              " 'RussianNLP/russian_super_glue',\n",
              " 'allenai/s2orc',\n",
              " 'samsum',\n",
              " 'sanskrit_classic',\n",
              " 'saudinewsnet',\n",
              " 'sberquad',\n",
              " 'scan',\n",
              " 'scb_mt_enth_2020',\n",
              " 'scene_parse_150',\n",
              " 'schema_guided_dstc8',\n",
              " 'allenai/scicite',\n",
              " 'scielo',\n",
              " 'scientific_papers',\n",
              " 'allenai/scifact',\n",
              " 'sciq',\n",
              " 'scitail',\n",
              " 'allenai/scitldr',\n",
              " 'search_qa',\n",
              " 'sede',\n",
              " 'selqa',\n",
              " 'sem_eval_2010_task_8',\n",
              " 'sem_eval_2014_task_1',\n",
              " 'sem_eval_2018_task_1',\n",
              " 'sem_eval_2020_task_11',\n",
              " 'sent_comp',\n",
              " 'senti_lex',\n",
              " 'senti_ws',\n",
              " 'sentiment140',\n",
              " 'sepedi_ner',\n",
              " 'sesotho_ner_corpus',\n",
              " 'setimes',\n",
              " 'setswana_ner_corpus',\n",
              " 'sharc',\n",
              " 'sharc_modified',\n",
              " 'sick',\n",
              " 'silicone',\n",
              " 'simple_questions_v2',\n",
              " 'siswati_ner_corpus',\n",
              " 'smartdata',\n",
              " 'sms_spam',\n",
              " 'snips_built_in_intents',\n",
              " 'snli',\n",
              " 'snow_simplified_japanese_corpus',\n",
              " 'so_stacksample',\n",
              " 'social_bias_frames',\n",
              " 'social_i_qa',\n",
              " 'sofc_materials_articles',\n",
              " 'sogou_news',\n",
              " 'spanish_billion_words',\n",
              " 'spc',\n",
              " 'species_800',\n",
              " 'speech_commands',\n",
              " 'spider',\n",
              " 'squad',\n",
              " 'squad_adversarial',\n",
              " 'squad_es',\n",
              " 'squad_it',\n",
              " 'squad_kor_v1',\n",
              " 'squad_kor_v2',\n",
              " 'squad_v1_pt',\n",
              " 'squad_v2',\n",
              " 'squadshifts',\n",
              " 'srwac',\n",
              " 'sst',\n",
              " 'stereoset',\n",
              " 'story_cloze',\n",
              " 'stsb_mt_sv',\n",
              " 'stsb_multi_mt',\n",
              " 'style_change_detection',\n",
              " 'subjqa',\n",
              " 'super_glue',\n",
              " 'superb',\n",
              " 'svhn',\n",
              " 'swag',\n",
              " 'swahili',\n",
              " 'swahili_news',\n",
              " 'swda',\n",
              " 'swedish_medical_ner',\n",
              " 'swedish_ner_corpus',\n",
              " 'swedish_reviews',\n",
              " 'rcds/swiss_judgment_prediction',\n",
              " 'tab_fact',\n",
              " 'tamilmixsentiment',\n",
              " 'tanzil',\n",
              " 'tapaco',\n",
              " 'tashkeela',\n",
              " 'taskmaster1',\n",
              " 'taskmaster2',\n",
              " 'taskmaster3',\n",
              " 'tatoeba',\n",
              " 'ted_hrlr',\n",
              " 'ted_iwlst2013',\n",
              " 'ted_multi',\n",
              " 'ted_talks_iwslt',\n",
              " 'telugu_books',\n",
              " 'telugu_news',\n",
              " 'tep_en_fa_para',\n",
              " 'text2log',\n",
              " 'thai_toxicity_tweet',\n",
              " 'thainer',\n",
              " 'thaiqa_squad',\n",
              " 'thaisum',\n",
              " 'EleutherAI/pile',\n",
              " 'the_pile_books3',\n",
              " 'the_pile_openwebtext2',\n",
              " 'the_pile_stack_exchange',\n",
              " 'tilde_model',\n",
              " 'time_dial',\n",
              " 'times_of_india_news_headlines',\n",
              " 'timit_asr',\n",
              " 'tiny_shakespeare',\n",
              " 'tlc',\n",
              " 'tmu_gfm_dataset',\n",
              " 'told-br',\n",
              " 'totto',\n",
              " 'trec',\n",
              " 'trivia_qa',\n",
              " 'tsac',\n",
              " 'ttc4900',\n",
              " 'tunizi',\n",
              " 'tuple_ie',\n",
              " 'turk',\n",
              " 'turkic_xwmt',\n",
              " 'turkish_movie_sentiment',\n",
              " 'turkish_ner',\n",
              " 'turkish_product_reviews',\n",
              " 'turkish_shrinked_ner',\n",
              " 'turku_ner_corpus',\n",
              " 'tweet_eval',\n",
              " 'tweet_qa',\n",
              " 'tweets_ar_en_parallel',\n",
              " 'tweets_hate_speech_detection',\n",
              " 'twi_text_c3',\n",
              " 'twi_wordsim353',\n",
              " 'tydiqa',\n",
              " 'ubuntu_dialogs_corpus',\n",
              " 'udhr',\n",
              " 'um005',\n",
              " 'un_ga',\n",
              " 'un_multi',\n",
              " 'un_pc',\n",
              " 'universal_dependencies',\n",
              " 'universal_morphologies',\n",
              " 'urdu_fake_news',\n",
              " 'urdu_sentiment_corpus',\n",
              " 'vctk',\n",
              " 'vivos',\n",
              " 'web_nlg',\n",
              " 'web_of_science',\n",
              " 'web_questions',\n",
              " 'weibo_ner',\n",
              " 'wi_locness',\n",
              " 'wider_face',\n",
              " 'wiki40b',\n",
              " 'wiki_asp',\n",
              " 'wiki_atomic_edits',\n",
              " 'wiki_auto',\n",
              " 'wiki_bio',\n",
              " 'wiki_dpr',\n",
              " 'wiki_hop',\n",
              " 'wiki_lingua',\n",
              " 'wiki_movies',\n",
              " 'wiki_qa',\n",
              " 'wiki_qa_ar',\n",
              " 'wiki_snippets',\n",
              " 'wiki_source',\n",
              " 'wiki_split',\n",
              " 'wiki_summary',\n",
              " 'wikiann',\n",
              " 'wikicorpus',\n",
              " 'wikihow',\n",
              " 'wikipedia',\n",
              " 'wikisql',\n",
              " 'wikitext',\n",
              " 'wikitext_tl39',\n",
              " 'wili_2018',\n",
              " 'wino_bias',\n",
              " 'winograd_wsc',\n",
              " 'winogrande',\n",
              " 'wiqa',\n",
              " 'wisesight1000',\n",
              " 'wisesight_sentiment',\n",
              " 'wmt14',\n",
              " 'wmt15',\n",
              " 'wmt16',\n",
              " 'wmt17',\n",
              " 'wmt18',\n",
              " 'wmt19',\n",
              " 'wmt20_mlqe_task1',\n",
              " 'wmt20_mlqe_task2',\n",
              " 'wmt20_mlqe_task3',\n",
              " 'wmt_t2t',\n",
              " 'wnut_17',\n",
              " 'wongnai_reviews',\n",
              " 'woz_dialogue',\n",
              " 'wrbsc',\n",
              " 'x_stance',\n",
              " 'xcopa',\n",
              " 'xcsr',\n",
              " 'xed_en_fi',\n",
              " 'xglue',\n",
              " 'xnli',\n",
              " 'xor_tydi_qa',\n",
              " 'xquad',\n",
              " 'xquad_r',\n",
              " 'xsum',\n",
              " 'xsum_factuality',\n",
              " 'xtreme',\n",
              " 'yahoo_answers_qa',\n",
              " 'yahoo_answers_topics',\n",
              " 'yelp_polarity',\n",
              " 'yelp_review_full',\n",
              " 'yoruba_bbc_topics',\n",
              " 'yoruba_gv_ner',\n",
              " 'yoruba_text_c3',\n",
              " 'yoruba_wordsim353',\n",
              " 'youtube_caption_corrections',\n",
              " 'zest',\n",
              " '0n1xus/codexglue',\n",
              " '0n1xus/pytorrent-standalone',\n",
              " 'AConsApart/anime_subtitles_DialoGPT',\n",
              " 'AHussain0418/day2_data',\n",
              " 'AHussain0418/day4data',\n",
              " 'AHussain0418/demo_data',\n",
              " 'AI-Sweden/SuperLim',\n",
              " 'AI-it/khs_service_test',\n",
              " 'AI-it/korean-hate-speech',\n",
              " 'ARKseal/YFCC14M_subset_webdataset',\n",
              " 'ARTeLab/fanpage',\n",
              " 'ARTeLab/ilpost',\n",
              " 'ARTeLab/mlsum-it',\n",
              " 'ASCCCCCCCC/amazon_zh',\n",
              " 'ASCCCCCCCC/amazon_zh_simple',\n",
              " 'Abdo1Kamr/Arabic_Hadith',\n",
              " 'Abirate/code_net_dataset',\n",
              " 'Abirate/code_net_dev_dataset',\n",
              " 'Abirate/code_net_test_final_dataset',\n",
              " 'Abirate/english_quotes',\n",
              " 'Abirate/french_book_reviews',\n",
              " 'AdWeeb/DravidianMT',\n",
              " 'Adnan/Urdu_News_Headlines',\n",
              " 'AhmadSawal/qa',\n",
              " 'AhmedSSoliman/CoNaLa',\n",
              " 'Aisha/BAAD16',\n",
              " 'Aisha/BAAD6',\n",
              " 'Akila/ForgottenRealmsWikiDataset',\n",
              " 'Akshith/aa',\n",
              " 'Akshith/g_rock',\n",
              " 'Akshith/test',\n",
              " 'adorkin/extended_tweet_emojis',\n",
              " 'AlekseyKorshuk/comedy-scripts',\n",
              " 'AlekseyKorshuk/horror-scripts',\n",
              " 'AlexMaclean/all-deletion-compressions',\n",
              " 'AlexMaclean/wikipedia-deletion-compressions',\n",
              " 'AlexZapolskii/zapolskii-amazon',\n",
              " 'AlgoveraAI/CryptoPunks',\n",
              " 'Aliseyfi/event_token_type',\n",
              " 'Alvenir/nst-da-16khz',\n",
              " 'AndrewMcDowell/de_corpora_parliament_processed',\n",
              " 'Annabelleabbott/real-fake-news-workshop',\n",
              " 'Annielytics/DoctorsNotes',\n",
              " 'Anurag-Singh-creator/task',\n",
              " 'Anurag-Singh-creator/tasks',\n",
              " 'ApiInferenceTest/asr_dummy',\n",
              " 'Arnold/hausa_common_voice',\n",
              " 'AryanLala/autonlp-data-Scientific_Title_Generator',\n",
              " 'Atsushi/fungi_diagnostic_chars_comparison_japanese',\n",
              " 'Atsushi/fungi_indexed_mycological_papers_japanese',\n",
              " 'Atsushi/fungi_trait_circus_database',\n",
              " 'Avishekavi/Avi',\n",
              " 'BSC-LT/SQAC',\n",
              " 'BSC-LT/ancora-ca-ner',\n",
              " 'BSC-LT/sts-ca',\n",
              " 'BSC-LT/tecla',\n",
              " 'BSC-LT/viquiquad',\n",
              " 'BSC-LT/xquad-ca',\n",
              " 'Babelscape/rebel-dataset',\n",
              " 'Babelscape/wikineural',\n",
              " 'BatuhanYilmaz/github-issues',\n",
              " 'Baybars/parla_text_corpus',\n",
              " 'BeIR/beir-corpus',\n",
              " 'BeIR/beir',\n",
              " 'Lacito/pangloss',\n",
              " 'Binbin/my_dataset',\n",
              " 'BlakesOrb6/Fred-Flintstone',\n",
              " 'Bosio/pacman',\n",
              " 'Bosio/pacman_descriptions',\n",
              " 'BritishLibraryLabs/EThOS-PhD-metadata',\n",
              " 'CAGER/rick',\n",
              " 'CALM/arwiki',\n",
              " 'CAiRE/ASCEND',\n",
              " 'CShorten/KerasBERT',\n",
              " 'ChadxxxxHall/Inter-vision',\n",
              " 'Champion/vpc2020_clear_anon_speech',\n",
              " 'Check/a_re_gi',\n",
              " 'Check/region_1',\n",
              " 'Check/region_2',\n",
              " 'Check/region_3',\n",
              " 'Check/region_4',\n",
              " 'Check/region_5',\n",
              " 'Check/region_6',\n",
              " 'Check/region_7',\n",
              " 'Check/region_8',\n",
              " 'Check/region_9',\n",
              " 'Check/regions',\n",
              " 'Check/vverify',\n",
              " 'Cheranga/test',\n",
              " 'ChristophSchuhmann/MS_COCO_2017_URL_TEXT',\n",
              " 'Chun/dataset',\n",
              " 'Chuu/Vhh',\n",
              " 'CodedotAI/code-clippy-tfrecords',\n",
              " 'CodedotAI/code_clippy',\n",
              " 'CodedotAI/code_clippy_github',\n",
              " 'Crives/haha',\n",
              " 'Cropinky/flatearther',\n",
              " 'Cropinky/rap_lyrics_english',\n",
              " 'Cropinky/wow_fishing_bobber',\n",
              " 'Cyberfish/pos_tagger',\n",
              " 'Cyberfish/text_error_correction',\n",
              " 'CyranoB/polarity',\n",
              " 'DDSC/angry-tweets',\n",
              " 'DDSC/dkhate',\n",
              " 'DDSC/europarl',\n",
              " 'DDSC/lcc',\n",
              " 'DDSC/partial-danish-gigaword-no-twitter',\n",
              " 'DDSC/reddit-da-asr-preprocessed',\n",
              " 'DDSC/reddit-da',\n",
              " 'DDSC/twitter-sent',\n",
              " 'DELith/github-issues',\n",
              " 'DSCI511G1/COP26_Energy_Transition_Tweets',\n",
              " 'DanL/scientific-challenges-and-directions-dataset',\n",
              " 'Daniele/dante-corpus',\n",
              " 'Darren/data',\n",
              " 'Datatang/accented_english',\n",
              " 'Datatang/accented_mandarin',\n",
              " 'Datatang/chinese_dialect',\n",
              " 'Datatang/mandarin_chinese',\n",
              " 'Datatang/mixed_speech_chinese_english',\n",
              " 'Datatang/multi_language',\n",
              " 'Datatang/multi_language_conversation',\n",
              " 'Davlan/conll2003_de_noMISC',\n",
              " 'Davlan/conll2003_noMISC',\n",
              " 'Davlan/masakhanerV1',\n",
              " 'DelgadoPanadero/Pokemon',\n",
              " 'DeskDown/ALTDataset',\n",
              " 'DeskDown/ALTDataset_en-to-fil-vi-id-ms-ja-khm',\n",
              " 'DiFronzo/Human_Activity_Recognition',\n",
              " 'Dmitriy612/1',\n",
              " 'DoctorSlimm/yipee',\n",
              " 'Doohae/klue-mrc-bm25',\n",
              " 'Doohae/modern_music_re',\n",
              " 'DoyyingFace/github-embeddings-doy',\n",
              " 'DoyyingFace/github-issues-doy',\n",
              " 'DrishtiSharma/as_opus100_processed',\n",
              " 'DrishtiSharma/bg_opus100_processed',\n",
              " 'DrishtiSharma/br_opus100_processed',\n",
              " 'DrishtiSharma/hi_opus100_processed',\n",
              " 'DrishtiSharma/kk_opus100_processed',\n",
              " 'DrishtiSharma/mr_opus100_processed',\n",
              " 'DrishtiSharma/or_opus100_processed',\n",
              " 'DrishtiSharma/sl_opus100_processed',\n",
              " 'DrishtiSharma/sr_opus100_processed',\n",
              " 'Dumiiii/common-voice-romaniarss',\n",
              " 'EMBO/biolang',\n",
              " 'EMBO/sd-nlp',\n",
              " 'ESZER/H',\n",
              " 'Emanuel/UD_Portuguese-Bosque',\n",
              " 'Emma121/aaaaa',\n",
              " 'Emma121/testtest',\n",
              " 'Enes3774/data',\n",
              " 'Exr0n/wiki-entity-similarity',\n",
              " 'Eymen3455/xsum_tr',\n",
              " 'FIG-Loneliness/FIG-Loneliness',\n",
              " 'FL33TW00D/test-dataset',\n",
              " 'FRTNX/cosuju',\n",
              " 'FRTNX/worldbank-projects',\n",
              " 'Felix-ML/quoteli3',\n",
              " 'Finnish-NLP/mc4_fi_cleaned',\n",
              " 'Firoj/HumAID',\n",
              " 'Francois/futures_es',\n",
              " 'Fraser/mnist-text-default',\n",
              " 'Fraser/mnist-text-no-spaces',\n",
              " 'Fraser/mnist-text-small',\n",
              " 'Fraser/dream-coder',\n",
              " 'Fraser/python-lines',\n",
              " 'Fraser/python-state-changes',\n",
              " 'Fraser/short-jokes',\n",
              " 'Fraser/wiki_sentences',\n",
              " 'GEM/ART',\n",
              " 'GEM/BiSECT',\n",
              " 'GEM/CrossWOZ',\n",
              " 'GEM/OrangeSum',\n",
              " 'GEM/RiSAWOZ',\n",
              " 'GEM/RotoWire_English-German',\n",
              " 'GEM/SIMPITIKI',\n",
              " 'GEM/SciDuet',\n",
              " 'GEM/Taskmaster',\n",
              " 'GEM/cochrane-simplification',\n",
              " 'GEM/common_gen',\n",
              " 'GEM/conversational_weather',\n",
              " 'GEM/cs_restaurants',\n",
              " 'GEM/dart',\n",
              " 'GEM/dstc10_track2_task2',\n",
              " 'GEM/e2e_nlg',\n",
              " 'GEM/indonlg',\n",
              " 'GEM/mlb_data_to_text',\n",
              " 'GEM/mlsum',\n",
              " 'GEM/opusparcus',\n",
              " 'GEM/references',\n",
              " 'GEM/schema_guided_dialog',\n",
              " 'GEM/sportsett_basketball',\n",
              " 'GEM/squad_v2',\n",
              " 'GEM/surface_realisation_st_2020',\n",
              " 'GEM/totto',\n",
              " 'GEM/turku_hockey_data2text',\n",
              " 'GEM/turku_paraphrase_corpus',\n",
              " 'GEM-submissions/v1-outputs-and-scores',\n",
              " 'GEM/viggo',\n",
              " 'GEM/web_nlg',\n",
              " 'GEM/wiki_auto_asset_turk',\n",
              " 'GEM/wiki_cat_sum',\n",
              " 'GEM/wiki_lingua',\n",
              " 'GEM/xlsum',\n",
              " 'GEM/xsum',\n",
              " 'GEM-submissions/GEM__bart_base_schema_guided_dialog__1645547915',\n",
              " 'GEM-submissions/Leo__bart-large__1645784880',\n",
              " 'GEM-submissions/Leo__mbart-large-cc25__1645802644',\n",
              " 'GEM-submissions/lewtun__hugging-face-test-t5-base.outputs.json-36bf2a59__1645558682',\n",
              " 'GEM-submissions/lewtun__hugging-face-test-t5-base.outputs.json-36bf2a59__1645559101',\n",
              " 'GEM-submissions/lewtun__hugging-face-test-t5-base.outputs.json-36bf2a59__1645800191',\n",
              " 'GEM-submissions/lewtun__hugging-face-test-t5-base.outputs.json-36bf2a59__1646049378',\n",
              " 'GEM-submissions/lewtun__hugging-face-test-t5-base.outputs.json-36bf2a59__1646049424',\n",
              " 'GEM-submissions/lewtun__hugging-face-test-t5-base.outputs.json-36bf2a59__1646049601',\n",
              " 'GEM-submissions/lewtun__hugging-face-test-t5-base.outputs.json-36bf2a59__1646049876',\n",
              " 'GEM-submissions/lewtun__hugging-face-test-t5-base.outputs.json-36bf2a59__1646050898',\n",
              " 'GEM-submissions/lewtun__hugging-face-test-t5-base.outputs.json-36bf2a59__1646051364',\n",
              " 'GEM-submissions/lewtun__hugging-face-test-t5-base.outputs.json-36bf2a59__1646052073',\n",
              " 'GEM-submissions/lewtun__this-is-a-test__1646052811',\n",
              " 'GEM-submissions/lewtun__this-is-a-test__1646230987',\n",
              " 'GEM-submissions/ratishsp',\n",
              " 'GEM-submissions/submission-scores',\n",
              " 'GV05/shlomit_speech',\n",
              " 'Gabriel/quora_swe',\n",
              " 'GalacticAI/Noirset',\n",
              " 'Gauravadlakha1509/new_one',\n",
              " 'GeoffVdr/cv8_trainval_processed',\n",
              " 'GonzaloA/fake_news',\n",
              " 'Graphcore/gqa-lxmert',\n",
              " 'Graphcore/gqa',\n",
              " 'Graphcore/vqa-lxmert',\n",
              " 'Graphcore/vqa',\n",
              " 'Graphcore/wikipedia-bert-128',\n",
              " 'Graphcore/wikipedia-bert-512',\n",
              " 'GroNLP/ik-nlp-22_pestyle',\n",
              " 'GroNLP/ik-nlp-22_slp',\n",
              " 'GroNLP/ik-nlp-22_transqe',\n",
              " 'GroNLP/ik-nlp-22_winemag',\n",
              " 'Gwangho/NCBI-Sars-Cov-2',\n",
              " 'HHousen/ParaSCI',\n",
              " 'HHousen/msrp',\n",
              " 'HHousen/quora',\n",
              " 'HUPD/hupd',\n",
              " 'Halilyesilceng/autonlp-data-nameEntityRecognition',\n",
              " 'HarleyQ/WitcherDialogue',\n",
              " 'HarrisDePerceptron/sv_corpora_parliament_processed',\n",
              " 'HarrisDePerceptron/ur_corpora_pib',\n",
              " 'Harveenchadha/bol-models',\n",
              " 'Harveenchadha/indic-voice',\n",
              " 'HarveyBWest/mybot',\n",
              " 'Hellisotherpeople/DebateSum',\n",
              " 'Helsinki-NLP/tatoeba_mt',\n",
              " 'HenryAI/KerasAPIReference.txt',\n",
              " 'HenryAI/KerasBERTv1-Data',\n",
              " 'HenryAI/KerasCodeExamples.txt',\n",
              " 'HenryAI/KerasDeveloperGuides.txt',\n",
              " 'Huertas97/autonlp-data-mami-semeval-20-21',\n",
              " 'Husain/intent-classification-en-fr',\n",
              " 'IFSTalfredoswald/MBTI',\n",
              " 'Iftoo95/Arabic_Sentiment_and_Topics',\n",
              " 'IlyaGusev/gazeta',\n",
              " ...]"
            ]
          },
          "metadata": {},
          "execution_count": 54
        }
      ],
      "source": [
        "from datasets import list_datasets\n",
        "list_datasets()"
      ]
    },
    {
      "cell_type": "code",
      "source": [
        "from datasets import load_dataset\n",
        "\n",
        "imdb = load_dataset(\"imdb\")\n",
        "imdb"
      ],
      "metadata": {
        "id": "dzQufDiu7OKY",
        "colab": {
          "base_uri": "https://localhost:8080/",
          "height": 309,
          "referenced_widgets": [
            "5b17f3d81fbe456aa3422b9ead5a6ea0",
            "a5b05cfd2d034e26840534826463c63d",
            "746950823d12473f8206ae29201ca884",
            "2137dc1d4e0d42c79ddcbd8eee3e7e9c",
            "9aadd2fd3f2d45708898736b2f11ba1b",
            "14d01b36adc14bb78ae55517413098e5",
            "88c2dfcbedb74536a16df20f23e4d82f",
            "d9807be9017c467197810b2c357a9b61",
            "fabafbcfcba9458087858dc52296990d",
            "d76654dacb744fc7abef8ccbbd9d298e",
            "9a2512266c7046539c067afa88c0f432"
          ]
        },
        "outputId": "4e112f81-9fd2-466f-d353-58bc2f2e67ff"
      },
      "execution_count": 55,
      "outputs": [
        {
          "output_type": "stream",
          "name": "stderr",
          "text": [
            "WARNING:datasets.builder:Found cached dataset imdb (/root/.cache/huggingface/datasets/imdb/plain_text/1.0.0/d613c88cf8fa3bab83b4ded3713f1f74830d1100e171db75bbddb80b3345c9c0)\n"
          ]
        },
        {
          "output_type": "display_data",
          "data": {
            "text/plain": [
              "  0%|          | 0/3 [00:00<?, ?it/s]"
            ],
            "application/vnd.jupyter.widget-view+json": {
              "version_major": 2,
              "version_minor": 0,
              "model_id": "5b17f3d81fbe456aa3422b9ead5a6ea0"
            }
          },
          "metadata": {}
        },
        {
          "output_type": "execute_result",
          "data": {
            "text/plain": [
              "DatasetDict({\n",
              "    train: Dataset({\n",
              "        features: ['text', 'label'],\n",
              "        num_rows: 25000\n",
              "    })\n",
              "    test: Dataset({\n",
              "        features: ['text', 'label'],\n",
              "        num_rows: 25000\n",
              "    })\n",
              "    unsupervised: Dataset({\n",
              "        features: ['text', 'label'],\n",
              "        num_rows: 50000\n",
              "    })\n",
              "})"
            ]
          },
          "metadata": {},
          "execution_count": 55
        }
      ]
    },
    {
      "cell_type": "markdown",
      "source": [
        "- Similar to a python dictionary, where each key corresponds to a different split"
      ],
      "metadata": {
        "id": "mzk6qYbd7yEH"
      }
    },
    {
      "cell_type": "code",
      "source": [
        "imdb['train'][0]"
      ],
      "metadata": {
        "id": "BuuEXM0QEP1-",
        "colab": {
          "base_uri": "https://localhost:8080/"
        },
        "outputId": "3088ba8b-1441-4333-fc47-724eb5a39d0c"
      },
      "execution_count": 56,
      "outputs": [
        {
          "output_type": "execute_result",
          "data": {
            "text/plain": [
              "{'text': 'I rented I AM CURIOUS-YELLOW from my video store because of all the controversy that surrounded it when it was first released in 1967. I also heard that at first it was seized by U.S. customs if it ever tried to enter this country, therefore being a fan of films considered \"controversial\" I really had to see this for myself.<br /><br />The plot is centered around a young Swedish drama student named Lena who wants to learn everything she can about life. In particular she wants to focus her attentions to making some sort of documentary on what the average Swede thought about certain political issues such as the Vietnam War and race issues in the United States. In between asking politicians and ordinary denizens of Stockholm about their opinions on politics, she has sex with her drama teacher, classmates, and married men.<br /><br />What kills me about I AM CURIOUS-YELLOW is that 40 years ago, this was considered pornographic. Really, the sex and nudity scenes are few and far between, even then it\\'s not shot like some cheaply made porno. While my countrymen mind find it shocking, in reality sex and nudity are a major staple in Swedish cinema. Even Ingmar Bergman, arguably their answer to good old boy John Ford, had sex scenes in his films.<br /><br />I do commend the filmmakers for the fact that any sex shown in the film is shown for artistic purposes rather than just to shock people and make money to be shown in pornographic theaters in America. I AM CURIOUS-YELLOW is a good film for anyone wanting to study the meat and potatoes (no pun intended) of Swedish cinema. But really, this film doesn\\'t have much of a plot.',\n",
              " 'label': 0}"
            ]
          },
          "metadata": {},
          "execution_count": 56
        }
      ]
    },
    {
      "cell_type": "code",
      "source": [
        "imdb['test'][:3]"
      ],
      "metadata": {
        "id": "WGDXhDls-0LU",
        "colab": {
          "base_uri": "https://localhost:8080/"
        },
        "outputId": "c9bab3ea-e216-479e-e4bf-de713906d8f2"
      },
      "execution_count": 57,
      "outputs": [
        {
          "output_type": "execute_result",
          "data": {
            "text/plain": [
              "{'text': ['I love sci-fi and am willing to put up with a lot. Sci-fi movies/TV are usually underfunded, under-appreciated and misunderstood. I tried to like this, I really did, but it is to good TV sci-fi as Babylon 5 is to Star Trek (the original). Silly prosthetics, cheap cardboard sets, stilted dialogues, CG that doesn\\'t match the background, and painfully one-dimensional characters cannot be overcome with a \\'sci-fi\\' setting. (I\\'m sure there are those of you out there who think Babylon 5 is good sci-fi TV. It\\'s not. It\\'s clichéd and uninspiring.) While US viewers might like emotion and character development, sci-fi is a genre that does not take itself seriously (cf. Star Trek). It may treat important issues, yet not as a serious philosophy. It\\'s really difficult to care about the characters here as they are not simply foolish, just missing a spark of life. Their actions and reactions are wooden and predictable, often painful to watch. The makers of Earth KNOW it\\'s rubbish as they have to always say \"Gene Roddenberry\\'s Earth...\" otherwise people would not continue watching. Roddenberry\\'s ashes must be turning in their orbit as this dull, cheap, poorly edited (watching it without advert breaks really brings this home) trudging Trabant of a show lumbers into space. Spoiler. So, kill off a main character. And then bring him back as another actor. Jeeez! Dallas all over again.',\n",
              "  \"Worth the entertainment value of a rental, especially if you like action movies. This one features the usual car chases, fights with the great Van Damme kick style, shooting battles with the 40 shell load shotgun, and even terrorist style bombs. All of this is entertaining and competently handled but there is nothing that really blows you away if you've seen your share before.<br /><br />The plot is made interesting by the inclusion of a rabbit, which is clever but hardly profound. Many of the characters are heavily stereotyped -- the angry veterans, the terrified illegal aliens, the crooked cops, the indifferent feds, the bitchy tough lady station head, the crooked politician, the fat federale who looks like he was typecast as the Mexican in a Hollywood movie from the 1940s. All passably acted but again nothing special.<br /><br />I thought the main villains were pretty well done and fairly well acted. By the end of the movie you certainly knew who the good guys were and weren't. There was an emotional lift as the really bad ones got their just deserts. Very simplistic, but then you weren't expecting Hamlet, right? The only thing I found really annoying was the constant cuts to VDs daughter during the last fight scene.<br /><br />Not bad. Not good. Passable 4.\",\n",
              "  \"its a totally average film with a few semi-alright action sequences that make the plot seem a little better and remind the viewer of the classic van dam films. parts of the plot don't make sense and seem to be added in to use up time. the end plot is that of a very basic type that doesn't leave the viewer guessing and any twists are obvious from the beginning. the end scene with the flask backs don't make sense as they are added in and seem to have little relevance to the history of van dam's character. not really worth watching again, bit disappointed in the end production, even though it is apparent it was shot on a low budget certain shots and sections in the film are of poor directed quality\"],\n",
              " 'label': [0, 0, 0]}"
            ]
          },
          "metadata": {},
          "execution_count": 57
        }
      ]
    },
    {
      "cell_type": "code",
      "source": [
        "imdb['train'] = imdb['train'].shuffle(seed=1).select(range(2000))\n",
        "imdb['train']"
      ],
      "metadata": {
        "id": "47Cfe7LvHa58",
        "colab": {
          "base_uri": "https://localhost:8080/"
        },
        "outputId": "d57bc796-5241-48b4-8ec7-15e130bb95a5"
      },
      "execution_count": 58,
      "outputs": [
        {
          "output_type": "stream",
          "name": "stderr",
          "text": [
            "WARNING:datasets.arrow_dataset:Loading cached shuffled indices for dataset at /root/.cache/huggingface/datasets/imdb/plain_text/1.0.0/d613c88cf8fa3bab83b4ded3713f1f74830d1100e171db75bbddb80b3345c9c0/cache-b30490d9bb1910a8.arrow\n"
          ]
        },
        {
          "output_type": "execute_result",
          "data": {
            "text/plain": [
              "Dataset({\n",
              "    features: ['text', 'label'],\n",
              "    num_rows: 2000\n",
              "})"
            ]
          },
          "metadata": {},
          "execution_count": 58
        }
      ]
    },
    {
      "cell_type": "code",
      "source": [
        "imdb_train_validation = imdb['train'].train_test_split(train_size=0.8)\n",
        "imdb_train_validation"
      ],
      "metadata": {
        "id": "6T6i3wSa7dnU",
        "colab": {
          "base_uri": "https://localhost:8080/"
        },
        "outputId": "7e263617-3f7c-4487-b295-1e255cd8d81c"
      },
      "execution_count": 59,
      "outputs": [
        {
          "output_type": "execute_result",
          "data": {
            "text/plain": [
              "DatasetDict({\n",
              "    train: Dataset({\n",
              "        features: ['text', 'label'],\n",
              "        num_rows: 1600\n",
              "    })\n",
              "    test: Dataset({\n",
              "        features: ['text', 'label'],\n",
              "        num_rows: 400\n",
              "    })\n",
              "})"
            ]
          },
          "metadata": {},
          "execution_count": 59
        }
      ]
    },
    {
      "cell_type": "code",
      "source": [
        "imdb_train_validation['test']"
      ],
      "metadata": {
        "id": "MwqRoqGw8ceB",
        "colab": {
          "base_uri": "https://localhost:8080/"
        },
        "outputId": "c7c12054-01a1-469d-be43-b11b29f5d3f9"
      },
      "execution_count": 60,
      "outputs": [
        {
          "output_type": "execute_result",
          "data": {
            "text/plain": [
              "Dataset({\n",
              "    features: ['text', 'label'],\n",
              "    num_rows: 400\n",
              "})"
            ]
          },
          "metadata": {},
          "execution_count": 60
        }
      ]
    },
    {
      "cell_type": "code",
      "source": [
        "imdb_train_validation['validation'] = imdb_train_validation.pop('test')\n",
        "imdb_train_validation"
      ],
      "metadata": {
        "id": "Ekv4pB2X9rfB",
        "colab": {
          "base_uri": "https://localhost:8080/"
        },
        "outputId": "984c7e71-c85f-43e6-d7ce-cbe0657dab0e"
      },
      "execution_count": 61,
      "outputs": [
        {
          "output_type": "execute_result",
          "data": {
            "text/plain": [
              "DatasetDict({\n",
              "    train: Dataset({\n",
              "        features: ['text', 'label'],\n",
              "        num_rows: 1600\n",
              "    })\n",
              "    validation: Dataset({\n",
              "        features: ['text', 'label'],\n",
              "        num_rows: 400\n",
              "    })\n",
              "})"
            ]
          },
          "metadata": {},
          "execution_count": 61
        }
      ]
    },
    {
      "cell_type": "code",
      "source": [
        "imdb.update(imdb_train_validation)\n",
        "imdb"
      ],
      "metadata": {
        "id": "IoTQkAy8-Ich",
        "colab": {
          "base_uri": "https://localhost:8080/"
        },
        "outputId": "93b7468a-f6bf-4621-b9fd-598e116ffb0a"
      },
      "execution_count": 62,
      "outputs": [
        {
          "output_type": "execute_result",
          "data": {
            "text/plain": [
              "DatasetDict({\n",
              "    train: Dataset({\n",
              "        features: ['text', 'label'],\n",
              "        num_rows: 1600\n",
              "    })\n",
              "    test: Dataset({\n",
              "        features: ['text', 'label'],\n",
              "        num_rows: 25000\n",
              "    })\n",
              "    unsupervised: Dataset({\n",
              "        features: ['text', 'label'],\n",
              "        num_rows: 50000\n",
              "    })\n",
              "    validation: Dataset({\n",
              "        features: ['text', 'label'],\n",
              "        num_rows: 400\n",
              "    })\n",
              "})"
            ]
          },
          "metadata": {},
          "execution_count": 62
        }
      ]
    },
    {
      "cell_type": "code",
      "source": [
        "imdb['test'] = imdb['test'].shuffle(seed=1).select(range(400))\n",
        "imdb['test']"
      ],
      "metadata": {
        "id": "t8yK_crFIPVJ",
        "colab": {
          "base_uri": "https://localhost:8080/"
        },
        "outputId": "0af7b0e7-02c0-4b04-da6e-d0b35e365d04"
      },
      "execution_count": 63,
      "outputs": [
        {
          "output_type": "stream",
          "name": "stderr",
          "text": [
            "WARNING:datasets.arrow_dataset:Loading cached shuffled indices for dataset at /root/.cache/huggingface/datasets/imdb/plain_text/1.0.0/d613c88cf8fa3bab83b4ded3713f1f74830d1100e171db75bbddb80b3345c9c0/cache-25a13d1ede6e3cb3.arrow\n"
          ]
        },
        {
          "output_type": "execute_result",
          "data": {
            "text/plain": [
              "Dataset({\n",
              "    features: ['text', 'label'],\n",
              "    num_rows: 400\n",
              "})"
            ]
          },
          "metadata": {},
          "execution_count": 63
        }
      ]
    },
    {
      "cell_type": "code",
      "source": [
        "imdb['unsupervised'][:3]"
      ],
      "metadata": {
        "id": "cAkJxxdk-iaz",
        "colab": {
          "base_uri": "https://localhost:8080/"
        },
        "outputId": "56c9d1a0-10ec-4242-f858-90dd037acc16"
      },
      "execution_count": 64,
      "outputs": [
        {
          "output_type": "execute_result",
          "data": {
            "text/plain": [
              "{'text': ['This is just a precious little diamond. The play, the script are excellent. I cant compare this movie with anything else, maybe except the movie \"Leon\" wonderfully played by Jean Reno and Natalie Portman. But... What can I say about this one? This is the best movie Anne Parillaud has ever played in (See please \"Frankie Starlight\", she\\'s speaking English there) to see what I mean. The story of young punk girl Nikita, taken into the depraved world of the secret government forces has been exceptionally over used by Americans. Never mind the \"Point of no return\" and especially the \"La femme Nikita\" TV series. They cannot compare the original believe me! Trash these videos. Buy this one, do not rent it, BUY it. BTW beware of the subtitles of the LA company which \"translate\" the US release. What a disgrace! If you cant understand French, get a dubbed version. But you\\'ll regret later :)',\n",
              "  'When I say this is my favourite film of all time, that comment is not to be taken lightly. I probably watch far too many films than is healthy for me, and have loved quite a few of them. I first saw \"La Femme Nikita\" nearly ten years ago, and it still manages to be my absolute favourite. Why?<br /><br />This is more than an incredibly stylish and sexy thriller. Luc Besson\\'s great flair for impeccable direction, fashion, and appropriate usage of music makes this a very watchable film. But it is Anne Parillaud\\'s perfect rendering of a complex character who transforms from a heartless killer into a compassionate, vibrant young woman that makes this film beautiful. I can\\'t keep my eyes off of her when she is on screen.<br /><br />I have seen several of Luc Besson\\'s films including \"Subway\", \"The Professional\", and the irritating \"Fifth Element\", and \"Nikita\" is without a doubt, far superior to any of these. Although this film has tragic elements, it is ultimately extremely hopeful. It is the story of a person who is cruel and merciless, who ultimately comes to realize her own humanity and her own personal power. That, to me is extremely inspiring. If there is hope for Nikita, there is hope for all of us.',\n",
              "  'I saw this movie because I am a huge fan of the TV series of the same name starring Roy Dupuis and Pet Wilson. The movie was really good and I saw how the TV show is based on the movie. A few episodes of the TV series came directly from the movie and their similarity was amazing. To keep things short, any fan of the movie has to watch the series and any fan of the series must see the original Nikita.'],\n",
              " 'label': [-1, -1, -1]}"
            ]
          },
          "metadata": {},
          "execution_count": 64
        }
      ]
    },
    {
      "cell_type": "code",
      "source": [
        "imdb.pop('unsupervised')\n",
        "imdb"
      ],
      "metadata": {
        "id": "1V7EsAEt-pk3",
        "colab": {
          "base_uri": "https://localhost:8080/"
        },
        "outputId": "bbb929b9-7fcc-4929-f729-a081d0df4b43"
      },
      "execution_count": 65,
      "outputs": [
        {
          "output_type": "execute_result",
          "data": {
            "text/plain": [
              "DatasetDict({\n",
              "    train: Dataset({\n",
              "        features: ['text', 'label'],\n",
              "        num_rows: 1600\n",
              "    })\n",
              "    test: Dataset({\n",
              "        features: ['text', 'label'],\n",
              "        num_rows: 400\n",
              "    })\n",
              "    validation: Dataset({\n",
              "        features: ['text', 'label'],\n",
              "        num_rows: 400\n",
              "    })\n",
              "})"
            ]
          },
          "metadata": {},
          "execution_count": 65
        }
      ]
    },
    {
      "cell_type": "markdown",
      "source": [
        "## Overview of IMDB Dataset"
      ],
      "metadata": {
        "id": "vVWxeSidE6R3"
      }
    },
    {
      "cell_type": "code",
      "source": [
        "import pandas as pd\n",
        "import matplotlib.pyplot as plt\n",
        "pd.set_option('max_colwidth', 250)"
      ],
      "metadata": {
        "id": "9W8lNegFGEGc"
      },
      "execution_count": 66,
      "outputs": []
    },
    {
      "cell_type": "code",
      "source": [
        "imdb.set_format('pandas')\n",
        "df = imdb['train'][:]\n",
        "df.sample(frac=1 ,random_state=1).head(10)"
      ],
      "metadata": {
        "id": "kYIQ4TbFBF8w",
        "colab": {
          "base_uri": "https://localhost:8080/",
          "height": 363
        },
        "outputId": "8e68461d-8e3c-4be4-a483-8b2904ad84f1"
      },
      "execution_count": 67,
      "outputs": [
        {
          "output_type": "execute_result",
          "data": {
            "text/plain": [
              "                                                                                                                                                                                                                                                           text  \\\n",
              "75    This movie is an insult to ALL submariners. It was stupid. It appeared to have been written by monkeys. The acting was absurd. If this is the view most people have of the Navy, then I weep for our defense. This movie was awful. I put it below \"Vo...   \n",
              "1284  People criticise Disney's animated features of the 1950s for being overly glossy, set in landscapes that are much too pristine. That criticism is just. And yet it can't be the whole story, because the two least glossy - \"Alice in Wonderland\" and ...   \n",
              "408   I had to give this film a 10 simply because it did what so many films thrown at black audiences have FAILED MISERABLY to do. This film was void of all the video whore clichés, and it also skipped the gangsters, rappers, and foul language. It exam...   \n",
              "1282  Black Candles is rather a muddled mess from the same director that brought us \"Vampyres\" and much later, \"Rest in Pieces\", among others..I'm only noting the ones I've seen. At any rate, we have a couple making love and then somewhere near by a pi...   \n",
              "1447  ...but this just isn't working and I am surprised to see how many people consider it good. On what grounds? There are some loose hints here and there, but the whole material is self-indulgent and unconvincing. Lynch's movies are generally intrigu...   \n",
              "1144  The really sad thing is that this was supposedly the highest budget \"Halestorm Entertainment\" has had to work with. All involved should be fined for littering since all the celluloid they wasted is good for nothing more than filling the trash. No...   \n",
              "1381  A very well made film set in early '60s communist Yugoslavia. The five young actors who are the teenagers at the center of the story give strong, sincere and emotionally deep performances. A clear depiction of how the natural trust and naivete in...   \n",
              "181   While a bit preachy on the topic of progress as the saving grace of mankind, this is still a stunning film that presages the science-fiction special effects blockbusters that would take another 40 years to arrive on the silver screen. It predicts...   \n",
              "1183  Neil Simon's THE ODD COUPLE set up a model for many of his later plays. Felix Unger and Oscar Madison were the unsuitably paired roommates in the original, the former being picky and neat, the latter being slovenly and loose. Simon would rewrite ...   \n",
              "1103  I have read the short story by Norman Maclean, and the movie did justice to Norman Maclean's writing. My husband tends to reread it occasionally, and I myself have read it over and scenes of the movie keeps coming to mind. We have videos of many ...   \n",
              "\n",
              "      label  \n",
              "75        0  \n",
              "1284      1  \n",
              "408       1  \n",
              "1282      0  \n",
              "1447      0  \n",
              "1144      0  \n",
              "1381      1  \n",
              "181       1  \n",
              "1183      1  \n",
              "1103      1  "
            ],
            "text/html": [
              "\n",
              "  <div id=\"df-9f5de3f1-ea32-4599-91aa-29acb3ff4900\">\n",
              "    <div class=\"colab-df-container\">\n",
              "      <div>\n",
              "<style scoped>\n",
              "    .dataframe tbody tr th:only-of-type {\n",
              "        vertical-align: middle;\n",
              "    }\n",
              "\n",
              "    .dataframe tbody tr th {\n",
              "        vertical-align: top;\n",
              "    }\n",
              "\n",
              "    .dataframe thead th {\n",
              "        text-align: right;\n",
              "    }\n",
              "</style>\n",
              "<table border=\"1\" class=\"dataframe\">\n",
              "  <thead>\n",
              "    <tr style=\"text-align: right;\">\n",
              "      <th></th>\n",
              "      <th>text</th>\n",
              "      <th>label</th>\n",
              "    </tr>\n",
              "  </thead>\n",
              "  <tbody>\n",
              "    <tr>\n",
              "      <th>75</th>\n",
              "      <td>This movie is an insult to ALL submariners. It was stupid. It appeared to have been written by monkeys. The acting was absurd. If this is the view most people have of the Navy, then I weep for our defense. This movie was awful. I put it below \"Vo...</td>\n",
              "      <td>0</td>\n",
              "    </tr>\n",
              "    <tr>\n",
              "      <th>1284</th>\n",
              "      <td>People criticise Disney's animated features of the 1950s for being overly glossy, set in landscapes that are much too pristine. That criticism is just. And yet it can't be the whole story, because the two least glossy - \"Alice in Wonderland\" and ...</td>\n",
              "      <td>1</td>\n",
              "    </tr>\n",
              "    <tr>\n",
              "      <th>408</th>\n",
              "      <td>I had to give this film a 10 simply because it did what so many films thrown at black audiences have FAILED MISERABLY to do. This film was void of all the video whore clichés, and it also skipped the gangsters, rappers, and foul language. It exam...</td>\n",
              "      <td>1</td>\n",
              "    </tr>\n",
              "    <tr>\n",
              "      <th>1282</th>\n",
              "      <td>Black Candles is rather a muddled mess from the same director that brought us \"Vampyres\" and much later, \"Rest in Pieces\", among others..I'm only noting the ones I've seen. At any rate, we have a couple making love and then somewhere near by a pi...</td>\n",
              "      <td>0</td>\n",
              "    </tr>\n",
              "    <tr>\n",
              "      <th>1447</th>\n",
              "      <td>...but this just isn't working and I am surprised to see how many people consider it good. On what grounds? There are some loose hints here and there, but the whole material is self-indulgent and unconvincing. Lynch's movies are generally intrigu...</td>\n",
              "      <td>0</td>\n",
              "    </tr>\n",
              "    <tr>\n",
              "      <th>1144</th>\n",
              "      <td>The really sad thing is that this was supposedly the highest budget \"Halestorm Entertainment\" has had to work with. All involved should be fined for littering since all the celluloid they wasted is good for nothing more than filling the trash. No...</td>\n",
              "      <td>0</td>\n",
              "    </tr>\n",
              "    <tr>\n",
              "      <th>1381</th>\n",
              "      <td>A very well made film set in early '60s communist Yugoslavia. The five young actors who are the teenagers at the center of the story give strong, sincere and emotionally deep performances. A clear depiction of how the natural trust and naivete in...</td>\n",
              "      <td>1</td>\n",
              "    </tr>\n",
              "    <tr>\n",
              "      <th>181</th>\n",
              "      <td>While a bit preachy on the topic of progress as the saving grace of mankind, this is still a stunning film that presages the science-fiction special effects blockbusters that would take another 40 years to arrive on the silver screen. It predicts...</td>\n",
              "      <td>1</td>\n",
              "    </tr>\n",
              "    <tr>\n",
              "      <th>1183</th>\n",
              "      <td>Neil Simon's THE ODD COUPLE set up a model for many of his later plays. Felix Unger and Oscar Madison were the unsuitably paired roommates in the original, the former being picky and neat, the latter being slovenly and loose. Simon would rewrite ...</td>\n",
              "      <td>1</td>\n",
              "    </tr>\n",
              "    <tr>\n",
              "      <th>1103</th>\n",
              "      <td>I have read the short story by Norman Maclean, and the movie did justice to Norman Maclean's writing. My husband tends to reread it occasionally, and I myself have read it over and scenes of the movie keeps coming to mind. We have videos of many ...</td>\n",
              "      <td>1</td>\n",
              "    </tr>\n",
              "  </tbody>\n",
              "</table>\n",
              "</div>\n",
              "      <button class=\"colab-df-convert\" onclick=\"convertToInteractive('df-9f5de3f1-ea32-4599-91aa-29acb3ff4900')\"\n",
              "              title=\"Convert this dataframe to an interactive table.\"\n",
              "              style=\"display:none;\">\n",
              "        \n",
              "  <svg xmlns=\"http://www.w3.org/2000/svg\" height=\"24px\"viewBox=\"0 0 24 24\"\n",
              "       width=\"24px\">\n",
              "    <path d=\"M0 0h24v24H0V0z\" fill=\"none\"/>\n",
              "    <path d=\"M18.56 5.44l.94 2.06.94-2.06 2.06-.94-2.06-.94-.94-2.06-.94 2.06-2.06.94zm-11 1L8.5 8.5l.94-2.06 2.06-.94-2.06-.94L8.5 2.5l-.94 2.06-2.06.94zm10 10l.94 2.06.94-2.06 2.06-.94-2.06-.94-.94-2.06-.94 2.06-2.06.94z\"/><path d=\"M17.41 7.96l-1.37-1.37c-.4-.4-.92-.59-1.43-.59-.52 0-1.04.2-1.43.59L10.3 9.45l-7.72 7.72c-.78.78-.78 2.05 0 2.83L4 21.41c.39.39.9.59 1.41.59.51 0 1.02-.2 1.41-.59l7.78-7.78 2.81-2.81c.8-.78.8-2.07 0-2.86zM5.41 20L4 18.59l7.72-7.72 1.47 1.35L5.41 20z\"/>\n",
              "  </svg>\n",
              "      </button>\n",
              "      \n",
              "  <style>\n",
              "    .colab-df-container {\n",
              "      display:flex;\n",
              "      flex-wrap:wrap;\n",
              "      gap: 12px;\n",
              "    }\n",
              "\n",
              "    .colab-df-convert {\n",
              "      background-color: #E8F0FE;\n",
              "      border: none;\n",
              "      border-radius: 50%;\n",
              "      cursor: pointer;\n",
              "      display: none;\n",
              "      fill: #1967D2;\n",
              "      height: 32px;\n",
              "      padding: 0 0 0 0;\n",
              "      width: 32px;\n",
              "    }\n",
              "\n",
              "    .colab-df-convert:hover {\n",
              "      background-color: #E2EBFA;\n",
              "      box-shadow: 0px 1px 2px rgba(60, 64, 67, 0.3), 0px 1px 3px 1px rgba(60, 64, 67, 0.15);\n",
              "      fill: #174EA6;\n",
              "    }\n",
              "\n",
              "    [theme=dark] .colab-df-convert {\n",
              "      background-color: #3B4455;\n",
              "      fill: #D2E3FC;\n",
              "    }\n",
              "\n",
              "    [theme=dark] .colab-df-convert:hover {\n",
              "      background-color: #434B5C;\n",
              "      box-shadow: 0px 1px 3px 1px rgba(0, 0, 0, 0.15);\n",
              "      filter: drop-shadow(0px 1px 2px rgba(0, 0, 0, 0.3));\n",
              "      fill: #FFFFFF;\n",
              "    }\n",
              "  </style>\n",
              "\n",
              "      <script>\n",
              "        const buttonEl =\n",
              "          document.querySelector('#df-9f5de3f1-ea32-4599-91aa-29acb3ff4900 button.colab-df-convert');\n",
              "        buttonEl.style.display =\n",
              "          google.colab.kernel.accessAllowed ? 'block' : 'none';\n",
              "\n",
              "        async function convertToInteractive(key) {\n",
              "          const element = document.querySelector('#df-9f5de3f1-ea32-4599-91aa-29acb3ff4900');\n",
              "          const dataTable =\n",
              "            await google.colab.kernel.invokeFunction('convertToInteractive',\n",
              "                                                     [key], {});\n",
              "          if (!dataTable) return;\n",
              "\n",
              "          const docLinkHtml = 'Like what you see? Visit the ' +\n",
              "            '<a target=\"_blank\" href=https://colab.research.google.com/notebooks/data_table.ipynb>data table notebook</a>'\n",
              "            + ' to learn more about interactive tables.';\n",
              "          element.innerHTML = '';\n",
              "          dataTable['output_type'] = 'display_data';\n",
              "          await google.colab.output.renderOutput(dataTable, element);\n",
              "          const docLink = document.createElement('div');\n",
              "          docLink.innerHTML = docLinkHtml;\n",
              "          element.appendChild(docLink);\n",
              "        }\n",
              "      </script>\n",
              "    </div>\n",
              "  </div>\n",
              "  "
            ]
          },
          "metadata": {},
          "execution_count": 67
        }
      ]
    },
    {
      "cell_type": "code",
      "source": [
        "df.loc[0, 'text']"
      ],
      "metadata": {
        "id": "VNmjEPnCGXKK",
        "colab": {
          "base_uri": "https://localhost:8080/",
          "height": 105
        },
        "outputId": "703476c7-8503-40d2-f11f-dbb0ff48a7c1"
      },
      "execution_count": 68,
      "outputs": [
        {
          "output_type": "execute_result",
          "data": {
            "text/plain": [
              "'A terrorist attempts to steal a top secret biological weapon, and in the process of trying to escape, he is infected when the case containing the deadly agent is compromised. Soldiers are able to retrieve the case, but the terrorist makes his way to a hotel where he attempts to hide out. They eventually make it to where he\\'s hiding, and \"cleanse\" the hotel and its occupants. Unfortunately they dispose of his body by cremation, and if you\\'ve seen Return of the Living Dead, you know what happens next.<br /><br />Zombi 3 has been widely panned by critics and zombie fans alike, as a complete mess of a movie. While that\\'s a fair assessment, it\\'s not without it\\'s high points. For one thing, it has plenty of bloody deaths to keep gore-hounds happy. There\\'s an abundance of zombies that seem to come out from everywhere possible. They\\'re in the water, the rafters of houses, hiding in trees, and for some reason, they like to hide under a bunch of dead brush, only to spring out to attack as the heroes try to escape. There\\'s even a flying zombie head that hides inside a refrigerator. You have to see it to believe it, as that scene alone makes Zombi 3 required viewing IMO. It may have some terrible editing and some very questionable acting, especially from the doctor who has to be one of the worst actors I\\'ve seen, but Zombie 3 is still a very entertaining movie. Sometimes it\\'s nice to sit back and watch a movie that doesn\\'t require anything more than your time and an open mind. Zombi 3 fits that bill, and then some. It\\'s even more enjoyable if you pop open a few beers, and watch it with some like minded friends. I give it an 8/10, just because of sheer enjoyment.'"
            ],
            "application/vnd.google.colaboratory.intrinsic+json": {
              "type": "string"
            }
          },
          "metadata": {},
          "execution_count": 68
        }
      ]
    },
    {
      "cell_type": "code",
      "source": [
        "df['text'] = df.text.str.replace('<br />', '')\n",
        "df.loc[0, 'text']"
      ],
      "metadata": {
        "id": "EjA116L-GrHL",
        "colab": {
          "base_uri": "https://localhost:8080/",
          "height": 105
        },
        "outputId": "043f3783-50cc-45dc-b2ba-18fbc1ceb80c"
      },
      "execution_count": 69,
      "outputs": [
        {
          "output_type": "execute_result",
          "data": {
            "text/plain": [
              "'A terrorist attempts to steal a top secret biological weapon, and in the process of trying to escape, he is infected when the case containing the deadly agent is compromised. Soldiers are able to retrieve the case, but the terrorist makes his way to a hotel where he attempts to hide out. They eventually make it to where he\\'s hiding, and \"cleanse\" the hotel and its occupants. Unfortunately they dispose of his body by cremation, and if you\\'ve seen Return of the Living Dead, you know what happens next.Zombi 3 has been widely panned by critics and zombie fans alike, as a complete mess of a movie. While that\\'s a fair assessment, it\\'s not without it\\'s high points. For one thing, it has plenty of bloody deaths to keep gore-hounds happy. There\\'s an abundance of zombies that seem to come out from everywhere possible. They\\'re in the water, the rafters of houses, hiding in trees, and for some reason, they like to hide under a bunch of dead brush, only to spring out to attack as the heroes try to escape. There\\'s even a flying zombie head that hides inside a refrigerator. You have to see it to believe it, as that scene alone makes Zombi 3 required viewing IMO. It may have some terrible editing and some very questionable acting, especially from the doctor who has to be one of the worst actors I\\'ve seen, but Zombie 3 is still a very entertaining movie. Sometimes it\\'s nice to sit back and watch a movie that doesn\\'t require anything more than your time and an open mind. Zombi 3 fits that bill, and then some. It\\'s even more enjoyable if you pop open a few beers, and watch it with some like minded friends. I give it an 8/10, just because of sheer enjoyment.'"
            ],
            "application/vnd.google.colaboratory.intrinsic+json": {
              "type": "string"
            }
          },
          "metadata": {},
          "execution_count": 69
        }
      ]
    },
    {
      "cell_type": "code",
      "source": [
        "df.label.value_counts()"
      ],
      "metadata": {
        "id": "YAbSUGBPFkGo",
        "colab": {
          "base_uri": "https://localhost:8080/"
        },
        "outputId": "03f08eb6-e32d-447e-c594-af0b70b8d4f5"
      },
      "execution_count": 70,
      "outputs": [
        {
          "output_type": "execute_result",
          "data": {
            "text/plain": [
              "0    815\n",
              "1    785\n",
              "Name: label, dtype: int64"
            ]
          },
          "metadata": {},
          "execution_count": 70
        }
      ]
    },
    {
      "cell_type": "code",
      "source": [
        "df[\"Words per review\"] = df[\"text\"].str.split().apply(len)\n",
        "df.boxplot(\"Words per review\", by=\"label\", grid=False, showfliers=False,\n",
        "           color=\"black\")\n",
        "plt.suptitle(\"\")\n",
        "plt.xlabel(\"\")\n",
        "plt.show()"
      ],
      "metadata": {
        "id": "iMkhVdcXIYlA",
        "colab": {
          "base_uri": "https://localhost:8080/",
          "height": 443
        },
        "outputId": "e3e7eff0-efcf-489b-8e92-25a7835043e4"
      },
      "execution_count": 71,
      "outputs": [
        {
          "output_type": "display_data",
          "data": {
            "text/plain": [
              "<Figure size 640x480 with 1 Axes>"
            ],
            "image/png": "[encoded data removed]"
          },
          "metadata": {}
        }
      ]
    },
    {
      "cell_type": "code",
      "source": [
        "# 0 is negative\n",
        "# 1 is positive\n",
        "df[df.text.str.len() < 200]"
      ],
      "metadata": {
        "id": "l8ApthcqFz6N",
        "colab": {
          "base_uri": "https://localhost:8080/",
          "height": 238
        },
        "outputId": "570b55e5-ef5c-44bf-cb2f-9e74d89774b4"
      },
      "execution_count": 72,
      "outputs": [
        {
          "output_type": "execute_result",
          "data": {
            "text/plain": [
              "                                                                                                                                                                                                      text  \\\n",
              "572                        This is actually one of my favorite films, I would recommend that EVERYONE watches it. There is some great acting in it and it shows that not all \"good\" films are American....   \n",
              "764                                         Brilliant execution in displaying once and for all, this time in the venue of politics, of how \"good intentions do actually pave the road to hell\". Excellent!   \n",
              "839                                            One of my favorite scenes is at the beginning when guests on a private yacht decide to take an impromptu swim - in their underwear! Rather risqué for 1931!   \n",
              "1383    Before Dogma 95: when Lars used movies as art, not just a story. A beautiful painting about love and death. This is one of my favorite movies of all time. The color... The music... Just perfect.   \n",
              "1418                              A movie best summed up by the scene where a victim simulates disembowelment by pulling some poor animal's intestines out from under her T-shirt. Too terrible for words.   \n",
              "1496  \"Foxes\" is a great film. The four young actresses Jodie Foster, Cherie Currie, Marilyn Kagan and Kandice Stroh are wonderful. The song \"On the radio\" by Donna Summer is lovely. A great film. *****   \n",
              "\n",
              "      label  Words per review  \n",
              "572       1                32  \n",
              "764       1                27  \n",
              "839       1                29  \n",
              "1383      1                36  \n",
              "1418      0                28  \n",
              "1496      1                34  "
            ],
            "text/html": [
              "\n",
              "  <div id=\"df-c6fea629-ccc4-4887-bbb7-33bd56394319\">\n",
              "    <div class=\"colab-df-container\">\n",
              "      <div>\n",
              "<style scoped>\n",
              "    .dataframe tbody tr th:only-of-type {\n",
              "        vertical-align: middle;\n",
              "    }\n",
              "\n",
              "    .dataframe tbody tr th {\n",
              "        vertical-align: top;\n",
              "    }\n",
              "\n",
              "    .dataframe thead th {\n",
              "        text-align: right;\n",
              "    }\n",
              "</style>\n",
              "<table border=\"1\" class=\"dataframe\">\n",
              "  <thead>\n",
              "    <tr style=\"text-align: right;\">\n",
              "      <th></th>\n",
              "      <th>text</th>\n",
              "      <th>label</th>\n",
              "      <th>Words per review</th>\n",
              "    </tr>\n",
              "  </thead>\n",
              "  <tbody>\n",
              "    <tr>\n",
              "      <th>572</th>\n",
              "      <td>This is actually one of my favorite films, I would recommend that EVERYONE watches it. There is some great acting in it and it shows that not all \"good\" films are American....</td>\n",
              "      <td>1</td>\n",
              "      <td>32</td>\n",
              "    </tr>\n",
              "    <tr>\n",
              "      <th>764</th>\n",
              "      <td>Brilliant execution in displaying once and for all, this time in the venue of politics, of how \"good intentions do actually pave the road to hell\". Excellent!</td>\n",
              "      <td>1</td>\n",
              "      <td>27</td>\n",
              "    </tr>\n",
              "    <tr>\n",
              "      <th>839</th>\n",
              "      <td>One of my favorite scenes is at the beginning when guests on a private yacht decide to take an impromptu swim - in their underwear! Rather risqué for 1931!</td>\n",
              "      <td>1</td>\n",
              "      <td>29</td>\n",
              "    </tr>\n",
              "    <tr>\n",
              "      <th>1383</th>\n",
              "      <td>Before Dogma 95: when Lars used movies as art, not just a story. A beautiful painting about love and death. This is one of my favorite movies of all time. The color... The music... Just perfect.</td>\n",
              "      <td>1</td>\n",
              "      <td>36</td>\n",
              "    </tr>\n",
              "    <tr>\n",
              "      <th>1418</th>\n",
              "      <td>A movie best summed up by the scene where a victim simulates disembowelment by pulling some poor animal's intestines out from under her T-shirt. Too terrible for words.</td>\n",
              "      <td>0</td>\n",
              "      <td>28</td>\n",
              "    </tr>\n",
              "    <tr>\n",
              "      <th>1496</th>\n",
              "      <td>\"Foxes\" is a great film. The four young actresses Jodie Foster, Cherie Currie, Marilyn Kagan and Kandice Stroh are wonderful. The song \"On the radio\" by Donna Summer is lovely. A great film. *****</td>\n",
              "      <td>1</td>\n",
              "      <td>34</td>\n",
              "    </tr>\n",
              "  </tbody>\n",
              "</table>\n",
              "</div>\n",
              "      <button class=\"colab-df-convert\" onclick=\"convertToInteractive('df-c6fea629-ccc4-4887-bbb7-33bd56394319')\"\n",
              "              title=\"Convert this dataframe to an interactive table.\"\n",
              "              style=\"display:none;\">\n",
              "        \n",
              "  <svg xmlns=\"http://www.w3.org/2000/svg\" height=\"24px\"viewBox=\"0 0 24 24\"\n",
              "       width=\"24px\">\n",
              "    <path d=\"M0 0h24v24H0V0z\" fill=\"none\"/>\n",
              "    <path d=\"M18.56 5.44l.94 2.06.94-2.06 2.06-.94-2.06-.94-.94-2.06-.94 2.06-2.06.94zm-11 1L8.5 8.5l.94-2.06 2.06-.94-2.06-.94L8.5 2.5l-.94 2.06-2.06.94zm10 10l.94 2.06.94-2.06 2.06-.94-2.06-.94-.94-2.06-.94 2.06-2.06.94z\"/><path d=\"M17.41 7.96l-1.37-1.37c-.4-.4-.92-.59-1.43-.59-.52 0-1.04.2-1.43.59L10.3 9.45l-7.72 7.72c-.78.78-.78 2.05 0 2.83L4 21.41c.39.39.9.59 1.41.59.51 0 1.02-.2 1.41-.59l7.78-7.78 2.81-2.81c.8-.78.8-2.07 0-2.86zM5.41 20L4 18.59l7.72-7.72 1.47 1.35L5.41 20z\"/>\n",
              "  </svg>\n",
              "      </button>\n",
              "      \n",
              "  <style>\n",
              "    .colab-df-container {\n",
              "      display:flex;\n",
              "      flex-wrap:wrap;\n",
              "      gap: 12px;\n",
              "    }\n",
              "\n",
              "    .colab-df-convert {\n",
              "      background-color: #E8F0FE;\n",
              "      border: none;\n",
              "      border-radius: 50%;\n",
              "      cursor: pointer;\n",
              "      display: none;\n",
              "      fill: #1967D2;\n",
              "      height: 32px;\n",
              "      padding: 0 0 0 0;\n",
              "      width: 32px;\n",
              "    }\n",
              "\n",
              "    .colab-df-convert:hover {\n",
              "      background-color: #E2EBFA;\n",
              "      box-shadow: 0px 1px 2px rgba(60, 64, 67, 0.3), 0px 1px 3px 1px rgba(60, 64, 67, 0.15);\n",
              "      fill: #174EA6;\n",
              "    }\n",
              "\n",
              "    [theme=dark] .colab-df-convert {\n",
              "      background-color: #3B4455;\n",
              "      fill: #D2E3FC;\n",
              "    }\n",
              "\n",
              "    [theme=dark] .colab-df-convert:hover {\n",
              "      background-color: #434B5C;\n",
              "      box-shadow: 0px 1px 3px 1px rgba(0, 0, 0, 0.15);\n",
              "      filter: drop-shadow(0px 1px 2px rgba(0, 0, 0, 0.3));\n",
              "      fill: #FFFFFF;\n",
              "    }\n",
              "  </style>\n",
              "\n",
              "      <script>\n",
              "        const buttonEl =\n",
              "          document.querySelector('#df-c6fea629-ccc4-4887-bbb7-33bd56394319 button.colab-df-convert');\n",
              "        buttonEl.style.display =\n",
              "          google.colab.kernel.accessAllowed ? 'block' : 'none';\n",
              "\n",
              "        async function convertToInteractive(key) {\n",
              "          const element = document.querySelector('#df-c6fea629-ccc4-4887-bbb7-33bd56394319');\n",
              "          const dataTable =\n",
              "            await google.colab.kernel.invokeFunction('convertToInteractive',\n",
              "                                                     [key], {});\n",
              "          if (!dataTable) return;\n",
              "\n",
              "          const docLinkHtml = 'Like what you see? Visit the ' +\n",
              "            '<a target=\"_blank\" href=https://colab.research.google.com/notebooks/data_table.ipynb>data table notebook</a>'\n",
              "            + ' to learn more about interactive tables.';\n",
              "          element.innerHTML = '';\n",
              "          dataTable['output_type'] = 'display_data';\n",
              "          await google.colab.output.renderOutput(dataTable, element);\n",
              "          const docLink = document.createElement('div');\n",
              "          docLink.innerHTML = docLinkHtml;\n",
              "          element.appendChild(docLink);\n",
              "        }\n",
              "      </script>\n",
              "    </div>\n",
              "  </div>\n",
              "  "
            ]
          },
          "metadata": {},
          "execution_count": 72
        }
      ]
    },
    {
      "cell_type": "code",
      "source": [
        "imdb.reset_format()"
      ],
      "metadata": {
        "id": "xjPAmZ4EHis9"
      },
      "execution_count": 73,
      "outputs": []
    },
    {
      "cell_type": "markdown",
      "source": [
        "## Tokenizer"
      ],
      "metadata": {
        "id": "w_gtRu5PJgt0"
      }
    },
    {
      "cell_type": "code",
      "source": [
        "from transformers import AutoTokenizer\n",
        "\n",
        "#checkpoint = \"distilbert-base-cased\"\n",
        "checkpoint = \"bert-base-cased\"\n",
        "tokenizer = AutoTokenizer.from_pretrained(checkpoint)\n",
        "\n",
        "def tokenize_function(batch):\n",
        "    return tokenizer(batch[\"text\"], padding=True, truncation=True)\n",
        "\n",
        "imdb_encoded = imdb.map(tokenize_function, batched=True, batch_size=None)\n",
        "imdb_encoded"
      ],
      "metadata": {
        "id": "J0X7XtbYH0p4",
        "colab": {
          "base_uri": "https://localhost:8080/",
          "height": 277,
          "referenced_widgets": [
            "d221c8c55a6748b3904d01e05707ca83",
            "195ca5e3eb4f42a6b70b3ebe5d5c77cf",
            "839dcde87f8f4a07acad616df22a4f7c",
            "d0a46b4360b1439f9b41346812480669",
            "2aa4f24d89f045a69f28634508e983b9",
            "828ee10d7967457380132c5ac6c5c8fe",
            "5bfa1e752f8843d0b92b72e8e25c7baa",
            "5e9283c0397c41258b4dd4bca5e8b327",
            "e880a0cd0ef640dfae25e67607503aad",
            "f11ff58f5005483db93f393790ff8de9",
            "8eb3b63f5d894172a028575df95d6799",
            "9aa03e18beb14301be8086e6e7970676",
            "a151817f9a1f4f8bb8295c67d3e0c4a2",
            "28390defec0e4a8db7287d9178371c9d",
            "61b1b79fbd034d11b66429c5b94b5703",
            "7a5d554e465b45dea56f2df1e467ce4f",
            "08df21d7638c4c05a641401aa164cb20",
            "6a776de051dc44f592a691e45f164643",
            "a5f2d7505367456189081ef5fa134d11",
            "7340594517e7446ab6d125a5b635f53e",
            "abb98504665e479e98f8a578d9d17248",
            "359ef396318a4024ae56a775b53c407d"
          ]
        },
        "outputId": "655d953f-cb46-4432-bb6d-bbd238c4b810"
      },
      "execution_count": 74,
      "outputs": [
        {
          "output_type": "display_data",
          "data": {
            "text/plain": [
              "Map:   0%|          | 0/1600 [00:00<?, ? examples/s]"
            ],
            "application/vnd.jupyter.widget-view+json": {
              "version_major": 2,
              "version_minor": 0,
              "model_id": "d221c8c55a6748b3904d01e05707ca83"
            }
          },
          "metadata": {}
        },
        {
          "output_type": "stream",
          "name": "stderr",
          "text": [
            "WARNING:datasets.arrow_dataset:Loading cached processed dataset at /root/.cache/huggingface/datasets/imdb/plain_text/1.0.0/d613c88cf8fa3bab83b4ded3713f1f74830d1100e171db75bbddb80b3345c9c0/cache-3952616638186380.arrow\n"
          ]
        },
        {
          "output_type": "display_data",
          "data": {
            "text/plain": [
              "Map:   0%|          | 0/400 [00:00<?, ? examples/s]"
            ],
            "application/vnd.jupyter.widget-view+json": {
              "version_major": 2,
              "version_minor": 0,
              "model_id": "9aa03e18beb14301be8086e6e7970676"
            }
          },
          "metadata": {}
        },
        {
          "output_type": "execute_result",
          "data": {
            "text/plain": [
              "DatasetDict({\n",
              "    train: Dataset({\n",
              "        features: ['text', 'label', 'input_ids', 'token_type_ids', 'attention_mask'],\n",
              "        num_rows: 1600\n",
              "    })\n",
              "    test: Dataset({\n",
              "        features: ['text', 'label', 'input_ids', 'token_type_ids', 'attention_mask'],\n",
              "        num_rows: 400\n",
              "    })\n",
              "    validation: Dataset({\n",
              "        features: ['text', 'label', 'input_ids', 'token_type_ids', 'attention_mask'],\n",
              "        num_rows: 400\n",
              "    })\n",
              "})"
            ]
          },
          "metadata": {},
          "execution_count": 74
        }
      ]
    },
    {
      "cell_type": "code",
      "source": [
        "print(imdb_encoded['train'][0])"
      ],
      "metadata": {
        "id": "uNyIowdLJcnx",
        "colab": {
          "base_uri": "https://localhost:8080/"
        },
        "outputId": "2f278559-822a-48c8-aa9f-ff19cbc608b3"
      },
      "execution_count": 75,
      "outputs": [
        {
          "output_type": "stream",
          "name": "stdout",
          "text": [
            "{'text': 'A terrorist attempts to steal a top secret biological weapon, and in the process of trying to escape, he is infected when the case containing the deadly agent is compromised. Soldiers are able to retrieve the case, but the terrorist makes his way to a hotel where he attempts to hide out. They eventually make it to where he\\'s hiding, and \"cleanse\" the hotel and its occupants. Unfortunately they dispose of his body by cremation, and if you\\'ve seen Return of the Living Dead, you know what happens next.<br /><br />Zombi 3 has been widely panned by critics and zombie fans alike, as a complete mess of a movie. While that\\'s a fair assessment, it\\'s not without it\\'s high points. For one thing, it has plenty of bloody deaths to keep gore-hounds happy. There\\'s an abundance of zombies that seem to come out from everywhere possible. They\\'re in the water, the rafters of houses, hiding in trees, and for some reason, they like to hide under a bunch of dead brush, only to spring out to attack as the heroes try to escape. There\\'s even a flying zombie head that hides inside a refrigerator. You have to see it to believe it, as that scene alone makes Zombi 3 required viewing IMO. It may have some terrible editing and some very questionable acting, especially from the doctor who has to be one of the worst actors I\\'ve seen, but Zombie 3 is still a very entertaining movie. Sometimes it\\'s nice to sit back and watch a movie that doesn\\'t require anything more than your time and an open mind. Zombi 3 fits that bill, and then some. It\\'s even more enjoyable if you pop open a few beers, and watch it with some like minded friends. I give it an 8/10, just because of sheer enjoyment.', 'label': 1, 'input_ids': [101, 138, 9640, 4021, 1106, 8991, 170, 1499, 3318, 7269, 4621, 117, 1105, 1107, 1103, 1965, 1104, 1774, 1106, 3359, 117, 1119, 1110, 10594, 1165, 1103, 1692, 4051, 1103, 10310, 3677, 1110, 22485, 119, 16587, 1132, 1682, 1106, 13139, 1103, 1692, 117, 1133, 1103, 9640, 2228, 1117, 1236, 1106, 170, 3415, 1187, 1119, 4021, 1106, 4750, 1149, 119, 1220, 2028, 1294, 1122, 1106, 1187, 1119, 112, 188, 5797, 117, 1105, 107, 4044, 2217, 107, 1103, 3415, 1105, 1157, 20664, 119, 7595, 1152, 4267, 20080, 6787, 1104, 1117, 1404, 1118, 172, 16996, 1891, 117, 1105, 1191, 1128, 112, 1396, 1562, 11121, 1104, 1103, 7932, 5620, 117, 1128, 1221, 1184, 5940, 1397, 119, 133, 9304, 120, 135, 133, 9304, 120, 135, 163, 20972, 1182, 124, 1144, 1151, 3409, 13316, 3540, 1118, 4217, 1105, 16192, 3899, 11609, 117, 1112, 170, 2335, 6477, 1104, 170, 2523, 119, 1799, 1115, 112, 188, 170, 4652, 8670, 117, 1122, 112, 188, 1136, 1443, 1122, 112, 188, 1344, 1827, 119, 1370, 1141, 1645, 117, 1122, 1144, 7722, 1104, 7201, 6209, 1106, 1712, 1301, 1874, 118, 16358, 20408, 2816, 119, 1247, 112, 188, 1126, 15569, 1104, 17715, 1115, 3166, 1106, 1435, 1149, 1121, 7244, 1936, 119, 1220, 112, 1231, 1107, 1103, 1447, 117, 1103, 187, 17495, 1468, 1104, 2725, 117, 5797, 1107, 2863, 117, 1105, 1111, 1199, 2255, 117, 1152, 1176, 1106, 4750, 1223, 170, 9670, 1104, 2044, 8415, 117, 1178, 1106, 3450, 1149, 1106, 2035, 1112, 1103, 10962, 2222, 1106, 3359, 119, 1247, 112, 188, 1256, 170, 3754, 16192, 1246, 1115, 18915, 1656, 170, 20035, 119, 1192, 1138, 1106, 1267, 1122, 1106, 2059, 1122, 117, 1112, 1115, 2741, 2041, 2228, 163, 20972, 1182, 124, 2320, 10761, 146, 20647, 119, 1135, 1336, 1138, 1199, 6434, 10620, 1105, 1199, 1304, 23589, 3176, 117, 2108, 1121, 1103, 3995, 1150, 1144, 1106, 1129, 1141, 1104, 1103, 4997, 5681, 146, 112, 1396, 1562, 117, 1133, 25249, 124, 1110, 1253, 170, 1304, 15021, 2523, 119, 5875, 1122, 112, 188, 3505, 1106, 3465, 1171, 1105, 2824, 170, 2523, 1115, 2144, 112, 189, 4752, 1625, 1167, 1190, 1240, 1159, 1105, 1126, 1501, 1713, 119, 163, 20972, 1182, 124, 17976, 1115, 4550, 117, 1105, 1173, 1199, 119, 1135, 112, 188, 1256, 1167, 24815, 1191, 1128, 3618, 1501, 170, 1374, 23147, 117, 1105, 2824, 1122, 1114, 1199, 1176, 13767, 2053, 119, 146, 1660, 1122, 1126, 129, 120, 1275, 117, 1198, 1272, 1104, 12027, 22345, 119, 102, 0, 0, 0, 0, 0, 0, 0, 0, 0, 0, 0, 0, 0, 0, 0, 0, 0, 0, 0, 0, 0, 0, 0, 0, 0, 0, 0, 0, 0, 0, 0, 0, 0, 0, 0, 0, 0, 0, 0, 0, 0, 0, 0, 0, 0, 0, 0, 0, 0, 0, 0, 0, 0, 0, 0, 0, 0, 0, 0, 0, 0, 0, 0, 0, 0, 0, 0, 0, 0, 0, 0, 0, 0, 0, 0, 0, 0, 0, 0, 0, 0, 0, 0, 0, 0, 0, 0, 0, 0, 0, 0, 0, 0, 0, 0, 0, 0, 0, 0, 0, 0, 0, 0, 0, 0, 0, 0, 0, 0, 0, 0, 0, 0, 0], 'token_type_ids': [0, 0, 0, 0, 0, 0, 0, 0, 0, 0, 0, 0, 0, 0, 0, 0, 0, 0, 0, 0, 0, 0, 0, 0, 0, 0, 0, 0, 0, 0, 0, 0, 0, 0, 0, 0, 0, 0, 0, 0, 0, 0, 0, 0, 0, 0, 0, 0, 0, 0, 0, 0, 0, 0, 0, 0, 0, 0, 0, 0, 0, 0, 0, 0, 0, 0, 0, 0, 0, 0, 0, 0, 0, 0, 0, 0, 0, 0, 0, 0, 0, 0, 0, 0, 0, 0, 0, 0, 0, 0, 0, 0, 0, 0, 0, 0, 0, 0, 0, 0, 0, 0, 0, 0, 0, 0, 0, 0, 0, 0, 0, 0, 0, 0, 0, 0, 0, 0, 0, 0, 0, 0, 0, 0, 0, 0, 0, 0, 0, 0, 0, 0, 0, 0, 0, 0, 0, 0, 0, 0, 0, 0, 0, 0, 0, 0, 0, 0, 0, 0, 0, 0, 0, 0, 0, 0, 0, 0, 0, 0, 0, 0, 0, 0, 0, 0, 0, 0, 0, 0, 0, 0, 0, 0, 0, 0, 0, 0, 0, 0, 0, 0, 0, 0, 0, 0, 0, 0, 0, 0, 0, 0, 0, 0, 0, 0, 0, 0, 0, 0, 0, 0, 0, 0, 0, 0, 0, 0, 0, 0, 0, 0, 0, 0, 0, 0, 0, 0, 0, 0, 0, 0, 0, 0, 0, 0, 0, 0, 0, 0, 0, 0, 0, 0, 0, 0, 0, 0, 0, 0, 0, 0, 0, 0, 0, 0, 0, 0, 0, 0, 0, 0, 0, 0, 0, 0, 0, 0, 0, 0, 0, 0, 0, 0, 0, 0, 0, 0, 0, 0, 0, 0, 0, 0, 0, 0, 0, 0, 0, 0, 0, 0, 0, 0, 0, 0, 0, 0, 0, 0, 0, 0, 0, 0, 0, 0, 0, 0, 0, 0, 0, 0, 0, 0, 0, 0, 0, 0, 0, 0, 0, 0, 0, 0, 0, 0, 0, 0, 0, 0, 0, 0, 0, 0, 0, 0, 0, 0, 0, 0, 0, 0, 0, 0, 0, 0, 0, 0, 0, 0, 0, 0, 0, 0, 0, 0, 0, 0, 0, 0, 0, 0, 0, 0, 0, 0, 0, 0, 0, 0, 0, 0, 0, 0, 0, 0, 0, 0, 0, 0, 0, 0, 0, 0, 0, 0, 0, 0, 0, 0, 0, 0, 0, 0, 0, 0, 0, 0, 0, 0, 0, 0, 0, 0, 0, 0, 0, 0, 0, 0, 0, 0, 0, 0, 0, 0, 0, 0, 0, 0, 0, 0, 0, 0, 0, 0, 0, 0, 0, 0, 0, 0, 0, 0, 0, 0, 0, 0, 0, 0, 0, 0, 0, 0, 0, 0, 0, 0, 0, 0, 0, 0, 0, 0, 0, 0, 0, 0, 0, 0, 0, 0, 0, 0, 0, 0, 0, 0, 0, 0, 0, 0, 0, 0, 0, 0, 0, 0, 0, 0, 0, 0, 0, 0, 0, 0, 0, 0, 0, 0, 0, 0, 0, 0, 0, 0, 0, 0, 0, 0, 0, 0, 0, 0, 0, 0, 0, 0, 0, 0, 0, 0, 0, 0, 0, 0, 0, 0, 0, 0, 0, 0], 'attention_mask': [1, 1, 1, 1, 1, 1, 1, 1, 1, 1, 1, 1, 1, 1, 1, 1, 1, 1, 1, 1, 1, 1, 1, 1, 1, 1, 1, 1, 1, 1, 1, 1, 1, 1, 1, 1, 1, 1, 1, 1, 1, 1, 1, 1, 1, 1, 1, 1, 1, 1, 1, 1, 1, 1, 1, 1, 1, 1, 1, 1, 1, 1, 1, 1, 1, 1, 1, 1, 1, 1, 1, 1, 1, 1, 1, 1, 1, 1, 1, 1, 1, 1, 1, 1, 1, 1, 1, 1, 1, 1, 1, 1, 1, 1, 1, 1, 1, 1, 1, 1, 1, 1, 1, 1, 1, 1, 1, 1, 1, 1, 1, 1, 1, 1, 1, 1, 1, 1, 1, 1, 1, 1, 1, 1, 1, 1, 1, 1, 1, 1, 1, 1, 1, 1, 1, 1, 1, 1, 1, 1, 1, 1, 1, 1, 1, 1, 1, 1, 1, 1, 1, 1, 1, 1, 1, 1, 1, 1, 1, 1, 1, 1, 1, 1, 1, 1, 1, 1, 1, 1, 1, 1, 1, 1, 1, 1, 1, 1, 1, 1, 1, 1, 1, 1, 1, 1, 1, 1, 1, 1, 1, 1, 1, 1, 1, 1, 1, 1, 1, 1, 1, 1, 1, 1, 1, 1, 1, 1, 1, 1, 1, 1, 1, 1, 1, 1, 1, 1, 1, 1, 1, 1, 1, 1, 1, 1, 1, 1, 1, 1, 1, 1, 1, 1, 1, 1, 1, 1, 1, 1, 1, 1, 1, 1, 1, 1, 1, 1, 1, 1, 1, 1, 1, 1, 1, 1, 1, 1, 1, 1, 1, 1, 1, 1, 1, 1, 1, 1, 1, 1, 1, 1, 1, 1, 1, 1, 1, 1, 1, 1, 1, 1, 1, 1, 1, 1, 1, 1, 1, 1, 1, 1, 1, 1, 1, 1, 1, 1, 1, 1, 1, 1, 1, 1, 1, 1, 1, 1, 1, 1, 1, 1, 1, 1, 1, 1, 1, 1, 1, 1, 1, 1, 1, 1, 1, 1, 1, 1, 1, 1, 1, 1, 1, 1, 1, 1, 1, 1, 1, 1, 1, 1, 1, 1, 1, 1, 1, 1, 1, 1, 1, 1, 1, 1, 1, 1, 1, 1, 1, 1, 1, 1, 1, 1, 1, 1, 1, 1, 1, 1, 1, 1, 1, 1, 1, 1, 1, 1, 1, 1, 1, 1, 1, 1, 1, 1, 1, 1, 1, 1, 1, 1, 1, 1, 1, 1, 1, 1, 0, 0, 0, 0, 0, 0, 0, 0, 0, 0, 0, 0, 0, 0, 0, 0, 0, 0, 0, 0, 0, 0, 0, 0, 0, 0, 0, 0, 0, 0, 0, 0, 0, 0, 0, 0, 0, 0, 0, 0, 0, 0, 0, 0, 0, 0, 0, 0, 0, 0, 0, 0, 0, 0, 0, 0, 0, 0, 0, 0, 0, 0, 0, 0, 0, 0, 0, 0, 0, 0, 0, 0, 0, 0, 0, 0, 0, 0, 0, 0, 0, 0, 0, 0, 0, 0, 0, 0, 0, 0, 0, 0, 0, 0, 0, 0, 0, 0, 0, 0, 0, 0, 0, 0, 0, 0, 0, 0, 0, 0, 0, 0, 0, 0]}\n"
          ]
        }
      ]
    },
    {
      "cell_type": "markdown",
      "source": [
        "## Tiny IMDB"
      ],
      "metadata": {
        "id": "5gFjGNLZXixQ"
      }
    },
    {
      "cell_type": "code",
      "source": [
        "import transformers\n",
        "import re\n",
        "\n",
        "[x for x in dir(transformers) if re.search(r'^AutoModel', x)]"
      ],
      "metadata": {
        "colab": {
          "base_uri": "https://localhost:8080/"
        },
        "id": "SUpl1H7qF9KK",
        "outputId": "33d518fd-049c-4665-fa6f-8e7ce28fcec7"
      },
      "execution_count": 76,
      "outputs": [
        {
          "output_type": "execute_result",
          "data": {
            "text/plain": [
              "['AutoModel',\n",
              " 'AutoModelForAudioClassification',\n",
              " 'AutoModelForAudioFrameClassification',\n",
              " 'AutoModelForAudioXVector',\n",
              " 'AutoModelForCTC',\n",
              " 'AutoModelForCausalLM',\n",
              " 'AutoModelForDepthEstimation',\n",
              " 'AutoModelForDocumentQuestionAnswering',\n",
              " 'AutoModelForImageClassification',\n",
              " 'AutoModelForImageSegmentation',\n",
              " 'AutoModelForInstanceSegmentation',\n",
              " 'AutoModelForMaskGeneration',\n",
              " 'AutoModelForMaskedImageModeling',\n",
              " 'AutoModelForMaskedLM',\n",
              " 'AutoModelForMultipleChoice',\n",
              " 'AutoModelForNextSentencePrediction',\n",
              " 'AutoModelForObjectDetection',\n",
              " 'AutoModelForPreTraining',\n",
              " 'AutoModelForQuestionAnswering',\n",
              " 'AutoModelForSemanticSegmentation',\n",
              " 'AutoModelForSeq2SeqLM',\n",
              " 'AutoModelForSequenceClassification',\n",
              " 'AutoModelForSpeechSeq2Seq',\n",
              " 'AutoModelForTableQuestionAnswering',\n",
              " 'AutoModelForTokenClassification',\n",
              " 'AutoModelForUniversalSegmentation',\n",
              " 'AutoModelForVideoClassification',\n",
              " 'AutoModelForVision2Seq',\n",
              " 'AutoModelForVisualQuestionAnswering',\n",
              " 'AutoModelForZeroShotImageClassification',\n",
              " 'AutoModelForZeroShotObjectDetection',\n",
              " 'AutoModelWithLMHead']"
            ]
          },
          "metadata": {},
          "execution_count": 76
        }
      ]
    },
    {
      "cell_type": "code",
      "source": [
        "import torch\n",
        "from transformers import AutoModelForSequenceClassification\n",
        "\n",
        "device = torch.device(\"cuda\" if torch.cuda.is_available() else \"cpu\")\n",
        "num_labels = 2\n",
        "model = (AutoModelForSequenceClassification\n",
        "         .from_pretrained(checkpoint, num_labels=num_labels)\n",
        "         .to(device))"
      ],
      "metadata": {
        "id": "8Zbgt_1rKVcb"
      },
      "execution_count": 77,
      "outputs": []
    },
    {
      "cell_type": "code",
      "source": [
        "from datasets import DatasetDict\n",
        "\n",
        "tiny_imdb = DatasetDict()\n",
        "tiny_imdb['train'] = imdb['train'].shuffle(seed=1).select(range(50))\n",
        "tiny_imdb['validation'] = imdb['validation'].shuffle(seed=1).select(range(10))\n",
        "tiny_imdb['test'] = imdb['test'].shuffle(seed=1).select(range(10))\n",
        "\n",
        "tiny_imdb_encoded = tiny_imdb.map(tokenize_function, batched=True, batch_size=None)\n",
        "tiny_imdb_encoded"
      ],
      "metadata": {
        "id": "Lw_n8OP5yNI6",
        "colab": {
          "base_uri": "https://localhost:8080/",
          "height": 295,
          "referenced_widgets": [
            "a6a18aaf551445b3900d0dfb74bd884c",
            "5a219c16dc454af7a3241a9cdd83d1b0",
            "4b83904917364bc78ad26fcdd5e9af23",
            "8ae1660f41d24fb2a2df472a3c864cbc",
            "644faf133a584cc8a51752dcd4e03421",
            "086fa3cfb6c94eb0a44d8baba6ac6001",
            "92055604c39b4f4ab4fa01f8560f7966",
            "75c374ce969f486a998fd05b908522ae",
            "ddd283590ece47efaadc41930064863e",
            "1d21dda56aa74b8aa2a51c919ac2d3b8",
            "997dd106c1654565b4fdfdf198b8facc",
            "5a0567ca0d09452aa3f6410ff40b8b9e",
            "f8da8d164ae34dc582cd47482195656f",
            "2d8caf6d06204afab893ddc82d71c373",
            "ad98be9557a24ebc9417e42747fcf125",
            "7671f4ea21164d41bbaa2cd51c1d2ed3",
            "984698c6142145e48d59b495d2df64a3",
            "c02a3435898a4e6fb18e8a0ebf875f75",
            "6e207a6a5da64addabb35415ab4860d9",
            "db9f48b291f741d4b12e0fd593792a34",
            "dc38b8b4e7eb4dd883954834f3c7d380",
            "6e816f41a6f64293a5703cb836803cb4"
          ]
        },
        "outputId": "80f2693c-3bc4-431c-b8a9-ed59b03ee4c3"
      },
      "execution_count": 78,
      "outputs": [
        {
          "output_type": "stream",
          "name": "stderr",
          "text": [
            "WARNING:datasets.arrow_dataset:Loading cached shuffled indices for dataset at /root/.cache/huggingface/datasets/imdb/plain_text/1.0.0/d613c88cf8fa3bab83b4ded3713f1f74830d1100e171db75bbddb80b3345c9c0/cache-b143ea289760a98c.arrow\n"
          ]
        },
        {
          "output_type": "display_data",
          "data": {
            "text/plain": [
              "Map:   0%|          | 0/50 [00:00<?, ? examples/s]"
            ],
            "application/vnd.jupyter.widget-view+json": {
              "version_major": 2,
              "version_minor": 0,
              "model_id": "a6a18aaf551445b3900d0dfb74bd884c"
            }
          },
          "metadata": {}
        },
        {
          "output_type": "display_data",
          "data": {
            "text/plain": [
              "Map:   0%|          | 0/10 [00:00<?, ? examples/s]"
            ],
            "application/vnd.jupyter.widget-view+json": {
              "version_major": 2,
              "version_minor": 0,
              "model_id": "5a0567ca0d09452aa3f6410ff40b8b9e"
            }
          },
          "metadata": {}
        },
        {
          "output_type": "stream",
          "name": "stderr",
          "text": [
            "WARNING:datasets.arrow_dataset:Loading cached processed dataset at /root/.cache/huggingface/datasets/imdb/plain_text/1.0.0/d613c88cf8fa3bab83b4ded3713f1f74830d1100e171db75bbddb80b3345c9c0/cache-3428045fb1ee141b.arrow\n"
          ]
        },
        {
          "output_type": "execute_result",
          "data": {
            "text/plain": [
              "DatasetDict({\n",
              "    train: Dataset({\n",
              "        features: ['text', 'label', 'input_ids', 'token_type_ids', 'attention_mask'],\n",
              "        num_rows: 50\n",
              "    })\n",
              "    validation: Dataset({\n",
              "        features: ['text', 'label', 'input_ids', 'token_type_ids', 'attention_mask'],\n",
              "        num_rows: 10\n",
              "    })\n",
              "    test: Dataset({\n",
              "        features: ['text', 'label', 'input_ids', 'token_type_ids', 'attention_mask'],\n",
              "        num_rows: 10\n",
              "    })\n",
              "})"
            ]
          },
          "metadata": {},
          "execution_count": 78
        }
      ]
    },
    {
      "cell_type": "code",
      "source": [
        "from transformers import Trainer, TrainingArguments\n",
        "\n",
        "batch_size = 16\n",
        "logging_steps = len(tiny_imdb_encoded[\"train\"]) // batch_size\n",
        "model_name = f\"{checkpoint}-finetuned-tiny-imdb\"\n",
        "training_args = TrainingArguments(output_dir=model_name,\n",
        "                                  num_train_epochs=2,\n",
        "                                  learning_rate=2e-5,\n",
        "                                  per_device_train_batch_size=batch_size,\n",
        "                                  per_device_eval_batch_size=batch_size,\n",
        "                                  weight_decay=0.01,\n",
        "                                  evaluation_strategy=\"epoch\",\n",
        "                                  disable_tqdm=False,\n",
        "                                  logging_steps=logging_steps,\n",
        "                                  log_level=\"error\",\n",
        "                                  optim='adamw_torch'\n",
        "                                  )\n",
        "training_args"
      ],
      "metadata": {
        "id": "Ch0RWXjpXqMr",
        "colab": {
          "base_uri": "https://localhost:8080/"
        },
        "outputId": "ae431d9a-f63f-43bf-daf3-ebfb155fc252"
      },
      "execution_count": 79,
      "outputs": [
        {
          "output_type": "execute_result",
          "data": {
            "text/plain": [
              "TrainingArguments(\n",
              "_n_gpu=1,\n",
              "adafactor=False,\n",
              "adam_beta1=0.9,\n",
              "adam_beta2=0.999,\n",
              "adam_epsilon=1e-08,\n",
              "auto_find_batch_size=False,\n",
              "bf16=False,\n",
              "bf16_full_eval=False,\n",
              "data_seed=None,\n",
              "dataloader_drop_last=False,\n",
              "dataloader_num_workers=0,\n",
              "dataloader_pin_memory=True,\n",
              "ddp_backend=None,\n",
              "ddp_bucket_cap_mb=None,\n",
              "ddp_find_unused_parameters=None,\n",
              "ddp_timeout=1800,\n",
              "debug=[],\n",
              "deepspeed=None,\n",
              "disable_tqdm=False,\n",
              "do_eval=True,\n",
              "do_predict=False,\n",
              "do_train=False,\n",
              "eval_accumulation_steps=None,\n",
              "eval_delay=0,\n",
              "eval_steps=None,\n",
              "evaluation_strategy=epoch,\n",
              "fp16=False,\n",
              "fp16_backend=auto,\n",
              "fp16_full_eval=False,\n",
              "fp16_opt_level=O1,\n",
              "fsdp=[],\n",
              "fsdp_config={'fsdp_min_num_params': 0, 'xla': False, 'xla_fsdp_grad_ckpt': False},\n",
              "fsdp_min_num_params=0,\n",
              "fsdp_transformer_layer_cls_to_wrap=None,\n",
              "full_determinism=False,\n",
              "gradient_accumulation_steps=1,\n",
              "gradient_checkpointing=False,\n",
              "greater_is_better=None,\n",
              "group_by_length=False,\n",
              "half_precision_backend=auto,\n",
              "hub_model_id=None,\n",
              "hub_private_repo=False,\n",
              "hub_strategy=every_save,\n",
              "hub_token=<HUB_TOKEN>,\n",
              "ignore_data_skip=False,\n",
              "include_inputs_for_metrics=False,\n",
              "jit_mode_eval=False,\n",
              "label_names=None,\n",
              "label_smoothing_factor=0.0,\n",
              "learning_rate=2e-05,\n",
              "length_column_name=length,\n",
              "load_best_model_at_end=False,\n",
              "local_rank=0,\n",
              "log_level=error,\n",
              "log_level_replica=warning,\n",
              "log_on_each_node=True,\n",
              "logging_dir=bert-base-cased-finetuned-tiny-imdb/runs/May28_17-16-00_46b37492b8ea,\n",
              "logging_first_step=False,\n",
              "logging_nan_inf_filter=True,\n",
              "logging_steps=3,\n",
              "logging_strategy=steps,\n",
              "lr_scheduler_type=linear,\n",
              "max_grad_norm=1.0,\n",
              "max_steps=-1,\n",
              "metric_for_best_model=None,\n",
              "mp_parameters=,\n",
              "no_cuda=False,\n",
              "num_train_epochs=2,\n",
              "optim=adamw_torch,\n",
              "optim_args=None,\n",
              "output_dir=bert-base-cased-finetuned-tiny-imdb,\n",
              "overwrite_output_dir=False,\n",
              "past_index=-1,\n",
              "per_device_eval_batch_size=16,\n",
              "per_device_train_batch_size=16,\n",
              "prediction_loss_only=False,\n",
              "push_to_hub=False,\n",
              "push_to_hub_model_id=None,\n",
              "push_to_hub_organization=None,\n",
              "push_to_hub_token=<PUSH_TO_HUB_TOKEN>,\n",
              "ray_scope=last,\n",
              "remove_unused_columns=True,\n",
              "report_to=['tensorboard'],\n",
              "resume_from_checkpoint=None,\n",
              "run_name=bert-base-cased-finetuned-tiny-imdb,\n",
              "save_on_each_node=False,\n",
              "save_safetensors=False,\n",
              "save_steps=500,\n",
              "save_strategy=steps,\n",
              "save_total_limit=None,\n",
              "seed=42,\n",
              "sharded_ddp=[],\n",
              "skip_memory_metrics=True,\n",
              "tf32=None,\n",
              "torch_compile=False,\n",
              "torch_compile_backend=None,\n",
              "torch_compile_mode=None,\n",
              "torchdynamo=None,\n",
              "tpu_metrics_debug=False,\n",
              "tpu_num_cores=None,\n",
              "use_ipex=False,\n",
              "use_legacy_prediction_loop=False,\n",
              "use_mps_device=False,\n",
              "warmup_ratio=0.0,\n",
              "warmup_steps=0,\n",
              "weight_decay=0.01,\n",
              "xpu_backend=None,\n",
              ")"
            ]
          },
          "metadata": {},
          "execution_count": 79
        }
      ]
    },
    {
      "cell_type": "code",
      "source": [
        "from transformers import Trainer\n",
        "\n",
        "torch.cuda.empty_cache()\n",
        "\n",
        "trainer = Trainer(model=model, \n",
        "                  args=training_args, \n",
        "                  train_dataset=tiny_imdb_encoded[\"train\"],\n",
        "                  eval_dataset=tiny_imdb_encoded[\"validation\"],\n",
        "                  tokenizer=tokenizer)\n",
        "trainer.train();"
      ],
      "metadata": {
        "id": "iKMb2xTN0NJ6",
        "colab": {
          "base_uri": "https://localhost:8080/",
          "height": 138
        },
        "outputId": "05e40904-b191-4433-a254-b74ef2993e1c"
      },
      "execution_count": 80,
      "outputs": [
        {
          "output_type": "display_data",
          "data": {
            "text/plain": [
              "<IPython.core.display.HTML object>"
            ],
            "text/html": [
              "\n",
              "    <div>\n",
              "      \n",
              "      <progress value='8' max='8' style='width:300px; height:20px; vertical-align: middle;'></progress>\n",
              "      [8/8 00:02, Epoch 2/2]\n",
              "    </div>\n",
              "    <table border=\"1\" class=\"dataframe\">\n",
              "  <thead>\n",
              " <tr style=\"text-align: left;\">\n",
              "      <th>Epoch</th>\n",
              "      <th>Training Loss</th>\n",
              "      <th>Validation Loss</th>\n",
              "    </tr>\n",
              "  </thead>\n",
              "  <tbody>\n",
              "    <tr>\n",
              "      <td>1</td>\n",
              "      <td>0.697100</td>\n",
              "      <td>0.694700</td>\n",
              "    </tr>\n",
              "    <tr>\n",
              "      <td>2</td>\n",
              "      <td>0.657500</td>\n",
              "      <td>0.693344</td>\n",
              "    </tr>\n",
              "  </tbody>\n",
              "</table><p>"
            ]
          },
          "metadata": {}
        }
      ]
    },
    {
      "cell_type": "code",
      "source": [
        "preds = trainer.predict(tiny_imdb_encoded['test'])\n",
        "preds"
      ],
      "metadata": {
        "id": "Tsy4dR-7ZAv-",
        "colab": {
          "base_uri": "https://localhost:8080/",
          "height": 208
        },
        "outputId": "28ad2d1e-ebb8-4245-e998-17ef67b5b9f9"
      },
      "execution_count": 81,
      "outputs": [
        {
          "output_type": "display_data",
          "data": {
            "text/plain": [
              "<IPython.core.display.HTML object>"
            ],
            "text/html": []
          },
          "metadata": {}
        },
        {
          "output_type": "execute_result",
          "data": {
            "text/plain": [
              "PredictionOutput(predictions=array([[-0.41384098, -0.33897725],\n",
              "       [-0.4066172 , -0.15366302],\n",
              "       [-0.3608241 , -0.40203384],\n",
              "       [-0.38675714, -0.37585154],\n",
              "       [-0.4161703 , -0.3378494 ],\n",
              "       [-0.3421607 , -0.3253234 ],\n",
              "       [-0.35320002, -0.33405244],\n",
              "       [-0.35735655, -0.3682422 ],\n",
              "       [-0.39233404, -0.35897025],\n",
              "       [-0.37178415, -0.3869053 ]], dtype=float32), label_ids=array([0, 0, 1, 1, 0, 0, 0, 0, 1, 0]), metrics={'test_loss': 0.7147935628890991, 'test_runtime': 0.0858, 'test_samples_per_second': 116.553, 'test_steps_per_second': 11.655})"
            ]
          },
          "metadata": {},
          "execution_count": 81
        }
      ]
    },
    {
      "cell_type": "code",
      "source": [
        "preds.predictions.shape"
      ],
      "metadata": {
        "id": "F_gLkCEiZRSp",
        "colab": {
          "base_uri": "https://localhost:8080/"
        },
        "outputId": "1c502fa6-768c-4df7-c2db-50488d6911f5"
      },
      "execution_count": 82,
      "outputs": [
        {
          "output_type": "execute_result",
          "data": {
            "text/plain": [
              "(10, 2)"
            ]
          },
          "metadata": {},
          "execution_count": 82
        }
      ]
    },
    {
      "cell_type": "code",
      "source": [
        "preds.predictions.argmax(axis=-1)"
      ],
      "metadata": {
        "id": "rhEcbSExZaHD",
        "colab": {
          "base_uri": "https://localhost:8080/"
        },
        "outputId": "1cce1208-6852-43fe-d890-8f611f9d00d7"
      },
      "execution_count": 83,
      "outputs": [
        {
          "output_type": "execute_result",
          "data": {
            "text/plain": [
              "array([1, 1, 0, 1, 1, 1, 1, 0, 1, 0])"
            ]
          },
          "metadata": {},
          "execution_count": 83
        }
      ]
    },
    {
      "cell_type": "code",
      "source": [
        "preds.label_ids"
      ],
      "metadata": {
        "id": "tsXFMaTaZfHH",
        "colab": {
          "base_uri": "https://localhost:8080/"
        },
        "outputId": "2dd2155e-13ed-4b00-8d3a-4c0d193e2eb9"
      },
      "execution_count": 84,
      "outputs": [
        {
          "output_type": "execute_result",
          "data": {
            "text/plain": [
              "array([0, 0, 1, 1, 0, 0, 0, 0, 1, 0])"
            ]
          },
          "metadata": {},
          "execution_count": 84
        }
      ]
    },
    {
      "cell_type": "code",
      "source": [
        "from sklearn.metrics import accuracy_score\n",
        "\n",
        "accuracy_score(preds.label_ids, preds.predictions.argmax(axis=-1))"
      ],
      "metadata": {
        "id": "mN4SyJHuZjdd",
        "colab": {
          "base_uri": "https://localhost:8080/"
        },
        "outputId": "f34a4c30-7805-4e10-eac7-18b35f5ac864"
      },
      "execution_count": 85,
      "outputs": [
        {
          "output_type": "execute_result",
          "data": {
            "text/plain": [
              "0.4"
            ]
          },
          "metadata": {},
          "execution_count": 85
        }
      ]
    },
    {
      "cell_type": "code",
      "source": [
        "def get_accuracy(preds):\n",
        "  predictions = preds.predictions.argmax(axis=-1)\n",
        "  labels = preds.label_ids\n",
        "  accuracy = accuracy_score(preds.label_ids, preds.predictions.argmax(axis=-1))\n",
        "  return {'accuracy': accuracy}\n"
      ],
      "metadata": {
        "id": "DXKvztDWZ0tQ"
      },
      "execution_count": 86,
      "outputs": []
    },
    {
      "cell_type": "code",
      "source": [
        "from transformers import Trainer\n",
        "\n",
        "torch.cuda.empty_cache()\n",
        "\n",
        "trainer = Trainer(model=model, \n",
        "                  compute_metrics=get_accuracy,\n",
        "                  args=training_args, \n",
        "                  train_dataset=tiny_imdb_encoded[\"train\"],\n",
        "                  eval_dataset=tiny_imdb_encoded[\"validation\"],\n",
        "                  tokenizer=tokenizer)\n",
        "trainer.train();"
      ],
      "metadata": {
        "id": "f2ItD2XQag5d",
        "colab": {
          "base_uri": "https://localhost:8080/",
          "height": 138
        },
        "outputId": "379d9ea4-9cad-4870-d223-942b8850b51b"
      },
      "execution_count": 87,
      "outputs": [
        {
          "output_type": "display_data",
          "data": {
            "text/plain": [
              "<IPython.core.display.HTML object>"
            ],
            "text/html": [
              "\n",
              "    <div>\n",
              "      \n",
              "      <progress value='8' max='8' style='width:300px; height:20px; vertical-align: middle;'></progress>\n",
              "      [8/8 00:02, Epoch 2/2]\n",
              "    </div>\n",
              "    <table border=\"1\" class=\"dataframe\">\n",
              "  <thead>\n",
              " <tr style=\"text-align: left;\">\n",
              "      <th>Epoch</th>\n",
              "      <th>Training Loss</th>\n",
              "      <th>Validation Loss</th>\n",
              "      <th>Accuracy</th>\n",
              "    </tr>\n",
              "  </thead>\n",
              "  <tbody>\n",
              "    <tr>\n",
              "      <td>1</td>\n",
              "      <td>0.630000</td>\n",
              "      <td>0.661370</td>\n",
              "      <td>0.600000</td>\n",
              "    </tr>\n",
              "    <tr>\n",
              "      <td>2</td>\n",
              "      <td>0.578300</td>\n",
              "      <td>0.674024</td>\n",
              "      <td>0.600000</td>\n",
              "    </tr>\n",
              "  </tbody>\n",
              "</table><p>"
            ]
          },
          "metadata": {}
        }
      ]
    },
    {
      "cell_type": "markdown",
      "source": [
        "## Training run"
      ],
      "metadata": {
        "id": "bFKPj95ObT89"
      }
    },
    {
      "cell_type": "code",
      "source": [
        "batch_size = 8\n",
        "logging_steps = len(imdb_encoded[\"train\"]) // batch_size\n",
        "model_name = f\"{checkpoint}-finetuned-imdb\"\n",
        "training_args = TrainingArguments(output_dir=model_name,\n",
        "                                  num_train_epochs=2,\n",
        "                                  learning_rate=2e-5,\n",
        "                                  per_device_train_batch_size=batch_size,\n",
        "                                  per_device_eval_batch_size=batch_size,\n",
        "                                  weight_decay=0.01,\n",
        "                                  evaluation_strategy=\"epoch\",\n",
        "                                  disable_tqdm=False,\n",
        "                                  logging_steps=logging_steps,\n",
        "                                  log_level=\"error\",\n",
        "                                  optim='adamw_torch'\n",
        "                                  )"
      ],
      "metadata": {
        "id": "VeR9PTxMz-zA"
      },
      "execution_count": 88,
      "outputs": []
    },
    {
      "cell_type": "code",
      "source": [
        "from transformers import Trainer\n",
        "\n",
        "torch.cuda.empty_cache()\n",
        "\n",
        "trainer = Trainer(model=model, \n",
        "                  args=training_args, \n",
        "                  compute_metrics=get_accuracy,\n",
        "                  train_dataset=imdb_encoded[\"train\"],\n",
        "                  eval_dataset=imdb_encoded[\"validation\"],\n",
        "                  tokenizer=tokenizer)\n",
        "trainer.train();"
      ],
      "metadata": {
        "id": "w-mrYweVL_9F",
        "colab": {
          "base_uri": "https://localhost:8080/",
          "height": 138
        },
        "outputId": "39b8771f-bd37-4836-9d2c-25540c372fa3"
      },
      "execution_count": 89,
      "outputs": [
        {
          "output_type": "display_data",
          "data": {
            "text/plain": [
              "<IPython.core.display.HTML object>"
            ],
            "text/html": [
              "\n",
              "    <div>\n",
              "      \n",
              "      <progress value='400' max='400' style='width:300px; height:20px; vertical-align: middle;'></progress>\n",
              "      [400/400 01:28, Epoch 2/2]\n",
              "    </div>\n",
              "    <table border=\"1\" class=\"dataframe\">\n",
              "  <thead>\n",
              " <tr style=\"text-align: left;\">\n",
              "      <th>Epoch</th>\n",
              "      <th>Training Loss</th>\n",
              "      <th>Validation Loss</th>\n",
              "      <th>Accuracy</th>\n",
              "    </tr>\n",
              "  </thead>\n",
              "  <tbody>\n",
              "    <tr>\n",
              "      <td>1</td>\n",
              "      <td>0.461700</td>\n",
              "      <td>0.415688</td>\n",
              "      <td>0.847500</td>\n",
              "    </tr>\n",
              "    <tr>\n",
              "      <td>2</td>\n",
              "      <td>0.209300</td>\n",
              "      <td>0.496716</td>\n",
              "      <td>0.880000</td>\n",
              "    </tr>\n",
              "  </tbody>\n",
              "</table><p>"
            ]
          },
          "metadata": {}
        }
      ]
    },
    {
      "cell_type": "code",
      "source": [
        "\n",
        "\n",
        "trainer.evaluate()"
      ],
      "metadata": {
        "id": "79fBSXBGlkiF",
        "colab": {
          "base_uri": "https://localhost:8080/",
          "height": 141
        },
        "outputId": "39f62f4e-666e-4942-8a7d-00d79b20a9c4"
      },
      "execution_count": 90,
      "outputs": [
        {
          "output_type": "display_data",
          "data": {
            "text/plain": [
              "<IPython.core.display.HTML object>"
            ],
            "text/html": [
              "\n",
              "    <div>\n",
              "      \n",
              "      <progress value='50' max='50' style='width:300px; height:20px; vertical-align: middle;'></progress>\n",
              "      [50/50 00:03]\n",
              "    </div>\n",
              "    "
            ]
          },
          "metadata": {}
        },
        {
          "output_type": "execute_result",
          "data": {
            "text/plain": [
              "{'eval_loss': 0.49671608209609985,\n",
              " 'eval_accuracy': 0.88,\n",
              " 'eval_runtime': 3.4652,\n",
              " 'eval_samples_per_second': 115.432,\n",
              " 'eval_steps_per_second': 14.429,\n",
              " 'epoch': 2.0}"
            ]
          },
          "metadata": {},
          "execution_count": 90
        }
      ]
    },
    {
      "cell_type": "code",
      "source": [
        "trainer.save_model()"
      ],
      "metadata": {
        "id": "C_rZFIbXL73P"
      },
      "execution_count": 91,
      "outputs": []
    },
    {
      "cell_type": "code",
      "source": [
        "model_name"
      ],
      "metadata": {
        "id": "nbo96MxTAulG",
        "colab": {
          "base_uri": "https://localhost:8080/",
          "height": 35
        },
        "outputId": "3c3b98db-0354-42f6-e3dd-2ee19a8d1914"
      },
      "execution_count": 92,
      "outputs": [
        {
          "output_type": "execute_result",
          "data": {
            "text/plain": [
              "'bert-base-cased-finetuned-imdb'"
            ],
            "application/vnd.google.colaboratory.intrinsic+json": {
              "type": "string"
            }
          },
          "metadata": {},
          "execution_count": 92
        }
      ]
    },
    {
      "cell_type": "code",
      "source": [
        "from transformers import pipeline\n",
        "classifier = pipeline('text-classification', model=model_name)\n",
        "classifier('This is not my idea of fun')"
      ],
      "metadata": {
        "id": "2LGdWc2-MzyP",
        "colab": {
          "base_uri": "https://localhost:8080/"
        },
        "outputId": "6de5f173-4881-4838-92a3-ea94ffa51157"
      },
      "execution_count": 93,
      "outputs": [
        {
          "output_type": "execute_result",
          "data": {
            "text/plain": [
              "[{'label': 'LABEL_0', 'score': 0.893162190914154}]"
            ]
          },
          "metadata": {},
          "execution_count": 93
        }
      ]
    },
    {
      "cell_type": "code",
      "source": [
        "classifier('This was beyond incredible')"
      ],
      "metadata": {
        "id": "0qniEZcAMCLK",
        "colab": {
          "base_uri": "https://localhost:8080/"
        },
        "outputId": "09bb640d-0228-4ca5-8165-56000ff9efd1"
      },
      "execution_count": 94,
      "outputs": [
        {
          "output_type": "execute_result",
          "data": {
            "text/plain": [
              "[{'label': 'LABEL_1', 'score': 0.9091742634773254}]"
            ]
          },
          "metadata": {},
          "execution_count": 94
        }
      ]
    }
  ]
}