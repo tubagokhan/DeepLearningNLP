{
 "cells": [
  {
   "cell_type": "markdown",
   "metadata": {
    "id": "su3bfBDiRK9L"
   },
   "source": [
    "# Word Encodings\n",
    "\n",
    "The notebooks explains the implementation of word encodings in NLP using the tensorflow library."
   ]
  },
  {
   "cell_type": "markdown",
   "metadata": {
    "id": "V1vpla79AfJj"
   },
   "source": [
    "## Import libraries and APIs"
   ]
  },
  {
   "cell_type": "code",
   "execution_count": 1,
   "metadata": {
    "id": "dVGySTYgyVgW"
   },
   "outputs": [],
   "source": [
    "## import the tensorflow APIs\n",
    "import tensorflow as tf\n",
    "from tensorflow import keras\n",
    "from tensorflow.keras.preprocessing.text import Tokenizer\n",
    "from tensorflow.keras.preprocessing.sequence import pad_sequences"
   ]
  },
  {
   "cell_type": "markdown",
   "metadata": {
    "id": "ogxDv27ZAiOc"
   },
   "source": [
    "## Define training sentences"
   ]
  },
  {
   "cell_type": "code",
   "execution_count": 2,
   "metadata": {
    "id": "oC-bEci9Q-EI"
   },
   "outputs": [],
   "source": [
    "train_sentences = [\n",
    "             'It will rain',\n",
    "             'The weather is cloudy!',\n",
    "             'Will it be raining today?',\n",
    "             'It is a super hot day!',\n",
    "]"
   ]
  },
  {
   "cell_type": "markdown",
   "metadata": {
    "id": "FPwnd4K1AjXM"
   },
   "source": [
    "## Set up the tokenizer"
   ]
  },
  {
   "cell_type": "code",
   "execution_count": 3,
   "metadata": {
    "id": "GbEn11WiT5Sp"
   },
   "outputs": [],
   "source": [
    "##instantiate the tokenizer\n",
    "tokenizer = Tokenizer(num_words=100)\n",
    "\n",
    "##train the tokenizer on training sentences\n",
    "tokenizer.fit_on_texts(train_sentences)\n",
    "\n",
    "##store word index for the words in the sentence\n",
    "word_index = tokenizer.word_index\n"
   ]
  },
  {
   "cell_type": "code",
   "execution_count": 4,
   "metadata": {
    "colab": {
     "base_uri": "https://localhost:8080/"
    },
    "id": "0zZR31LAUM4p",
    "outputId": "2fdf02ce-9be4-44c6-ba93-59460816e119"
   },
   "outputs": [
    {
     "name": "stdout",
     "output_type": "stream",
     "text": [
      "{'it': 1, 'will': 2, 'is': 3, 'rain': 4, 'the': 5, 'weather': 6, 'cloudy': 7, 'be': 8, 'raining': 9, 'today': 10, 'a': 11, 'super': 12, 'hot': 13, 'day': 14}\n"
     ]
    }
   ],
   "source": [
    "print(word_index)"
   ]
  },
  {
   "cell_type": "markdown",
   "metadata": {
    "id": "ummZO9QPTW2h"
   },
   "source": [
    "## Create sequences"
   ]
  },
  {
   "cell_type": "code",
   "execution_count": 5,
   "metadata": {},
   "outputs": [],
   "source": [
    "##create sequences using tokenizer\n",
    "sequences = tokenizer.texts_to_sequences(train_sentences)"
   ]
  },
  {
   "cell_type": "code",
   "execution_count": 6,
   "metadata": {},
   "outputs": [
    {
     "name": "stdout",
     "output_type": "stream",
     "text": [
      "Word index -->{'it': 1, 'will': 2, 'is': 3, 'rain': 4, 'the': 5, 'weather': 6, 'cloudy': 7, 'be': 8, 'raining': 9, 'today': 10, 'a': 11, 'super': 12, 'hot': 13, 'day': 14}\n",
      "Sequences of words -->[[1, 2, 4], [5, 6, 3, 7], [2, 1, 8, 9, 10], [1, 3, 11, 12, 13, 14]]\n"
     ]
    }
   ],
   "source": [
    "##print word index dictionary and sequences\n",
    "print(f\"Word index -->{word_index}\")\n",
    "print(f\"Sequences of words -->{sequences}\")"
   ]
  },
  {
   "cell_type": "code",
   "execution_count": 7,
   "metadata": {},
   "outputs": [
    {
     "name": "stdout",
     "output_type": "stream",
     "text": [
      "It will rain\n",
      "[1, 2, 4]\n"
     ]
    }
   ],
   "source": [
    "##print sample sentence and sequence\n",
    "print(train_sentences[0])\n",
    "print(sequences[0])"
   ]
  },
  {
   "cell_type": "markdown",
   "metadata": {},
   "source": [
    "## Tokenizing new data using the same tokenizer"
   ]
  },
  {
   "cell_type": "code",
   "execution_count": 8,
   "metadata": {},
   "outputs": [
    {
     "name": "stdout",
     "output_type": "stream",
     "text": [
      "['Will it be raining today?', 'It is a pleasant day.']\n",
      "[[2, 1, 8, 9, 10], [1, 3, 11, 14]]\n"
     ]
    }
   ],
   "source": [
    "new_sentences = [\n",
    "                 'Will it be raining today?',\n",
    "                 'It is a pleasant day.'\n",
    "]\n",
    "\n",
    "new_sequences = tokenizer.texts_to_sequences(new_sentences) # Be carefull, there is missing values because they are first time appear\n",
    "\n",
    "print(new_sentences)\n",
    "print(new_sequences)"
   ]
  },
  {
   "cell_type": "markdown",
   "metadata": {},
   "source": [
    "## Replacing newly encountered words with special values | Train the tokenizer"
   ]
  },
  {
   "cell_type": "code",
   "execution_count": 9,
   "metadata": {},
   "outputs": [],
   "source": [
    "##set up the tokenizer again with oov_token\n",
    "tokenizer = Tokenizer(num_words=100, oov_token= \"<oov>\")\n",
    "\n",
    "##train the new tokenizer on training sentences\n",
    "tokenizer.fit_on_texts(train_sentences)\n",
    "\n",
    "##store word index for the words in the sentence\n",
    "word_index = tokenizer.word_index"
   ]
  },
  {
   "cell_type": "code",
   "execution_count": 10,
   "metadata": {},
   "outputs": [
    {
     "name": "stdout",
     "output_type": "stream",
     "text": [
      "{'<oov>': 1, 'it': 2, 'will': 3, 'is': 4, 'rain': 5, 'the': 6, 'weather': 7, 'cloudy': 8, 'be': 9, 'raining': 10, 'today': 11, 'a': 12, 'super': 13, 'hot': 14, 'day': 15}\n",
      "[[3, 2, 9, 10, 11], [2, 4, 12, 1, 15]]\n"
     ]
    }
   ],
   "source": [
    "##create sequences of the new sentences\n",
    "new_sequences = tokenizer.texts_to_sequences(new_sentences)\n",
    "print(word_index)\n",
    "print(new_sequences)"
   ]
  },
  {
   "cell_type": "markdown",
   "metadata": {},
   "source": [
    "## Pad Sequences"
   ]
  },
  {
   "cell_type": "code",
   "execution_count": 11,
   "metadata": {},
   "outputs": [],
   "source": [
    "##pad sequences\n",
    "padded_seqs = pad_sequences(sequences)"
   ]
  },
  {
   "cell_type": "code",
   "execution_count": 12,
   "metadata": {},
   "outputs": [
    {
     "name": "stdout",
     "output_type": "stream",
     "text": [
      "{'<oov>': 1, 'it': 2, 'will': 3, 'is': 4, 'rain': 5, 'the': 6, 'weather': 7, 'cloudy': 8, 'be': 9, 'raining': 10, 'today': 11, 'a': 12, 'super': 13, 'hot': 14, 'day': 15}\n",
      "['It will rain', 'The weather is cloudy!', 'Will it be raining today?', 'It is a super hot day!']\n",
      "[[1, 2, 4], [5, 6, 3, 7], [2, 1, 8, 9, 10], [1, 3, 11, 12, 13, 14]]\n",
      "[[ 0  0  0  1  2  4]\n",
      " [ 0  0  5  6  3  7]\n",
      " [ 0  2  1  8  9 10]\n",
      " [ 1  3 11 12 13 14]]\n"
     ]
    }
   ],
   "source": [
    "print(word_index)\n",
    "print(train_sentences)\n",
    "print(sequences)\n",
    "print(padded_seqs)"
   ]
  },
  {
   "cell_type": "markdown",
   "metadata": {},
   "source": [
    "## Customising your padded sequence with parameters"
   ]
  },
  {
   "cell_type": "code",
   "execution_count": 13,
   "metadata": {},
   "outputs": [],
   "source": [
    "##pad sequences with padding type, max length and truncating parameters\n",
    "padded_seqs = pad_sequences(sequences,\n",
    "                            padding=\"post\",\n",
    "                            maxlen=5,\n",
    "                            truncating=\"post\",\n",
    "                            )"
   ]
  },
  {
   "cell_type": "code",
   "execution_count": 14,
   "metadata": {},
   "outputs": [
    {
     "name": "stdout",
     "output_type": "stream",
     "text": [
      "[[ 1  2  4  0  0]\n",
      " [ 5  6  3  7  0]\n",
      " [ 2  1  8  9 10]\n",
      " [ 1  3 11 12 13]]\n"
     ]
    }
   ],
   "source": [
    "print(padded_seqs)"
   ]
  },
  {
   "cell_type": "code",
   "execution_count": null,
   "metadata": {},
   "outputs": [],
   "source": []
  }
 ],
 "metadata": {
  "colab": {
   "authorship_tag": "ABX9TyMQa1R7+4B+O9SSvbP6C4r1",
   "collapsed_sections": [],
   "include_colab_link": true,
   "name": "01_02_begin.ipynb",
   "provenance": []
  },
  "kernelspec": {
   "display_name": "Python 3",
   "language": "python",
   "name": "python3"
  },
  "language_info": {
   "codemirror_mode": {
    "name": "ipython",
    "version": 3
   },
   "file_extension": ".py",
   "mimetype": "text/x-python",
   "name": "python",
   "nbconvert_exporter": "python",
   "pygments_lexer": "ipython3",
   "version": "3.8.5"
  }
 },
 "nbformat": 4,
 "nbformat_minor": 1
}
